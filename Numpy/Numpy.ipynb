{
 "cells": [
  {
   "cell_type": "markdown",
   "id": "3f46a947-2999-4f42-8c2c-edbbb4469211",
   "metadata": {},
   "source": [
    "# Numpy Array"
   ]
  },
  {
   "cell_type": "markdown",
   "id": "c152bcd6-b001-4e14-aa4f-2d41c522678d",
   "metadata": {},
   "source": [
    "  "
   ]
  },
  {
   "cell_type": "code",
   "execution_count": 1,
   "id": "c8009d09",
   "metadata": {},
   "outputs": [
    {
     "name": "stdout",
     "output_type": "stream",
     "text": [
      "Welcome to Machine Learning\n"
     ]
    }
   ],
   "source": [
    "print(\"Welcome to Machine Learning\")"
   ]
  },
  {
   "cell_type": "code",
   "execution_count": 2,
   "id": "1fb62bae-5468-456e-8594-e347bf49804d",
   "metadata": {},
   "outputs": [],
   "source": [
    "import numpy as np\n"
   ]
  },
  {
   "cell_type": "markdown",
   "id": "a282d697-725e-40e6-aec3-adfcff803379",
   "metadata": {},
   "source": [
    "## Array Creation"
   ]
  },
  {
   "cell_type": "markdown",
   "id": "207f13d7-0fbf-401e-ac09-b1a2ecc95973",
   "metadata": {},
   "source": [
    " "
   ]
  },
  {
   "cell_type": "markdown",
   "id": "f6844683-1c6b-40bf-9631-e3ae22b09899",
   "metadata": {},
   "source": [
    "**Array Dimension**"
   ]
  },
  {
   "cell_type": "code",
   "execution_count": 3,
   "id": "31e50c82",
   "metadata": {},
   "outputs": [],
   "source": [
    "import numpy as np"
   ]
  },
  {
   "cell_type": "code",
   "execution_count": 4,
   "id": "0e5af9a5-62a0-46f7-ab8b-75eca4e3097c",
   "metadata": {},
   "outputs": [
    {
     "data": {
      "text/plain": [
       "array([1])"
      ]
     },
     "execution_count": 4,
     "metadata": {},
     "output_type": "execute_result"
    }
   ],
   "source": [
    "# 0-d array\n",
    "a = np.array([1])\n",
    "a\n"
   ]
  },
  {
   "cell_type": "code",
   "execution_count": 5,
   "id": "835c3d89",
   "metadata": {},
   "outputs": [
    {
     "name": "stdout",
     "output_type": "stream",
     "text": [
      "[1 2 3 4]\n"
     ]
    }
   ],
   "source": [
    "# 1-d array (Scalar or zero Rank tensor)\n",
    "a= np.array([1,2,3,4])\n",
    "print(a)"
   ]
  },
  {
   "cell_type": "code",
   "execution_count": 85,
   "id": "5437782a",
   "metadata": {},
   "outputs": [
    {
     "data": {
      "text/plain": [
       "array([[1, 2, 3],\n",
       "       [5, 6, 7]])"
      ]
     },
     "execution_count": 85,
     "metadata": {},
     "output_type": "execute_result"
    }
   ],
   "source": [
    "# 2-d array  (vector or 1st Rank tensor)\n",
    "b = np.array([[1,2,3],[5,6,7]])\n",
    "b"
   ]
  },
  {
   "cell_type": "code",
   "execution_count": 163,
   "id": "d71c8aa9-c6e0-44b6-a446-e40fd18fbfef",
   "metadata": {},
   "outputs": [
    {
     "data": {
      "text/plain": [
       "array([[[ 1,  2,  3],\n",
       "        [ 4,  5,  6]],\n",
       "\n",
       "       [[ 4,  3,  2],\n",
       "        [ 7, 64,  4]]])"
      ]
     },
     "execution_count": 163,
     "metadata": {},
     "output_type": "execute_result"
    }
   ],
   "source": [
    "#3-d array  (tesnsor)\n",
    "c = np.array([[[1,2,3],[4,5,6]],[[4,3,2],[7,64,4]]])\n",
    "c"
   ]
  },
  {
   "cell_type": "markdown",
   "id": "7ac8f1cf-535a-4939-9bdc-05aa75502672",
   "metadata": {},
   "source": [
    "**np.ones and np.zeros**"
   ]
  },
  {
   "cell_type": "code",
   "execution_count": 164,
   "id": "6b612196-cf42-4e12-b334-1dbdfde6e796",
   "metadata": {},
   "outputs": [
    {
     "data": {
      "text/plain": [
       "array([0., 0., 0., 0., 0., 0., 0., 0., 0., 0.])"
      ]
     },
     "execution_count": 164,
     "metadata": {},
     "output_type": "execute_result"
    }
   ],
   "source": [
    "np.zeros((10))"
   ]
  },
  {
   "cell_type": "code",
   "execution_count": 165,
   "id": "b00789af-6551-4887-872b-cf8d017fc00a",
   "metadata": {},
   "outputs": [
    {
     "data": {
      "text/plain": [
       "array([[0., 0., 0., 0., 0.],\n",
       "       [0., 0., 0., 0., 0.],\n",
       "       [0., 0., 0., 0., 0.],\n",
       "       [0., 0., 0., 0., 0.]])"
      ]
     },
     "execution_count": 165,
     "metadata": {},
     "output_type": "execute_result"
    }
   ],
   "source": [
    "np.zeros((4,5))"
   ]
  },
  {
   "cell_type": "code",
   "execution_count": 240,
   "id": "c1669a3d-5898-4cf7-afd3-5aaa5947899e",
   "metadata": {},
   "outputs": [
    {
     "data": {
      "text/plain": [
       "array([[0., 0., 0., 0.],\n",
       "       [0., 0., 0., 0.],\n",
       "       [0., 0., 0., 0.]])"
      ]
     },
     "execution_count": 240,
     "metadata": {},
     "output_type": "execute_result"
    }
   ],
   "source": [
    "np.zeros((2,6)).reshape(3,4)"
   ]
  },
  {
   "cell_type": "code",
   "execution_count": 241,
   "id": "893a19ef-4280-43d6-a34f-687bdd346a12",
   "metadata": {},
   "outputs": [
    {
     "data": {
      "text/plain": [
       "array([[0, 0, 0],\n",
       "       [0, 0, 0],\n",
       "       [0, 0, 0],\n",
       "       [0, 0, 0]])"
      ]
     },
     "execution_count": 241,
     "metadata": {},
     "output_type": "execute_result"
    }
   ],
   "source": [
    "np.zeros((4,3),dtype=\"int\")"
   ]
  },
  {
   "cell_type": "code",
   "execution_count": 168,
   "id": "3bf81782-a818-40bf-aa5a-9fbc9c2f90c1",
   "metadata": {},
   "outputs": [
    {
     "data": {
      "text/plain": [
       "array([[1., 1., 1., 1., 1., 1., 1., 1., 1., 1.],\n",
       "       [1., 1., 1., 1., 1., 1., 1., 1., 1., 1.]])"
      ]
     },
     "execution_count": 168,
     "metadata": {},
     "output_type": "execute_result"
    }
   ],
   "source": [
    "np.ones((2,10))"
   ]
  },
  {
   "cell_type": "code",
   "execution_count": 169,
   "id": "89d41ffe-d59e-4d2a-abe4-0228476fc972",
   "metadata": {},
   "outputs": [
    {
     "data": {
      "text/plain": [
       "array([[1., 1., 1., 1., 1., 1.],\n",
       "       [1., 1., 1., 1., 1., 1.],\n",
       "       [1., 1., 1., 1., 1., 1.],\n",
       "       [1., 1., 1., 1., 1., 1.]])"
      ]
     },
     "execution_count": 169,
     "metadata": {},
     "output_type": "execute_result"
    }
   ],
   "source": [
    "np.ones((4,6))"
   ]
  },
  {
   "cell_type": "code",
   "execution_count": 170,
   "id": "8869aaca-ce18-467a-aa70-8078c12e39f2",
   "metadata": {},
   "outputs": [
    {
     "data": {
      "text/plain": [
       "array([1., 1., 1., 1., 1., 1., 1., 1.])"
      ]
     },
     "execution_count": 170,
     "metadata": {},
     "output_type": "execute_result"
    }
   ],
   "source": [
    "np.ones((2,4)).reshape(8)"
   ]
  },
  {
   "cell_type": "code",
   "execution_count": 171,
   "id": "da3d3f20-fe89-4832-9542-69d71b75139a",
   "metadata": {},
   "outputs": [
    {
     "data": {
      "text/plain": [
       "array([[1, 1, 1, 1],\n",
       "       [1, 1, 1, 1]])"
      ]
     },
     "execution_count": 171,
     "metadata": {},
     "output_type": "execute_result"
    }
   ],
   "source": [
    "np.ones((2,4),dtype=\"int\")"
   ]
  },
  {
   "cell_type": "code",
   "execution_count": 172,
   "id": "eb312017-b825-48eb-9fc1-90980af1ff5f",
   "metadata": {},
   "outputs": [
    {
     "data": {
      "text/plain": [
       "dtype('float64')"
      ]
     },
     "execution_count": 172,
     "metadata": {},
     "output_type": "execute_result"
    }
   ],
   "source": [
    "x = np.ones((2,3))\n",
    "x.dtype\n"
   ]
  },
  {
   "cell_type": "markdown",
   "id": "ff6a3a6a-5c94-4c96-a7fc-d04ef8cd0b59",
   "metadata": {},
   "source": [
    "  "
   ]
  },
  {
   "cell_type": "markdown",
   "id": "7eea7336-5567-4bcd-af09-56b33298128f",
   "metadata": {},
   "source": [
    "**Random , linespace and identity**"
   ]
  },
  {
   "cell_type": "code",
   "execution_count": 4,
   "id": "2d4b38f7-de64-4528-bfd3-71f9e74c3b53",
   "metadata": {},
   "outputs": [
    {
     "data": {
      "text/plain": [
       "array([[0.45979709, 0.38921172],\n",
       "       [0.19609882, 0.00773662],\n",
       "       [0.72222341, 0.88661371]])"
      ]
     },
     "execution_count": 4,
     "metadata": {},
     "output_type": "execute_result"
    }
   ],
   "source": [
    "np.random.random((3,2))"
   ]
  },
  {
   "cell_type": "markdown",
   "id": "2512058b-6274-488c-9f54-02ae5f649b45",
   "metadata": {},
   "source": [
    "linear space = it will provide you the nos. between a range and nos. are placed with a equal length in the range"
   ]
  },
  {
   "cell_type": "code",
   "execution_count": 174,
   "id": "6204b622-b372-4ac5-b7b6-b4595527d75b",
   "metadata": {},
   "outputs": [
    {
     "name": "stdout",
     "output_type": "stream",
     "text": [
      "[-10.  -5.   0.   5.  10.  15.  20.]\n"
     ]
    }
   ],
   "source": [
    "out = np.linspace(-10,20,7)\n",
    "print(out)"
   ]
  },
  {
   "cell_type": "code",
   "execution_count": 175,
   "id": "2206751b-0413-40a6-8425-a77c346b76a5",
   "metadata": {},
   "outputs": [
    {
     "name": "stdout",
     "output_type": "stream",
     "text": [
      "[-10.          -7.77777778  -5.55555556  -3.33333333  -1.11111111\n",
      "   1.11111111   3.33333333   5.55555556   7.77777778  10.        ]\n"
     ]
    }
   ],
   "source": [
    "import numpy as np\n",
    "\n",
    "# Corrected function call\n",
    "result = np.linspace(-10, 10, 10)\n",
    "print(result)"
   ]
  },
  {
   "cell_type": "code",
   "execution_count": 176,
   "id": "87a52a9f-23b8-4c3d-a1cd-661f6289d74c",
   "metadata": {},
   "outputs": [
    {
     "data": {
      "text/plain": [
       "array([[1., 0., 0.],\n",
       "       [0., 1., 0.],\n",
       "       [0., 0., 1.]])"
      ]
     },
     "execution_count": 176,
     "metadata": {},
     "output_type": "execute_result"
    }
   ],
   "source": [
    "np.identity((3))"
   ]
  },
  {
   "cell_type": "markdown",
   "id": "4cddcc8f-121f-43ab-8a3a-30d5ccd4603b",
   "metadata": {},
   "source": [
    "     "
   ]
  },
  {
   "cell_type": "markdown",
   "id": "39f58f92-f3ff-4f44-a98b-7dc81c8b93ed",
   "metadata": {},
   "source": [
    "  "
   ]
  },
  {
   "cell_type": "markdown",
   "id": "a8e85398-988e-4a50-8654-0869b8b9d387",
   "metadata": {
    "jp-MarkdownHeadingCollapsed": true
   },
   "source": [
    "## Array Attributes"
   ]
  },
  {
   "cell_type": "markdown",
   "id": "87ed278f-4c2c-4d1e-af9b-484ab7b859f4",
   "metadata": {},
   "source": [
    "   "
   ]
  },
  {
   "cell_type": "markdown",
   "id": "c625e43c-f5f7-46db-93d1-a03c348f6cfb",
   "metadata": {},
   "source": [
    "**ndim = No. of dimensions**"
   ]
  },
  {
   "cell_type": "code",
   "execution_count": 177,
   "id": "c29b080a-315d-4a3f-9f4a-bd50b626c147",
   "metadata": {},
   "outputs": [
    {
     "name": "stdout",
     "output_type": "stream",
     "text": [
      "2\n"
     ]
    }
   ],
   "source": [
    "print(a.ndim)"
   ]
  },
  {
   "cell_type": "code",
   "execution_count": 178,
   "id": "a0ccc10c-e87f-4d6b-a349-0e0d80c2e63f",
   "metadata": {},
   "outputs": [
    {
     "data": {
      "text/plain": [
       "2"
      ]
     },
     "execution_count": 178,
     "metadata": {},
     "output_type": "execute_result"
    }
   ],
   "source": [
    "b.ndim"
   ]
  },
  {
   "cell_type": "code",
   "execution_count": 179,
   "id": "160c24c7-a7bb-40c4-a974-4eacd1ea3106",
   "metadata": {},
   "outputs": [
    {
     "data": {
      "text/plain": [
       "3"
      ]
     },
     "execution_count": 179,
     "metadata": {},
     "output_type": "execute_result"
    }
   ],
   "source": [
    "c.ndim"
   ]
  },
  {
   "cell_type": "markdown",
   "id": "0e688ccf-08e9-4702-88ae-2df1137ea6db",
   "metadata": {},
   "source": [
    "  "
   ]
  },
  {
   "cell_type": "markdown",
   "id": "a71235d5-8e26-4f44-a231-6688457750ae",
   "metadata": {},
   "source": [
    "**ndmin = set any dimension to an array**"
   ]
  },
  {
   "cell_type": "code",
   "execution_count": 180,
   "id": "41719bbd-c89a-417f-b935-5a6fa8cba39f",
   "metadata": {},
   "outputs": [
    {
     "data": {
      "text/plain": [
       "array([[[[[[[[[[1, 2, 3]]]]]]]]]])"
      ]
     },
     "execution_count": 180,
     "metadata": {},
     "output_type": "execute_result"
    }
   ],
   "source": [
    "x= np.array([1,2,3],ndmin=10)\n",
    "x"
   ]
  },
  {
   "cell_type": "code",
   "execution_count": 181,
   "id": "d3f75769-e6c8-41ca-8f4f-4cbe48bede4b",
   "metadata": {},
   "outputs": [
    {
     "data": {
      "text/plain": [
       "array([[[1, 2, 3]]])"
      ]
     },
     "execution_count": 181,
     "metadata": {},
     "output_type": "execute_result"
    }
   ],
   "source": [
    "y= np.array([1,2,3],ndmin=3)\n",
    "y"
   ]
  },
  {
   "cell_type": "markdown",
   "id": "5e49ea53-c3e6-4aa6-8f2a-656bff05f8d3",
   "metadata": {},
   "source": [
    "  "
   ]
  },
  {
   "cell_type": "markdown",
   "id": "06c87efe-c021-4e19-baf2-cc15655ab695",
   "metadata": {},
   "source": [
    "**dtype & astype**"
   ]
  },
  {
   "cell_type": "code",
   "execution_count": 182,
   "id": "98542602-1bec-4628-a3db-77fe36a8d252",
   "metadata": {},
   "outputs": [
    {
     "data": {
      "text/plain": [
       "dtype('int32')"
      ]
     },
     "execution_count": 182,
     "metadata": {},
     "output_type": "execute_result"
    }
   ],
   "source": [
    "n = np.array([1,2,3])\n",
    "n.dtype"
   ]
  },
  {
   "cell_type": "code",
   "execution_count": 183,
   "id": "a87f4f94-41c8-4f7f-8778-083a3fdde90c",
   "metadata": {},
   "outputs": [
    {
     "data": {
      "text/plain": [
       "dtype('float64')"
      ]
     },
     "execution_count": 183,
     "metadata": {},
     "output_type": "execute_result"
    }
   ],
   "source": [
    "n =np.array([1.2,2.3,4.1])\n",
    "n.dtype"
   ]
  },
  {
   "cell_type": "markdown",
   "id": "5e39f366-5ee7-4dd0-9313-b20ea5b8e9bd",
   "metadata": {},
   "source": [
    "*set dtype*"
   ]
  },
  {
   "cell_type": "code",
   "execution_count": 184,
   "id": "49245880-8f6c-4f87-9acf-1c6d3e9069ee",
   "metadata": {},
   "outputs": [
    {
     "data": {
      "text/plain": [
       "array([1., 3., 2.])"
      ]
     },
     "execution_count": 184,
     "metadata": {},
     "output_type": "execute_result"
    }
   ],
   "source": [
    "n = np.array([1,3,2],dtype =\"float\")\n",
    "n.dtype\n",
    "n"
   ]
  },
  {
   "cell_type": "code",
   "execution_count": 185,
   "id": "012c7a9c-c6bb-4d49-9548-cac9ee1dad52",
   "metadata": {},
   "outputs": [
    {
     "data": {
      "text/plain": [
       "array([1.+0.j, 3.+0.j, 2.+0.j])"
      ]
     },
     "execution_count": 185,
     "metadata": {},
     "output_type": "execute_result"
    }
   ],
   "source": [
    "n = np.array([1,3,2],dtype =\"complex\")\n",
    "n.dtype\n",
    "n"
   ]
  },
  {
   "cell_type": "code",
   "execution_count": 186,
   "id": "f2d47ef0-2780-4bed-8117-3e84b7be8d88",
   "metadata": {},
   "outputs": [
    {
     "data": {
      "text/plain": [
       "array([1., 2., 3.])"
      ]
     },
     "execution_count": 186,
     "metadata": {},
     "output_type": "execute_result"
    }
   ],
   "source": [
    "a = np.array([1,2,3])\n",
    "a.astype(float)"
   ]
  },
  {
   "cell_type": "code",
   "execution_count": 187,
   "id": "34f98aab-cf7f-4c0e-baaf-672bc11e9f63",
   "metadata": {},
   "outputs": [
    {
     "data": {
      "text/plain": [
       "array([1, 2, 3])"
      ]
     },
     "execution_count": 187,
     "metadata": {},
     "output_type": "execute_result"
    }
   ],
   "source": [
    "a = np.array([1.,2.,3.])\n",
    "a.astype(int)"
   ]
  },
  {
   "cell_type": "code",
   "execution_count": 188,
   "id": "d81f9bec-fc54-4377-997a-a993e7b89674",
   "metadata": {},
   "outputs": [
    {
     "data": {
      "text/plain": [
       "array([1.+0.j, 2.+0.j, 3.+0.j])"
      ]
     },
     "execution_count": 188,
     "metadata": {},
     "output_type": "execute_result"
    }
   ],
   "source": [
    "a = np.array([1,2,3])\n",
    "a.astype(complex)"
   ]
  },
  {
   "cell_type": "code",
   "execution_count": 189,
   "id": "f80c854d-f727-4ffc-8823-9041aa11a430",
   "metadata": {},
   "outputs": [
    {
     "data": {
      "text/plain": [
       "array([False,  True, False,  True,  True, False, False, False,  True])"
      ]
     },
     "execution_count": 189,
     "metadata": {},
     "output_type": "execute_result"
    }
   ],
   "source": [
    "a = np.array([0,1,0,1,1,0,0,0,1])\n",
    "a.astype(bool)"
   ]
  },
  {
   "cell_type": "code",
   "execution_count": 190,
   "id": "3ef3444e-8142-4a0c-a9fb-4f867329da44",
   "metadata": {},
   "outputs": [
    {
     "data": {
      "text/plain": [
       "array([1, 3, 2])"
      ]
     },
     "execution_count": 190,
     "metadata": {},
     "output_type": "execute_result"
    }
   ],
   "source": [
    "n = np.array([1.2,3.2,2.9],dtype =\"int\")\n",
    "n.dtype\n",
    "n"
   ]
  },
  {
   "cell_type": "markdown",
   "id": "3cbc3df2-1aaa-4c72-b908-1a599b73af35",
   "metadata": {},
   "source": [
    "  "
   ]
  },
  {
   "cell_type": "markdown",
   "id": "9bfc5be0-4288-42c1-91d1-ded1cfb9abbb",
   "metadata": {},
   "source": [
    "**shape , reshape and aranage**"
   ]
  },
  {
   "cell_type": "code",
   "execution_count": 191,
   "id": "0908a7f3-870b-477d-a775-3a932a6463cd",
   "metadata": {},
   "outputs": [
    {
     "data": {
      "text/plain": [
       "(3,)"
      ]
     },
     "execution_count": 191,
     "metadata": {},
     "output_type": "execute_result"
    }
   ],
   "source": [
    "n = np.array([1,3,2],dtype =\"float\")\n",
    "n.shape"
   ]
  },
  {
   "cell_type": "code",
   "execution_count": 192,
   "id": "174d9c4f-5491-403a-b1bb-f97e066143e9",
   "metadata": {},
   "outputs": [
    {
     "data": {
      "text/plain": [
       "(2, 3)"
      ]
     },
     "execution_count": 192,
     "metadata": {},
     "output_type": "execute_result"
    }
   ],
   "source": [
    "m = np.array([[1,2,3],[3,5,6]])\n",
    "m.shape"
   ]
  },
  {
   "cell_type": "code",
   "execution_count": 193,
   "id": "f7a20a13-af9f-47a5-ad7c-197cd5eb9e7d",
   "metadata": {},
   "outputs": [
    {
     "data": {
      "text/plain": [
       "array([ 1,  2,  3,  4,  5,  6,  7,  8,  9, 10])"
      ]
     },
     "execution_count": 193,
     "metadata": {},
     "output_type": "execute_result"
    }
   ],
   "source": [
    "m = np.arange(1,11)\n",
    "m"
   ]
  },
  {
   "cell_type": "code",
   "execution_count": 194,
   "id": "d6bdbf3e-7e27-4b1a-8f5f-aa4ad68fbce8",
   "metadata": {},
   "outputs": [
    {
     "data": {
      "text/plain": [
       "array([[ 1,  2,  3,  4,  5],\n",
       "       [ 6,  7,  8,  9, 10]])"
      ]
     },
     "execution_count": 194,
     "metadata": {},
     "output_type": "execute_result"
    }
   ],
   "source": [
    "m.reshape(2,5)"
   ]
  },
  {
   "cell_type": "code",
   "execution_count": 195,
   "id": "a2c08cd4-5bfb-4242-8c6a-6ce1b7467f71",
   "metadata": {},
   "outputs": [
    {
     "data": {
      "text/plain": [
       "array([[ 1,  2],\n",
       "       [ 3,  4],\n",
       "       [ 5,  6],\n",
       "       [ 7,  8],\n",
       "       [ 9, 10]])"
      ]
     },
     "execution_count": 195,
     "metadata": {},
     "output_type": "execute_result"
    }
   ],
   "source": [
    "m.reshape(5,2)"
   ]
  },
  {
   "cell_type": "code",
   "execution_count": 196,
   "id": "d560633e-2f8f-41ca-8eea-be0668247f72",
   "metadata": {},
   "outputs": [
    {
     "data": {
      "text/plain": [
       "array([ 0,  1,  2,  3,  4,  5,  6,  7,  8,  9, 10, 11, 12, 13, 14, 15, 16,\n",
       "       17, 18, 19, 20, 21, 22, 23])"
      ]
     },
     "execution_count": 196,
     "metadata": {},
     "output_type": "execute_result"
    }
   ],
   "source": [
    "r = np.arange(24)\n",
    "r"
   ]
  },
  {
   "cell_type": "code",
   "execution_count": 197,
   "id": "d95fd49c-0031-4315-8062-554e904a30fa",
   "metadata": {},
   "outputs": [
    {
     "data": {
      "text/plain": [
       "array([[ 0,  1,  2,  3,  4,  5,  6,  7,  8,  9, 10, 11],\n",
       "       [12, 13, 14, 15, 16, 17, 18, 19, 20, 21, 22, 23]])"
      ]
     },
     "execution_count": 197,
     "metadata": {},
     "output_type": "execute_result"
    }
   ],
   "source": [
    "r.reshape(2,12)"
   ]
  },
  {
   "cell_type": "code",
   "execution_count": 198,
   "id": "7b07a081-be34-49fd-812c-0c7ac205d925",
   "metadata": {},
   "outputs": [
    {
     "data": {
      "text/plain": [
       "array([[[ 0,  1,  2,  3,  4,  5],\n",
       "        [ 6,  7,  8,  9, 10, 11]],\n",
       "\n",
       "       [[12, 13, 14, 15, 16, 17],\n",
       "        [18, 19, 20, 21, 22, 23]]])"
      ]
     },
     "execution_count": 198,
     "metadata": {},
     "output_type": "execute_result"
    }
   ],
   "source": [
    "r.reshape(2,2,6)"
   ]
  },
  {
   "cell_type": "code",
   "execution_count": 199,
   "id": "bc0d327f-ce7a-476e-bac8-aed6792312f1",
   "metadata": {},
   "outputs": [
    {
     "data": {
      "text/plain": [
       "array([[[ 0,  1],\n",
       "        [ 2,  3],\n",
       "        [ 4,  5],\n",
       "        [ 6,  7]],\n",
       "\n",
       "       [[ 8,  9],\n",
       "        [10, 11],\n",
       "        [12, 13],\n",
       "        [14, 15]],\n",
       "\n",
       "       [[16, 17],\n",
       "        [18, 19],\n",
       "        [20, 21],\n",
       "        [22, 23]]])"
      ]
     },
     "execution_count": 199,
     "metadata": {},
     "output_type": "execute_result"
    }
   ],
   "source": [
    "r.reshape(3,4,2)"
   ]
  },
  {
   "cell_type": "code",
   "execution_count": 200,
   "id": "b37bf6de-5a9e-4543-9be8-47f38e6663d2",
   "metadata": {},
   "outputs": [
    {
     "data": {
      "text/plain": [
       "array([[[ 0,  1,  2,  3],\n",
       "        [ 4,  5,  6,  7]],\n",
       "\n",
       "       [[ 8,  9, 10, 11],\n",
       "        [12, 13, 14, 15]],\n",
       "\n",
       "       [[16, 17, 18, 19],\n",
       "        [20, 21, 22, 23]]])"
      ]
     },
     "execution_count": 200,
     "metadata": {},
     "output_type": "execute_result"
    }
   ],
   "source": [
    "r.reshape(3,2,4)"
   ]
  },
  {
   "cell_type": "markdown",
   "id": "63ffa715-4f9a-40dd-8103-67e8b13854a8",
   "metadata": {},
   "source": [
    "**Size and Itemsize**"
   ]
  },
  {
   "cell_type": "code",
   "execution_count": 201,
   "id": "8325112d-a999-42c8-a963-b69fabba38d9",
   "metadata": {},
   "outputs": [],
   "source": [
    "import numpy as np"
   ]
  },
  {
   "cell_type": "code",
   "execution_count": 202,
   "id": "3397719f-2e55-486c-82e0-0073211cb38f",
   "metadata": {},
   "outputs": [
    {
     "data": {
      "text/plain": [
       "10"
      ]
     },
     "execution_count": 202,
     "metadata": {},
     "output_type": "execute_result"
    }
   ],
   "source": [
    "n = np.array([1,2,3,4,5,6,7,8,9,10])\n",
    "n.size"
   ]
  },
  {
   "cell_type": "code",
   "execution_count": 203,
   "id": "87da1b00-9aa3-461b-b7cf-19711d9b6146",
   "metadata": {},
   "outputs": [
    {
     "data": {
      "text/plain": [
       "6"
      ]
     },
     "execution_count": 203,
     "metadata": {},
     "output_type": "execute_result"
    }
   ],
   "source": [
    "m = np.array([[1,2,3],[3,4,4]])\n",
    "m.size"
   ]
  },
  {
   "cell_type": "code",
   "execution_count": 204,
   "id": "3ceb1364-f65e-467f-809b-1c9d7bc219bd",
   "metadata": {},
   "outputs": [
    {
     "name": "stdout",
     "output_type": "stream",
     "text": [
      "int32\n",
      "4\n"
     ]
    }
   ],
   "source": [
    "n = np.array([1,2,4,3])\n",
    "print(n.dtype)\n",
    "print(n.itemsize)"
   ]
  },
  {
   "cell_type": "code",
   "execution_count": 205,
   "id": "285975b4-f11b-43fb-a4f6-f439f14bf836",
   "metadata": {},
   "outputs": [
    {
     "name": "stdout",
     "output_type": "stream",
     "text": [
      "int64\n",
      "8\n"
     ]
    }
   ],
   "source": [
    "# What if , i can change int32 to int64  --> itemsize = 8\n",
    "n = np.array([1,2,4,3] , dtype = \"int64\")\n",
    "print(n.dtype)\n",
    "print(n.itemsize)"
   ]
  },
  {
   "cell_type": "code",
   "execution_count": 206,
   "id": "11ebbdf5-33a4-4269-ad30-106dbc88c1bd",
   "metadata": {},
   "outputs": [
    {
     "name": "stdout",
     "output_type": "stream",
     "text": [
      "float64\n",
      "8\n"
     ]
    }
   ],
   "source": [
    "n= np.array([1.2,2.1,4.7,4.])\n",
    "print(n.dtype)\n",
    "print(n.itemsize)"
   ]
  },
  {
   "cell_type": "code",
   "execution_count": null,
   "id": "424cfa89-6f1f-4ae8-a28e-17adb00f8d4d",
   "metadata": {},
   "outputs": [],
   "source": []
  },
  {
   "cell_type": "markdown",
   "id": "d115ec10-7e1e-48f9-af2b-8fa8c72a81bd",
   "metadata": {},
   "source": [
    "## Array Operations"
   ]
  },
  {
   "cell_type": "markdown",
   "id": "73a93c60-d36c-4d52-bd10-4d20f5ba1938",
   "metadata": {},
   "source": [
    "**Scalar Operation**"
   ]
  },
  {
   "cell_type": "code",
   "execution_count": 207,
   "id": "28019769-7127-4406-a1d0-840612dbb71c",
   "metadata": {},
   "outputs": [
    {
     "name": "stdout",
     "output_type": "stream",
     "text": [
      "[ 3  4  5  6  8 10]\n",
      "[ 2  4  6  8 12 16]\n",
      "[0.33333333 0.66666667 1.         1.33333333 2.         2.66666667]\n",
      "[1 0 1 0 0 0]\n"
     ]
    }
   ],
   "source": [
    "# Arithmetic Operations\n",
    "\n",
    "a = np.array([1,2,3,4,6,8])\n",
    "print(a+2)\n",
    "print(a*2)\n",
    "print(a/3)\n",
    "print(a%2)"
   ]
  },
  {
   "cell_type": "code",
   "execution_count": 208,
   "id": "5fe1100c-f04b-4b5f-a588-8db57edf4e41",
   "metadata": {},
   "outputs": [
    {
     "name": "stdout",
     "output_type": "stream",
     "text": [
      "[False False False False  True  True  True  True  True  True]\n",
      "[ True  True  True  True  True  True  True False False False]\n",
      "[False  True False False False False False False False False]\n",
      "[ True False  True  True  True  True  True  True  True  True]\n"
     ]
    }
   ],
   "source": [
    "# Relations Operator\n",
    "\n",
    "a = np.linspace(5,50,10)\n",
    "a.astype(int)\n",
    "\n",
    "print(a>20)\n",
    "print(a<40)\n",
    "print(a==10)\n",
    "print(a!=10)\n"
   ]
  },
  {
   "cell_type": "markdown",
   "id": "5cf95548-43b8-4297-b0b7-d988fab9020d",
   "metadata": {},
   "source": [
    "**Vector Operations**"
   ]
  },
  {
   "cell_type": "code",
   "execution_count": 209,
   "id": "f48b1474-04c7-426e-bc45-6e1248ec9d53",
   "metadata": {},
   "outputs": [
    {
     "name": "stdout",
     "output_type": "stream",
     "text": [
      "[[ 1  2  3  4]\n",
      " [ 5  6  7  8]\n",
      " [ 9 10 11 12]\n",
      " [13 14 15 16]]\n",
      "[[ 1  2  3  4]\n",
      " [ 5  6  7  8]\n",
      " [ 9 10 11 12]\n",
      " [13 14 15 16]]\n"
     ]
    }
   ],
   "source": [
    "a = np.arange(1,17).reshape(4,4)\n",
    "b = np.arange(1,17).reshape(4,4)\n",
    "print(a)\n",
    "print(b)"
   ]
  },
  {
   "cell_type": "code",
   "execution_count": 210,
   "id": "a309125a-6329-471e-b321-93d89998f06d",
   "metadata": {},
   "outputs": [
    {
     "name": "stdout",
     "output_type": "stream",
     "text": [
      "[[ 2  4  6  8]\n",
      " [10 12 14 16]\n",
      " [18 20 22 24]\n",
      " [26 28 30 32]]\n",
      "[[  1   4   9  16]\n",
      " [ 25  36  49  64]\n",
      " [ 81 100 121 144]\n",
      " [169 196 225 256]]\n",
      "[[ True  True  True  True]\n",
      " [ True  True  True  True]\n",
      " [ True  True  True  True]\n",
      " [ True  True  True  True]]\n",
      "[[False False False False]\n",
      " [False False False False]\n",
      " [False False False False]\n",
      " [False False False False]]\n"
     ]
    }
   ],
   "source": [
    "print(a+b)\n",
    "print(a*b)\n",
    "print(a>=b)\n",
    "print(a>b)"
   ]
  },
  {
   "cell_type": "code",
   "execution_count": null,
   "id": "0b97cad6-a67a-4372-a24b-c3e2be040d6e",
   "metadata": {},
   "outputs": [],
   "source": []
  },
  {
   "cell_type": "code",
   "execution_count": null,
   "id": "741ee656-4e41-4feb-8805-7d01f724b5b7",
   "metadata": {},
   "outputs": [],
   "source": []
  },
  {
   "cell_type": "markdown",
   "id": "2c6e9ab4-43d4-42f7-b136-a23b9248ac5a",
   "metadata": {},
   "source": [
    "## Array Funtions"
   ]
  },
  {
   "cell_type": "markdown",
   "id": "373f197a-493a-45f2-bd21-91f57bdbb29c",
   "metadata": {},
   "source": [
    "**min/max/sum/product**"
   ]
  },
  {
   "cell_type": "code",
   "execution_count": 211,
   "id": "d8b795ff-4d79-4470-8736-b4b90df3f788",
   "metadata": {},
   "outputs": [
    {
     "data": {
      "text/plain": [
       "1"
      ]
     },
     "execution_count": 211,
     "metadata": {},
     "output_type": "execute_result"
    }
   ],
   "source": [
    "np.min(a)\n",
    "# 0 --> column\n",
    "# 1--> row"
   ]
  },
  {
   "cell_type": "code",
   "execution_count": 212,
   "id": "6b25454b-918e-43a8-9f0b-31c39336c4e0",
   "metadata": {},
   "outputs": [
    {
     "data": {
      "text/plain": [
       "array([ 1,  5,  9, 13])"
      ]
     },
     "execution_count": 212,
     "metadata": {},
     "output_type": "execute_result"
    }
   ],
   "source": [
    "# row wise min\n",
    "np.min(a, axis=1)"
   ]
  },
  {
   "cell_type": "code",
   "execution_count": 213,
   "id": "1fe9e8da-f668-4769-9c52-9a93b7d6a177",
   "metadata": {},
   "outputs": [
    {
     "data": {
      "text/plain": [
       "array([1, 2, 3, 4])"
      ]
     },
     "execution_count": 213,
     "metadata": {},
     "output_type": "execute_result"
    }
   ],
   "source": [
    "# column wise min\n",
    "np.min(a, axis=0) "
   ]
  },
  {
   "cell_type": "code",
   "execution_count": 214,
   "id": "017b18e9-2b7a-4ead-93cc-7cb0315c8013",
   "metadata": {},
   "outputs": [
    {
     "name": "stdout",
     "output_type": "stream",
     "text": [
      "16\n",
      "[ 4  8 12 16]\n",
      "[13 14 15 16]\n"
     ]
    }
   ],
   "source": [
    "print(np.max(a))\n",
    "\n",
    "# row wise max\n",
    "print(np.max(a,axis=1))\n",
    "\n",
    "# column wise max\n",
    "print(np.max(a,axis=0))"
   ]
  },
  {
   "cell_type": "code",
   "execution_count": 215,
   "id": "3e959757-ceaf-447b-a350-7c993f1d253b",
   "metadata": {},
   "outputs": [
    {
     "name": "stdout",
     "output_type": "stream",
     "text": [
      "136\n",
      "2004189184\n"
     ]
    }
   ],
   "source": [
    "# you can find product and sum row and column wise\n",
    "print(np.sum(a))\n",
    "print(np.product(a))"
   ]
  },
  {
   "cell_type": "markdown",
   "id": "0480dbeb-78b7-4de2-9e6f-8e0b753ed5e5",
   "metadata": {},
   "source": [
    "**mean , median , std , variance**"
   ]
  },
  {
   "cell_type": "code",
   "execution_count": 216,
   "id": "d386239d-018a-4949-95d9-985e1fe48e33",
   "metadata": {},
   "outputs": [
    {
     "data": {
      "text/plain": [
       "array([[0, 1, 2],\n",
       "       [3, 4, 5],\n",
       "       [6, 7, 8]])"
      ]
     },
     "execution_count": 216,
     "metadata": {},
     "output_type": "execute_result"
    }
   ],
   "source": [
    "a = np.arange(9).reshape(3,3)\n",
    "a"
   ]
  },
  {
   "cell_type": "code",
   "execution_count": 217,
   "id": "2de16145-112b-4efe-b61f-ce0311bbb50d",
   "metadata": {},
   "outputs": [
    {
     "data": {
      "text/plain": [
       "array([3., 4., 5.])"
      ]
     },
     "execution_count": 217,
     "metadata": {},
     "output_type": "execute_result"
    }
   ],
   "source": [
    "np.mean(a,axis=0)"
   ]
  },
  {
   "cell_type": "code",
   "execution_count": 218,
   "id": "1e9850d8-207a-446a-aaff-5e50cdace427",
   "metadata": {},
   "outputs": [
    {
     "name": "stdout",
     "output_type": "stream",
     "text": [
      "[1. 4. 7.]\n",
      "2.581988897471611\n",
      "[0.66666667 0.66666667 0.66666667]\n"
     ]
    }
   ],
   "source": [
    "print(np.median(a,axis=1))\n",
    "print(np.std(a))\n",
    "print(np.var(a,axis= 1))"
   ]
  },
  {
   "cell_type": "markdown",
   "id": "73f806ba-15a0-4359-a418-e2b6f25cd1da",
   "metadata": {},
   "source": [
    "**dot product of matrix**\n"
   ]
  },
  {
   "cell_type": "code",
   "execution_count": 219,
   "id": "a4bef5ea-43a0-43d8-b713-ba0e90086380",
   "metadata": {},
   "outputs": [
    {
     "data": {
      "text/plain": [
       "array([[ 20,  23,  26,  29],\n",
       "       [ 56,  68,  80,  92],\n",
       "       [ 92, 113, 134, 155],\n",
       "       [128, 158, 188, 218]])"
      ]
     },
     "execution_count": 219,
     "metadata": {},
     "output_type": "execute_result"
    }
   ],
   "source": [
    "a = np.arange(12).reshape(4,3)\n",
    "b = np.arange(12).reshape(3,4)\n",
    "np.dot(a,b)"
   ]
  },
  {
   "cell_type": "markdown",
   "id": "59ddfc72-1839-4b02-b489-5ecdc7ff13d3",
   "metadata": {},
   "source": [
    "**round/ floor/ cell**"
   ]
  },
  {
   "cell_type": "code",
   "execution_count": 220,
   "id": "6f92a223-b74e-4543-958f-9db0fbe0ef06",
   "metadata": {},
   "outputs": [
    {
     "data": {
      "text/plain": [
       "array([[0.18129115, 0.46067973, 0.66165949],\n",
       "       [0.0568325 , 0.78597636, 0.41237972],\n",
       "       [0.38043998, 0.32219887, 0.71009753]])"
      ]
     },
     "execution_count": 220,
     "metadata": {},
     "output_type": "execute_result"
    }
   ],
   "source": [
    "a = np.random.random((3,3))\n",
    "a"
   ]
  },
  {
   "cell_type": "code",
   "execution_count": 221,
   "id": "34b8a304-a644-4ff6-94d9-4187395b6108",
   "metadata": {},
   "outputs": [
    {
     "data": {
      "text/plain": [
       "array([[0., 0., 1.],\n",
       "       [0., 1., 0.],\n",
       "       [0., 0., 1.]])"
      ]
     },
     "execution_count": 221,
     "metadata": {},
     "output_type": "execute_result"
    }
   ],
   "source": [
    "# round = round-off\n",
    "np.round(a)"
   ]
  },
  {
   "cell_type": "code",
   "execution_count": 222,
   "id": "55fa9179-1ee6-4c25-991c-353da89d0cef",
   "metadata": {},
   "outputs": [
    {
     "data": {
      "text/plain": [
       "array([[0., 0., 0.],\n",
       "       [0., 0., 0.],\n",
       "       [0., 0., 0.]])"
      ]
     },
     "execution_count": 222,
     "metadata": {},
     "output_type": "execute_result"
    }
   ],
   "source": [
    "# floor = lower interger round off\n",
    "np.floor(a)"
   ]
  },
  {
   "cell_type": "code",
   "execution_count": 223,
   "id": "65b80f94-0ca7-4562-91f4-7db16efd5c1d",
   "metadata": {},
   "outputs": [
    {
     "data": {
      "text/plain": [
       "array([[1., 1., 1.],\n",
       "       [1., 1., 1.],\n",
       "       [1., 1., 1.]])"
      ]
     },
     "execution_count": 223,
     "metadata": {},
     "output_type": "execute_result"
    }
   ],
   "source": [
    "# ceil = upper integer round off\n",
    "np.ceil(a)"
   ]
  },
  {
   "cell_type": "markdown",
   "id": "e957423f-b2c0-48eb-a4c9-b7aae39378a6",
   "metadata": {},
   "source": [
    "**Iterating**"
   ]
  },
  {
   "cell_type": "code",
   "execution_count": 224,
   "id": "c74148e5-e8a5-4201-9dc0-93831dbe08a1",
   "metadata": {},
   "outputs": [
    {
     "name": "stdout",
     "output_type": "stream",
     "text": [
      "0\n",
      "1\n",
      "2\n",
      "3\n",
      "4\n",
      "5\n",
      "6\n",
      "7\n",
      "8\n",
      "9\n"
     ]
    }
   ],
   "source": [
    "a = np.arange(10)\n",
    "for i in a:\n",
    "    print(i)\n",
    "\n"
   ]
  },
  {
   "cell_type": "code",
   "execution_count": 225,
   "id": "aa3d03de-0b66-44ef-8f94-d8962b1a668c",
   "metadata": {},
   "outputs": [
    {
     "name": "stdout",
     "output_type": "stream",
     "text": [
      "[0 1 2 3]\n",
      "[4 5 6 7]\n",
      "[ 8  9 10 11]\n"
     ]
    }
   ],
   "source": [
    "b = np.arange(12).reshape(3,4)\n",
    "for i in b:\n",
    "    print(i)"
   ]
  },
  {
   "cell_type": "code",
   "execution_count": 226,
   "id": "5fe29c21-593b-4e21-81bc-a4b65dab3b5c",
   "metadata": {},
   "outputs": [
    {
     "name": "stdout",
     "output_type": "stream",
     "text": [
      "[[0 1]\n",
      " [2 3]]\n",
      "[[4 5]\n",
      " [6 7]]\n"
     ]
    }
   ],
   "source": [
    "c = np.arange(8).reshape(2,2,2)\n",
    "for i in c:\n",
    "    print(i)"
   ]
  },
  {
   "cell_type": "markdown",
   "id": "9e03bbaa-3352-4421-8094-f8091f9a9a3e",
   "metadata": {},
   "source": [
    "*nditer*"
   ]
  },
  {
   "cell_type": "code",
   "execution_count": 227,
   "id": "427fdbed-04db-463a-b13a-8c92a3a953d0",
   "metadata": {},
   "outputs": [
    {
     "name": "stdout",
     "output_type": "stream",
     "text": [
      "0\n",
      "1\n",
      "2\n",
      "3\n",
      "4\n",
      "5\n",
      "6\n",
      "7\n"
     ]
    }
   ],
   "source": [
    "for i in np.nditer(c):\n",
    "    print(i)"
   ]
  },
  {
   "cell_type": "markdown",
   "id": "8fb4e60b-7c73-4591-bdd1-56c2e802ae27",
   "metadata": {},
   "source": [
    "**reshape , transpose and ravel**"
   ]
  },
  {
   "cell_type": "code",
   "execution_count": 228,
   "id": "9bb8ce82-41b8-4960-825d-f81c28dff3ab",
   "metadata": {},
   "outputs": [
    {
     "data": {
      "text/plain": [
       "array([[ 0,  1,  2,  3],\n",
       "       [ 4,  5,  6,  7],\n",
       "       [ 8,  9, 10, 11],\n",
       "       [12, 13, 14, 15]])"
      ]
     },
     "execution_count": 228,
     "metadata": {},
     "output_type": "execute_result"
    }
   ],
   "source": [
    "a = np.arange(16).reshape(4,4)\n",
    "a"
   ]
  },
  {
   "cell_type": "code",
   "execution_count": 229,
   "id": "03574b75-ddcc-432f-aa82-0e7fef5a98a3",
   "metadata": {},
   "outputs": [
    {
     "data": {
      "text/plain": [
       "array([[ 0,  4,  8, 12],\n",
       "       [ 1,  5,  9, 13],\n",
       "       [ 2,  6, 10, 14],\n",
       "       [ 3,  7, 11, 15]])"
      ]
     },
     "execution_count": 229,
     "metadata": {},
     "output_type": "execute_result"
    }
   ],
   "source": [
    "np.transpose(a) "
   ]
  },
  {
   "cell_type": "code",
   "execution_count": 230,
   "id": "3e69aeba-30b7-4802-bc52-99fb1ab1330c",
   "metadata": {},
   "outputs": [
    {
     "data": {
      "text/plain": [
       "array([[ 0,  4,  8, 12],\n",
       "       [ 1,  5,  9, 13],\n",
       "       [ 2,  6, 10, 14],\n",
       "       [ 3,  7, 11, 15]])"
      ]
     },
     "execution_count": 230,
     "metadata": {},
     "output_type": "execute_result"
    }
   ],
   "source": [
    "a.T # another way to transpose "
   ]
  },
  {
   "cell_type": "code",
   "execution_count": 231,
   "id": "37179a7b-73f9-4502-b3ac-2c2cb4784d94",
   "metadata": {},
   "outputs": [
    {
     "data": {
      "text/plain": [
       "array([ 0,  1,  2,  3,  4,  5,  6,  7,  8,  9, 10, 11, 12, 13, 14, 15])"
      ]
     },
     "execution_count": 231,
     "metadata": {},
     "output_type": "execute_result"
    }
   ],
   "source": [
    "# ravel = it converts n dimension array into 1-D array\n",
    "np.ravel(a)"
   ]
  },
  {
   "cell_type": "markdown",
   "id": "c688b41a-9109-4a95-a6fd-55685b5f5cc2",
   "metadata": {},
   "source": [
    "**Stacking**"
   ]
  },
  {
   "cell_type": "code",
   "execution_count": 232,
   "id": "9d23f792-d653-480f-9cdd-99147a65c4d9",
   "metadata": {},
   "outputs": [],
   "source": [
    "# vertically stack = adding array vertically\n",
    "# horizontal stack = adding array horizontally"
   ]
  },
  {
   "cell_type": "code",
   "execution_count": 233,
   "id": "eaf4518b-c0f1-494f-8498-381af89270fa",
   "metadata": {},
   "outputs": [],
   "source": [
    "a = np.arange(12).reshape(3,4)\n",
    "b = np.arange(20,32).reshape(3,4)\n",
    "c= np.arange(10,22).reshape(3,4)\n"
   ]
  },
  {
   "cell_type": "code",
   "execution_count": 234,
   "id": "0cc9578a-3233-41d6-99b7-4e7ee37e0556",
   "metadata": {},
   "outputs": [
    {
     "name": "stdout",
     "output_type": "stream",
     "text": [
      "[[ 0  1  2  3]\n",
      " [ 4  5  6  7]\n",
      " [ 8  9 10 11]\n",
      " [20 21 22 23]\n",
      " [24 25 26 27]\n",
      " [28 29 30 31]]\n",
      "\n",
      "[[ 0  1  2  3]\n",
      " [ 4  5  6  7]\n",
      " [ 8  9 10 11]\n",
      " [20 21 22 23]\n",
      " [24 25 26 27]\n",
      " [28 29 30 31]\n",
      " [10 11 12 13]\n",
      " [14 15 16 17]\n",
      " [18 19 20 21]]\n"
     ]
    }
   ],
   "source": [
    "print(np.vstack((a,b)))\n",
    "print()\n",
    "print(np.vstack((a,b,c)))\n"
   ]
  },
  {
   "cell_type": "code",
   "execution_count": 235,
   "id": "707f0c3a-6567-4eb0-982a-ad991dce5a4e",
   "metadata": {},
   "outputs": [
    {
     "name": "stdout",
     "output_type": "stream",
     "text": [
      "[[20 21 22 23  0  1  2  3]\n",
      " [24 25 26 27  4  5  6  7]\n",
      " [28 29 30 31  8  9 10 11]]\n",
      "\n",
      "[[ 0  1  2  3 20 21 22 23 10 11 12 13]\n",
      " [ 4  5  6  7 24 25 26 27 14 15 16 17]\n",
      " [ 8  9 10 11 28 29 30 31 18 19 20 21]]\n"
     ]
    }
   ],
   "source": [
    "print(np.hstack((b,a)))\n",
    "print()\n",
    "print(np.hstack((a,b,c)))"
   ]
  },
  {
   "cell_type": "markdown",
   "id": "756eb149-d7b6-4d93-8fc4-03e3c4600c5e",
   "metadata": {},
   "source": [
    "**Splitting**"
   ]
  },
  {
   "cell_type": "code",
   "execution_count": 236,
   "id": "c94d3a75-1b88-4665-988f-8687ea24b4c0",
   "metadata": {},
   "outputs": [
    {
     "data": {
      "text/plain": [
       "[array([[0, 1],\n",
       "        [4, 5],\n",
       "        [8, 9]]),\n",
       " array([[ 2,  3],\n",
       "        [ 6,  7],\n",
       "        [10, 11]])]"
      ]
     },
     "execution_count": 236,
     "metadata": {},
     "output_type": "execute_result"
    }
   ],
   "source": [
    "np.hsplit(a,2)  # np.hsplit(array,no of division)"
   ]
  },
  {
   "cell_type": "code",
   "execution_count": 237,
   "id": "560b5dc1-3258-4dfb-8a82-b2e7b71ed946",
   "metadata": {},
   "outputs": [
    {
     "data": {
      "text/plain": [
       "[array([[20, 21, 22, 23]]),\n",
       " array([[24, 25, 26, 27]]),\n",
       " array([[28, 29, 30, 31]])]"
      ]
     },
     "execution_count": 237,
     "metadata": {},
     "output_type": "execute_result"
    }
   ],
   "source": [
    "np.vsplit(b,3)  # np.split(array, no of division)"
   ]
  },
  {
   "cell_type": "code",
   "execution_count": 238,
   "id": "15df31a9-55f1-4603-b2b5-a9eeb3153fb4",
   "metadata": {},
   "outputs": [
    {
     "data": {
      "text/plain": [
       "[array([[0],\n",
       "        [4],\n",
       "        [8]]),\n",
       " array([[1],\n",
       "        [5],\n",
       "        [9]]),\n",
       " array([[ 2],\n",
       "        [ 6],\n",
       "        [10]]),\n",
       " array([[ 3],\n",
       "        [ 7],\n",
       "        [11]]),\n",
       " array([[20],\n",
       "        [24],\n",
       "        [28]]),\n",
       " array([[21],\n",
       "        [25],\n",
       "        [29]]),\n",
       " array([[22],\n",
       "        [26],\n",
       "        [30]]),\n",
       " array([[23],\n",
       "        [27],\n",
       "        [31]]),\n",
       " array([[10],\n",
       "        [14],\n",
       "        [18]]),\n",
       " array([[11],\n",
       "        [15],\n",
       "        [19]]),\n",
       " array([[12],\n",
       "        [16],\n",
       "        [20]]),\n",
       " array([[13],\n",
       "        [17],\n",
       "        [21]])]"
      ]
     },
     "execution_count": 238,
     "metadata": {},
     "output_type": "execute_result"
    }
   ],
   "source": [
    "x = np.hstack((a,b,c))\n",
    "\n",
    "# lets split this big horizonatal array (3X12)\n",
    "np.hsplit(x,3)\n",
    "np.hsplit(x,4)\n",
    "np.hsplit(x,6)\n",
    "np.hsplit(x,12)\n",
    "# we can go any further , because array is no more divisible\n"
   ]
  },
  {
   "cell_type": "code",
   "execution_count": 239,
   "id": "72e04bc8-b639-4c41-ad8f-02130cd302e1",
   "metadata": {},
   "outputs": [],
   "source": [
    "# Similaray we can do same for vsplit\n",
    "y = np.vstack((a,b,c))"
   ]
  },
  {
   "cell_type": "code",
   "execution_count": null,
   "id": "3cfe3d78-56e9-4b17-9ade-75c8c067eb76",
   "metadata": {},
   "outputs": [],
   "source": []
  }
 ],
 "metadata": {
  "kernelspec": {
   "display_name": "Python 3",
   "language": "python",
   "name": "python3"
  },
  "language_info": {
   "codemirror_mode": {
    "name": "ipython",
    "version": 3
   },
   "file_extension": ".py",
   "mimetype": "text/x-python",
   "name": "python",
   "nbconvert_exporter": "python",
   "pygments_lexer": "ipython3",
   "version": "3.11.3"
  }
 },
 "nbformat": 4,
 "nbformat_minor": 5
}
