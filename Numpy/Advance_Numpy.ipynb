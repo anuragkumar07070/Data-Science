{
  "cells": [
    {
      "cell_type": "markdown",
      "metadata": {
        "id": "nCP5jqPcbN7o"
      },
      "source": [
        "# Advance Numpy"
      ]
    },
    {
      "cell_type": "markdown",
      "metadata": {
        "id": "8qwYY_fUbgHV"
      },
      "source": [
        "**Numpy Array vs Python List**"
      ]
    },
    {
      "cell_type": "markdown",
      "metadata": {
        "id": "LGwlpzHackmJ"
      },
      "source": [
        "*We will do comparison on the basis of speed , memory and convenience*"
      ]
    },
    {
      "cell_type": "code",
      "execution_count": 2,
      "metadata": {
        "colab": {
          "base_uri": "https://localhost:8080/"
        },
        "id": "qSFAX1FJcjQ-",
        "outputId": "2f25ebac-d518-4e76-96d9-0ad90ab62813"
      },
      "outputs": [
        {
          "name": "stdout",
          "output_type": "stream",
          "text": [
            "0.20666217803955078\n"
          ]
        }
      ],
      "source": [
        "# Speed\n",
        "#********** List**************\n",
        "import time\n",
        "\n",
        "a = [i for i in range(1000000)]\n",
        "b = [i for i in range(1000000,2000000)]\n",
        "c=[]\n",
        "\n",
        "start = time.time() # note current time\n",
        "\n",
        "for i in range(len(a)):\n",
        "  c.append(a[i]+b[i])\n",
        "\n",
        "print(time.time()-start) # it calculates the time for loop\n"
      ]
    },
    {
      "cell_type": "code",
      "execution_count": 3,
      "metadata": {
        "colab": {
          "base_uri": "https://localhost:8080/"
        },
        "id": "g8aS-Dovc2ZC",
        "outputId": "ad280eff-ec28-480a-fe36-58e2b034907b"
      },
      "outputs": [
        {
          "name": "stdout",
          "output_type": "stream",
          "text": [
            "0.01851654052734375\n"
          ]
        }
      ],
      "source": [
        "# Speed\n",
        "#************** Array *******************\n",
        "import numpy as np\n",
        "import time\n",
        "\n",
        "start = time.time()\n",
        "\n",
        "m = np.arange(1000000)\n",
        "n = np.arange(1000000,2000000)\n",
        "\n",
        "c= m+n\n",
        "\n",
        "print(time.time()- start)"
      ]
    },
    {
      "cell_type": "code",
      "execution_count": 4,
      "metadata": {
        "colab": {
          "base_uri": "https://localhost:8080/"
        },
        "id": "qstcPvOMa4LV",
        "outputId": "6f9af08d-4f1c-4942-91c6-11c328e8482a"
      },
      "outputs": [
        {
          "data": {
            "text/plain": [
              "8448728"
            ]
          },
          "execution_count": 4,
          "metadata": {},
          "output_type": "execute_result"
        }
      ],
      "source": [
        "# memory\n",
        "import sys\n",
        "a = [i for i in range(1000000)]\n",
        "sys.getsizeof(a)"
      ]
    },
    {
      "cell_type": "code",
      "execution_count": 5,
      "metadata": {
        "colab": {
          "base_uri": "https://localhost:8080/"
        },
        "id": "rrtlu1KMa-ma",
        "outputId": "e82aa93f-7ac7-44d4-f547-c44916fc049a"
      },
      "outputs": [
        {
          "data": {
            "text/plain": [
              "40000112"
            ]
          },
          "execution_count": 5,
          "metadata": {},
          "output_type": "execute_result"
        }
      ],
      "source": [
        "# memory\n",
        "import numpy as np\n",
        "m = np.arange(10000000,dtype= np.int32)\n",
        "sys.getsizeof(m)"
      ]
    },
    {
      "cell_type": "code",
      "execution_count": null,
      "metadata": {
        "id": "kmew56jdklLE"
      },
      "outputs": [],
      "source": [
        "\n"
      ]
    },
    {
      "cell_type": "markdown",
      "metadata": {
        "id": "E5o7qXeblKSO"
      },
      "source": [
        "**Advance Indexing**"
      ]
    },
    {
      "cell_type": "code",
      "execution_count": 7,
      "metadata": {
        "colab": {
          "base_uri": "https://localhost:8080/"
        },
        "id": "Olc0WKxplNAW",
        "outputId": "159fa214-dd51-4a36-8ee9-8f5be970d58a"
      },
      "outputs": [
        {
          "data": {
            "text/plain": [
              "array([[ 4,  5,  6,  7],\n",
              "       [16, 17, 18, 19],\n",
              "       [12, 13, 14, 15]])"
            ]
          },
          "execution_count": 7,
          "metadata": {},
          "output_type": "execute_result"
        }
      ],
      "source": [
        "# fancy indexing\n",
        "a = np.arange(24).reshape(6,4)\n",
        "a\n",
        "a[[1,2]],   # row 1st and 2nd\n",
        "a[[1,4,3]]  # 1st 4th 3rd"
      ]
    },
    {
      "cell_type": "code",
      "execution_count": 8,
      "metadata": {
        "colab": {
          "base_uri": "https://localhost:8080/"
        },
        "id": "K-XNr-9ul7Id",
        "outputId": "f6a4a012-be9a-4e01-a5fa-ff993663bb9d"
      },
      "outputs": [
        {
          "name": "stdout",
          "output_type": "stream",
          "text": [
            "[[ 0  1  2  3]\n",
            " [ 8  9 10 11]\n",
            " [12 13 14 15]\n",
            " [20 21 22 23]]\n",
            "[[ 0  1  3]\n",
            " [ 4  5  7]\n",
            " [ 8  9 11]\n",
            " [12 13 15]\n",
            " [16 17 19]\n",
            " [20 21 23]]\n"
          ]
        }
      ],
      "source": [
        "# Q1) i need first row, 3rd row, 4th row and last row from a matrix\n",
        "print(a[[0,2,3,5]])\n",
        "\n",
        "# Q2) i need first,2nd and last COLUMNS from a matrix\n",
        "print(a[:,[0,1,3]])"
      ]
    },
    {
      "cell_type": "code",
      "execution_count": 10,
      "metadata": {
        "colab": {
          "base_uri": "https://localhost:8080/"
        },
        "id": "v_cok98TmKij",
        "outputId": "4f405d4f-d3a1-4c88-c03a-08f9a81a4303"
      },
      "outputs": [
        {
          "data": {
            "text/plain": [
              "array([66, 85, 98, 80, 70, 89, 81])"
            ]
          },
          "execution_count": 10,
          "metadata": {},
          "output_type": "execute_result"
        }
      ],
      "source": [
        "# Boolean Indexing\n",
        "import numpy as np\n",
        "b = np.random.randint(1,100,24).reshape(6,4)\n",
        "b[b>65]"
      ]
    },
    {
      "cell_type": "code",
      "execution_count": 11,
      "metadata": {
        "colab": {
          "base_uri": "https://localhost:8080/"
        },
        "id": "JNdjWwa0NiZ7",
        "outputId": "1b8922a9-1dea-425b-e01b-293eb316ae06"
      },
      "outputs": [
        {
          "data": {
            "text/plain": [
              "array([54, 64, 66, 85, 53, 54, 98, 80, 70, 89, 81])"
            ]
          },
          "execution_count": 11,
          "metadata": {},
          "output_type": "execute_result"
        }
      ],
      "source": [
        "# Boolean indexing\n",
        "b[b>50]"
      ]
    },
    {
      "cell_type": "code",
      "execution_count": 20,
      "metadata": {
        "colab": {
          "base_uri": "https://localhost:8080/"
        },
        "id": "FbB-3rlIn4qt",
        "outputId": "20c17928-56c2-4e72-c5b6-3eb6e2f8f9bc"
      },
      "outputs": [
        {
          "data": {
            "text/plain": [
              "array([[51, 26, 62, 91],\n",
              "       [96, 98, 69,  2],\n",
              "       [87, 29, 72, 45],\n",
              "       [ 9,  9, 84,  6]])"
            ]
          },
          "execution_count": 20,
          "metadata": {},
          "output_type": "execute_result"
        }
      ],
      "source": [
        "#find all number greater the 50 and even\n",
        "x = np.random.randint(1,100,16).reshape(4,4)\n",
        "x"
      ]
    },
    {
      "cell_type": "code",
      "execution_count": 21,
      "metadata": {
        "colab": {
          "base_uri": "https://localhost:8080/"
        },
        "id": "SJfA25JiN8j7",
        "outputId": "134158e1-8e88-4103-d44d-1f63032493ac"
      },
      "outputs": [
        {
          "data": {
            "text/plain": [
              "array([62, 96, 98, 72, 84])"
            ]
          },
          "execution_count": 21,
          "metadata": {},
          "output_type": "execute_result"
        }
      ],
      "source": [
        "x[(x%2==0) & (x>50)]"
      ]
    },
    {
      "cell_type": "code",
      "execution_count": null,
      "metadata": {
        "colab": {
          "base_uri": "https://localhost:8080/"
        },
        "id": "MtU_3k5Tnr-r",
        "outputId": "a6663dcc-d9d2-4540-e9a8-f0cfa66deeee"
      },
      "outputs": [
        {
          "data": {
            "text/plain": [
              "array([47, 43, 13, 15, 41, 27,  5, 19, 40, 12, 30, 36, 39, 15, 39])"
            ]
          },
          "execution_count": 17,
          "metadata": {},
          "output_type": "execute_result"
        }
      ],
      "source": [
        "# find all number not divisible by 7\n",
        "y = np.random.randint(1,50,16).reshape(4,4)\n",
        "y[~(y%7==0)]"
      ]
    },
    {
      "cell_type": "code",
      "execution_count": null,
      "metadata": {
        "id": "D_7GWGQXo6xV"
      },
      "outputs": [],
      "source": []
    },
    {
      "cell_type": "markdown",
      "metadata": {
        "id": "mvPvr1uDpDbA"
      },
      "source": [
        "***Broadcasting**\n",
        "\n",
        "The term broadcasting describes how Numpy treats arrays with diff shapes during arithmatic operations.\n",
        "\n",
        "The smaller array is \"broadcast\" across the larger array so that they have compatible shapes*"
      ]
    },
    {
      "cell_type": "markdown",
      "metadata": {
        "id": "XXzDHsndO70t"
      },
      "source": [
        "#### Broadcasting Rules\n",
        "\n",
        "**1. Make the two arrays have the same number of dimensions.**<br>\n",
        "- If the numbers of dimensions of the two arrays are different, add new dimensions with size 1 to the head of the array with the smaller dimension.<br>"
      ]
    },
    {
      "cell_type": "markdown",
      "metadata": {
        "id": "M_ZI1gpEPdwi"
      },
      "source": [
        "**2. Make each dimension of the two arrays the same size.**<br>\n",
        "- If the sizes of each dimension of the two arrays do not match, dimensions with size 1 are stretched to the size of the other array.\n",
        "- If there is a dimension whose size is not 1 in either of the two arrays, it cannot be broadcasted, and an error is raised."
      ]
    },
    {
      "cell_type": "markdown",
      "metadata": {
        "id": "6YxVl8iZVLEh"
      },
      "source": [
        "<img src = \"https://jakevdp.github.io/PythonDataScienceHandbook/figures/02.05-broadcasting.png\">"
      ]
    },
    {
      "cell_type": "code",
      "execution_count": 4,
      "metadata": {
        "colab": {
          "base_uri": "https://localhost:8080/"
        },
        "id": "rK04B8IqpOdK",
        "outputId": "4935d859-117a-4f79-82ec-92b122576a9a"
      },
      "outputs": [
        {
          "name": "stdout",
          "output_type": "stream",
          "text": [
            "[[0 1 2 3 4]\n",
            " [5 6 7 8 9]]\n",
            "[0 1 2 3 4]\n"
          ]
        },
        {
          "data": {
            "text/plain": [
              "array([[ 0,  2,  4,  6,  8],\n",
              "       [ 5,  7,  9, 11, 13]])"
            ]
          },
          "execution_count": 4,
          "metadata": {},
          "output_type": "execute_result"
        }
      ],
      "source": [
        "# Why broadcasting\n",
        "\n",
        "# question why these 2 different dimension of array perform + operation\n",
        "# (in matrix this operation can't be done array must have same dim(mxn))\n",
        "\n",
        "a = np.arange(10).reshape(2,5)\n",
        "b = np.arange(5)\n",
        "print(a)\n",
        "print(b)\n",
        "\n",
        "a+b"
      ]
    },
    {
      "cell_type": "code",
      "execution_count": 6,
      "metadata": {
        "colab": {
          "base_uri": "https://localhost:8080/"
        },
        "id": "Y8BaNrYkpd7g",
        "outputId": "63517b6e-85b6-43d1-f5a1-86da2dfab3e3"
      },
      "outputs": [
        {
          "name": "stdout",
          "output_type": "stream",
          "text": [
            "[[0 1 2 3 4]\n",
            " [5 6 7 8 9]]\n",
            "[0 1 2 3]\n"
          ]
        }
      ],
      "source": [
        "import numpy as np\n",
        "\n",
        "# Broadcasting error\n",
        "a = np.arange(10).reshape(2,5)\n",
        "b = np.arange(4)\n",
        "print(a)\n",
        "print(b)\n",
        "\n",
        "# a+b  #! error"
      ]
    },
    {
      "cell_type": "code",
      "execution_count": 7,
      "metadata": {
        "colab": {
          "base_uri": "https://localhost:8080/"
        },
        "id": "TQS5RAi8sVu7",
        "outputId": "700585d4-a3fe-41fd-c921-17db32a42be4"
      },
      "outputs": [
        {
          "data": {
            "text/plain": [
              "array([[ 0,  2,  4],\n",
              "       [ 3,  5,  7],\n",
              "       [ 6,  8, 10],\n",
              "       [ 9, 11, 13]])"
            ]
          },
          "execution_count": 7,
          "metadata": {},
          "output_type": "execute_result"
        }
      ],
      "source": [
        "# Example 1\n",
        "\n",
        "a = np.arange(12).reshape(4,3)\n",
        "b = np.arange(3)\n",
        "\n",
        "a+b  # TRUE"
      ]
    },
    {
      "cell_type": "code",
      "execution_count": 8,
      "metadata": {
        "colab": {
          "base_uri": "https://localhost:8080/",
          "height": 176
        },
        "id": "YkdVHHhutmW9",
        "outputId": "9cc4313b-2a10-4ae2-9a9c-56afef7acc07"
      },
      "outputs": [
        {
          "ename": "ValueError",
          "evalue": "operands could not be broadcast together with shapes (3,4) (3,) ",
          "output_type": "error",
          "traceback": [
            "\u001b[0;31m---------------------------------------------------------------------------\u001b[0m",
            "\u001b[0;31mValueError\u001b[0m                                Traceback (most recent call last)",
            "\u001b[0;32m<ipython-input-8-250cbf068031>\u001b[0m in \u001b[0;36m<cell line: 4>\u001b[0;34m()\u001b[0m\n\u001b[1;32m      2\u001b[0m \u001b[0mb\u001b[0m \u001b[0;34m=\u001b[0m \u001b[0mnp\u001b[0m\u001b[0;34m.\u001b[0m\u001b[0marange\u001b[0m\u001b[0;34m(\u001b[0m\u001b[0;36m3\u001b[0m\u001b[0;34m)\u001b[0m\u001b[0;34m\u001b[0m\u001b[0;34m\u001b[0m\u001b[0m\n\u001b[1;32m      3\u001b[0m \u001b[0;34m\u001b[0m\u001b[0m\n\u001b[0;32m----> 4\u001b[0;31m \u001b[0ma\u001b[0m\u001b[0;34m+\u001b[0m\u001b[0mb\u001b[0m  \u001b[0;31m# False\u001b[0m\u001b[0;34m\u001b[0m\u001b[0;34m\u001b[0m\u001b[0m\n\u001b[0m",
            "\u001b[0;31mValueError\u001b[0m: operands could not be broadcast together with shapes (3,4) (3,) "
          ]
        }
      ],
      "source": [
        "# Example 2\n",
        "\n",
        "a = np.arange(12).reshape(3,4)\n",
        "b = np.arange(3)\n",
        "\n",
        "# a+b  # False"
      ]
    },
    {
      "cell_type": "code",
      "execution_count": 11,
      "metadata": {
        "colab": {
          "base_uri": "https://localhost:8080/"
        },
        "id": "cPw3cQDhtmuZ",
        "outputId": "8724ae0a-cbbb-4fd8-ca8b-9ab544e80ca4"
      },
      "outputs": [
        {
          "data": {
            "text/plain": [
              "array([[0, 1, 2],\n",
              "       [1, 2, 3],\n",
              "       [2, 3, 4],\n",
              "       [3, 4, 5]])"
            ]
          },
          "execution_count": 11,
          "metadata": {},
          "output_type": "execute_result"
        }
      ],
      "source": [
        "# Example 3\n",
        "\n",
        "a = np.arange(3).reshape(1,3)   # (1,3) ---> (4,3)  1 streched to 4\n",
        "b = np.arange(4).reshape(4,1)   # (4,1) ---> (4,3)  1 streched to 3\n",
        "\n",
        "a+b # True"
      ]
    },
    {
      "cell_type": "code",
      "execution_count": 13,
      "metadata": {
        "colab": {
          "base_uri": "https://localhost:8080/"
        },
        "id": "yir7aWSQtm5C",
        "outputId": "3425da20-4478-460d-a408-49b0b389ef0f"
      },
      "outputs": [
        {
          "name": "stdout",
          "output_type": "stream",
          "text": [
            "[1]\n",
            "[[0 1]\n",
            " [2 3]]\n"
          ]
        },
        {
          "data": {
            "text/plain": [
              "array([[1, 2],\n",
              "       [3, 4]])"
            ]
          },
          "execution_count": 13,
          "metadata": {},
          "output_type": "execute_result"
        }
      ],
      "source": [
        "# Example 4\n",
        "a = np.array([1])  # shape(1,1)\n",
        "\n",
        "b = np.arange(4).reshape(2,2)   # shape(2,2)\n",
        "\n",
        "print(a)\n",
        "print(b)\n",
        "\n",
        "a+b # True"
      ]
    },
    {
      "cell_type": "code",
      "execution_count": 14,
      "metadata": {
        "colab": {
          "base_uri": "https://localhost:8080/",
          "height": 176
        },
        "id": "1GEzx2GdtnCY",
        "outputId": "24139e72-c30a-4e94-b356-62bc54b9a96a"
      },
      "outputs": [
        {
          "ename": "ValueError",
          "evalue": "operands could not be broadcast together with shapes (3,4) (4,3) ",
          "output_type": "error",
          "traceback": [
            "\u001b[0;31m---------------------------------------------------------------------------\u001b[0m",
            "\u001b[0;31mValueError\u001b[0m                                Traceback (most recent call last)",
            "\u001b[0;32m<ipython-input-14-21708c7ec593>\u001b[0m in \u001b[0;36m<cell line: 7>\u001b[0;34m()\u001b[0m\n\u001b[1;32m      5\u001b[0m \u001b[0;34m\u001b[0m\u001b[0m\n\u001b[1;32m      6\u001b[0m \u001b[0;34m\u001b[0m\u001b[0m\n\u001b[0;32m----> 7\u001b[0;31m \u001b[0ma\u001b[0m\u001b[0;34m+\u001b[0m\u001b[0mb\u001b[0m  \u001b[0;31m# false\u001b[0m\u001b[0;34m\u001b[0m\u001b[0;34m\u001b[0m\u001b[0m\n\u001b[0m",
            "\u001b[0;31mValueError\u001b[0m: operands could not be broadcast together with shapes (3,4) (4,3) "
          ]
        }
      ],
      "source": [
        "# Example 5\n",
        "\n",
        "a = np.arange(12).reshape(3,4)\n",
        "b = np.arange(12).reshape(4,3)\n",
        "\n",
        "\n",
        "a+b  # false"
      ]
    },
    {
      "cell_type": "markdown",
      "metadata": {
        "id": "OfLTr_h1xWMv"
      },
      "source": [
        "**Working with mathematical formulas**"
      ]
    },
    {
      "cell_type": "code",
      "execution_count": 15,
      "metadata": {
        "colab": {
          "base_uri": "https://localhost:8080/"
        },
        "id": "8WC_eNC_xIId",
        "outputId": "579df773-9a96-4289-9dd2-17340ba67646"
      },
      "outputs": [
        {
          "data": {
            "text/plain": [
              "45"
            ]
          },
          "execution_count": 15,
          "metadata": {},
          "output_type": "execute_result"
        }
      ],
      "source": [
        "a = np.arange(10)\n",
        "np.sum(a)"
      ]
    },
    {
      "cell_type": "code",
      "execution_count": 16,
      "metadata": {
        "colab": {
          "base_uri": "https://localhost:8080/"
        },
        "id": "F6DfWV08xIVf",
        "outputId": "fb6e0700-017b-45e3-bc5a-6f9f624ce284"
      },
      "outputs": [
        {
          "data": {
            "text/plain": [
              "array([ 0.        ,  0.84147098,  0.90929743,  0.14112001, -0.7568025 ,\n",
              "       -0.95892427, -0.2794155 ,  0.6569866 ,  0.98935825,  0.41211849])"
            ]
          },
          "execution_count": 16,
          "metadata": {},
          "output_type": "execute_result"
        }
      ],
      "source": [
        "a = np.arange(10)\n",
        "np.sin(a)"
      ]
    },
    {
      "cell_type": "code",
      "execution_count": 18,
      "metadata": {
        "colab": {
          "base_uri": "https://localhost:8080/"
        },
        "id": "XHE6HfnmxVNu",
        "outputId": "fe0313a4-ead3-41d5-b260-f89fac67a4de"
      },
      "outputs": [
        {
          "data": {
            "text/plain": [
              "array([0.5       , 0.73105858, 0.88079708, 0.95257413, 0.98201379,\n",
              "       0.99330715, 0.99752738, 0.99908895, 0.99966465, 0.99987661])"
            ]
          },
          "execution_count": 18,
          "metadata": {},
          "output_type": "execute_result"
        }
      ],
      "source": [
        "# Sigmoid Function\n",
        "\n",
        "def sigmoid(array):\n",
        "  return (1/(1+np.exp(-(array))))\n",
        "\n",
        "\n",
        "a = np.arange(10)\n",
        "sigmoid(a)"
      ]
    },
    {
      "cell_type": "code",
      "execution_count": 22,
      "metadata": {
        "colab": {
          "base_uri": "https://localhost:8080/"
        },
        "id": "6xuMYC2yxIdp",
        "outputId": "12a315d6-878a-4e73-9b0f-7d6cf8606f61"
      },
      "outputs": [
        {
          "data": {
            "text/plain": [
              "468.4"
            ]
          },
          "execution_count": 22,
          "metadata": {},
          "output_type": "execute_result"
        }
      ],
      "source": [
        "# Mean Square error  ( Loss funtion)\n",
        "\n",
        "def mse(actual, predicted):\n",
        "  return np.mean((actual - predicted)**2)\n",
        "\n",
        "\n",
        "actual = np.random.randint(1,50,25)\n",
        "predicted = np.random.randint(1,50,25)\n",
        "\n",
        "mse(actual, predicted)\n"
      ]
    },
    {
      "cell_type": "code",
      "execution_count": null,
      "metadata": {
        "id": "MCk7ix6FxJBN"
      },
      "outputs": [],
      "source": [
        "# Binary cross Entropy\n",
        "\n",
        "def bce(y,p):\n",
        "  return np.mean(-(y*np.log(p)+ (1-y)*np.log(1-p)))/n\n",
        "\n"
      ]
    },
    {
      "cell_type": "code",
      "execution_count": 23,
      "metadata": {
        "colab": {
          "base_uri": "https://localhost:8080/"
        },
        "id": "6kQSa5E-xJLO",
        "outputId": "2c2f9b29-02ef-4523-8a43-bf204ca7c603"
      },
      "outputs": [
        {
          "data": {
            "text/plain": [
              "array([ 1.,  2.,  3.,  4., nan,  5.,  6.])"
            ]
          },
          "execution_count": 23,
          "metadata": {},
          "output_type": "execute_result"
        }
      ],
      "source": [
        "# Working with missing value\n",
        "a = np.array([1,2,3,4,np.nan, 5,6])   # np.nan = missing value\n",
        "a"
      ]
    },
    {
      "cell_type": "code",
      "execution_count": 24,
      "metadata": {
        "colab": {
          "base_uri": "https://localhost:8080/"
        },
        "id": "ha-k7ncQxJS8",
        "outputId": "6f11c909-58da-4b21-e944-631bdf14df14"
      },
      "outputs": [
        {
          "data": {
            "text/plain": [
              "array([False, False, False, False,  True, False, False])"
            ]
          },
          "execution_count": 24,
          "metadata": {},
          "output_type": "execute_result"
        }
      ],
      "source": [
        "np.isnan(a)"
      ]
    },
    {
      "cell_type": "code",
      "execution_count": 25,
      "metadata": {
        "colab": {
          "base_uri": "https://localhost:8080/"
        },
        "id": "4l_2SqSZxJZ-",
        "outputId": "d8ac973c-50f3-493f-fe9b-092026573fe2"
      },
      "outputs": [
        {
          "data": {
            "text/plain": [
              "array([1., 2., 3., 4., 5., 6.])"
            ]
          },
          "execution_count": 25,
          "metadata": {},
          "output_type": "execute_result"
        }
      ],
      "source": [
        "a[~np.isnan(a)]"
      ]
    },
    {
      "cell_type": "code",
      "execution_count": null,
      "metadata": {
        "id": "sgS_iJj85soy"
      },
      "outputs": [],
      "source": []
    },
    {
      "cell_type": "markdown",
      "metadata": {
        "id": "MEDMJpBA5uMm"
      },
      "source": [
        "**Graph Plotting**"
      ]
    },
    {
      "cell_type": "code",
      "execution_count": 30,
      "metadata": {
        "colab": {
          "base_uri": "https://localhost:8080/",
          "height": 447
        },
        "id": "CgI9jlQx5szi",
        "outputId": "8027cef4-b8bb-4696-bd03-3c6cd2156235"
      },
      "outputs": [
        {
          "data": {
            "text/plain": [
              "[<matplotlib.lines.Line2D at 0x7a6be6571420>]"
            ]
          },
          "execution_count": 30,
          "metadata": {},
          "output_type": "execute_result"
        },
        {
          "data": {
            "image/png": "[encoded data removed]",
            "text/plain": [
              "<Figure size 640x480 with 1 Axes>"
            ]
          },
          "metadata": {},
          "output_type": "display_data"
        }
      ],
      "source": [
        "# plotting a 2D plot\n",
        "\n",
        "import matplotlib.pyplot as plt\n",
        "\n",
        "# x=y\n",
        "\n",
        "\n",
        "x = np.linspace(-10,10,100)\n",
        "y = x\n",
        "\n",
        "plt.plot(x,y)"
      ]
    },
    {
      "cell_type": "code",
      "execution_count": 36,
      "metadata": {
        "colab": {
          "base_uri": "https://localhost:8080/",
          "height": 447
        },
        "id": "lZg7KF2Q6yhi",
        "outputId": "0bf6f285-2d27-4dd0-d555-90078a048bb1"
      },
      "outputs": [
        {
          "data": {
            "text/plain": [
              "[<matplotlib.lines.Line2D at 0x7a6be3ed42e0>]"
            ]
          },
          "execution_count": 36,
          "metadata": {},
          "output_type": "execute_result"
        },
        {
          "data": {
            "image/png": "[encoded data removed]",
            "text/plain": [
              "<Figure size 640x480 with 1 Axes>"
            ]
          },
          "metadata": {},
          "output_type": "display_data"
        }
      ],
      "source": [
        "# y = x^2\n",
        "\n",
        "x = np.linspace(-10,10,100)\n",
        "y = x**2\n",
        "\n",
        "plt.plot(x,y)\n"
      ]
    },
    {
      "cell_type": "code",
      "execution_count": 38,
      "metadata": {
        "colab": {
          "base_uri": "https://localhost:8080/",
          "height": 447
        },
        "id": "OKU6IVXi6zRw",
        "outputId": "733e4906-fddd-4a90-dec8-f654dd416af7"
      },
      "outputs": [
        {
          "data": {
            "text/plain": [
              "[<matplotlib.lines.Line2D at 0x7a6be3f810f0>]"
            ]
          },
          "execution_count": 38,
          "metadata": {},
          "output_type": "execute_result"
        },
        {
          "data": {
            "image/png": "[encoded data removed]",
            "text/plain": [
              "<Figure size 640x480 with 1 Axes>"
            ]
          },
          "metadata": {},
          "output_type": "display_data"
        }
      ],
      "source": [
        "# sinx graph\n",
        "\n",
        "x = np.linspace(-10,10,100)\n",
        "y = np.sin(x)\n",
        "\n",
        "plt.plot(x,y)"
      ]
    },
    {
      "cell_type": "code",
      "execution_count": 47,
      "metadata": {
        "colab": {
          "base_uri": "https://localhost:8080/",
          "height": 502
        },
        "id": "1-rVkscY6zZp",
        "outputId": "08d57c4d-749e-425e-9388-a62c2629d517"
      },
      "outputs": [
        {
          "name": "stderr",
          "output_type": "stream",
          "text": [
            "<ipython-input-47-aac8fb4d3e87>:2: RuntimeWarning: invalid value encountered in log\n",
            "  y = np.log(x)\n"
          ]
        },
        {
          "data": {
            "text/plain": [
              "[<matplotlib.lines.Line2D at 0x7a6be35a2050>]"
            ]
          },
          "execution_count": 47,
          "metadata": {},
          "output_type": "execute_result"
        },
        {
          "data": {
            "image/png": "[encoded data removed]",
            "text/plain": [
              "<Figure size 640x480 with 1 Axes>"
            ]
          },
          "metadata": {},
          "output_type": "display_data"
        }
      ],
      "source": [
        "# Logx\n",
        "\n",
        "x = np.linspace(-100,100,1000)\n",
        "y = np.log(x)\n",
        "\n",
        "plt.plot(x,y)"
      ]
    },
    {
      "cell_type": "code",
      "execution_count": 48,
      "metadata": {
        "colab": {
          "base_uri": "https://localhost:8080/",
          "height": 502
        },
        "id": "-Z9KAz4t6zh8",
        "outputId": "0ddaa90f-0503-487e-b7e4-6208c78cca92"
      },
      "outputs": [
        {
          "name": "stderr",
          "output_type": "stream",
          "text": [
            "<ipython-input-48-b9904b7cd21f>:4: RuntimeWarning: invalid value encountered in log\n",
            "  y = x*np.log(x)\n"
          ]
        },
        {
          "data": {
            "text/plain": [
              "[<matplotlib.lines.Line2D at 0x7a6be35a7760>]"
            ]
          },
          "execution_count": 48,
          "metadata": {},
          "output_type": "execute_result"
        },
        {
          "data": {
            "image/png": "[encoded data removed]",
            "text/plain": [
              "<Figure size 640x480 with 1 Axes>"
            ]
          },
          "metadata": {},
          "output_type": "display_data"
        }
      ],
      "source": [
        "# xlog(x)\n",
        "\n",
        "x = np.linspace(-100,100,1000)\n",
        "y = x*np.log(x)\n",
        "\n",
        "plt.plot(x,y)"
      ]
    },
    {
      "cell_type": "code",
      "execution_count": 49,
      "metadata": {
        "colab": {
          "base_uri": "https://localhost:8080/",
          "height": 447
        },
        "id": "Zdi1KHOo9Ncf",
        "outputId": "fb994f0a-bf71-4fd0-bf24-7153a0f56e86"
      },
      "outputs": [
        {
          "data": {
            "text/plain": [
              "[<matplotlib.lines.Line2D at 0x7a6be39142b0>]"
            ]
          },
          "execution_count": 49,
          "metadata": {},
          "output_type": "execute_result"
        },
        {
          "data": {
            "image/png": "[encoded data removed]",
            "text/plain": [
              "<Figure size 640x480 with 1 Axes>"
            ]
          },
          "metadata": {},
          "output_type": "display_data"
        }
      ],
      "source": [
        "# sigmoid function\n",
        "\n",
        "\n",
        "x = np.linspace(-10,10,1000)\n",
        "y = 1/(1+ np.exp(-(x)))\n",
        "\n",
        "plt.plot(x,y)"
      ]
    },
    {
      "cell_type": "code",
      "execution_count": null,
      "metadata": {
        "id": "Nuk9BRkb9Nos"
      },
      "outputs": [],
      "source": [
        "\n"
      ]
    },
    {
      "cell_type": "code",
      "execution_count": null,
      "metadata": {
        "id": "qyiyG3br9Nz9"
      },
      "outputs": [],
      "source": []
    }
  ],
  "metadata": {
    "colab": {
      "provenance": []
    },
    "kernelspec": {
      "display_name": "Python 3",
      "name": "python3"
    },
    "language_info": {
      "codemirror_mode": {
        "name": "ipython",
        "version": 3
      },
      "file_extension": ".py",
      "mimetype": "text/x-python",
      "name": "python",
      "nbconvert_exporter": "python",
      "pygments_lexer": "ipython3",
      "version": "3.11.3"
    }
  },
  "nbformat": 4,
  "nbformat_minor": 0
}
