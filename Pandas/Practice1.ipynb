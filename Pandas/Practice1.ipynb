{
  "cells": [
    {
      "cell_type": "code",
      "execution_count": 1,
      "metadata": {
        "id": "zxrbXftDYalU"
      },
      "outputs": [],
      "source": [
        "import pandas as pd\n",
        "import numpy as np"
      ]
    },
    {
      "cell_type": "markdown",
      "metadata": {
        "id": "MetYTZJpYfdz"
      },
      "source": [
        "###`Q-1:` Write a program to create an empty series."
      ]
    },
    {
      "cell_type": "code",
      "execution_count": 4,
      "metadata": {
        "id": "KUcgT935YgC5"
      },
      "outputs": [
        {
          "data": {
            "text/plain": [
              "0   NaN\n",
              "1   NaN\n",
              "2   NaN\n",
              "3   NaN\n",
              "4   NaN\n",
              "dtype: float64"
            ]
          },
          "execution_count": 4,
          "metadata": {},
          "output_type": "execute_result"
        }
      ],
      "source": [
        "a = np.nan*(np.arange(5))\n",
        "\n",
        "s = pd.Series(a)\n",
        "s"
      ]
    },
    {
      "cell_type": "markdown",
      "metadata": {
        "id": "jw5ybzU6YhOo"
      },
      "source": [
        "###`Q-2:` Write a Pandas program to add, subtract, multiple and divide two Pandas Series."
      ]
    },
    {
      "cell_type": "code",
      "execution_count": 10,
      "metadata": {
        "id": "EF3GgVFjYjwG"
      },
      "outputs": [
        {
          "name": "stdout",
          "output_type": "stream",
          "text": [
            "0     4\n",
            "1     7\n",
            "2     8\n",
            "3     6\n",
            "4    14\n",
            "dtype: int64\n",
            "0     3\n",
            "1    10\n",
            "2    15\n",
            "3     8\n",
            "4    45\n",
            "dtype: int64\n",
            "0    0.333333\n",
            "1    0.400000\n",
            "2    0.600000\n",
            "3    2.000000\n",
            "4    0.555556\n",
            "dtype: float64\n",
            "0   -2\n",
            "1   -3\n",
            "2   -2\n",
            "3    2\n",
            "4   -4\n",
            "dtype: int64\n"
          ]
        }
      ],
      "source": [
        "s = pd.Series([1,2,3,4,5])\n",
        "k = pd.Series([3,5,5,2,9])\n",
        "\n",
        "print(s+k)\n",
        "print(s*k)\n",
        "print(s/k)\n",
        "print(s-k)"
      ]
    },
    {
      "cell_type": "markdown",
      "metadata": {
        "id": "TZDp25jeYlB6"
      },
      "source": [
        "###`Q-3` Write a Pandas program to compare the elements of the two Pandas Series.\n",
        "Sample Series: [2, 4, 6, 8, 10], [1, 3, 5, 7, 10]\n",
        "\n"
      ]
    },
    {
      "cell_type": "code",
      "execution_count": 13,
      "metadata": {
        "id": "gFNil8ruYp1y"
      },
      "outputs": [
        {
          "name": "stdout",
          "output_type": "stream",
          "text": [
            "0     True\n",
            "1     True\n",
            "2     True\n",
            "3     True\n",
            "4    False\n",
            "dtype: bool\n",
            "0    False\n",
            "1    False\n",
            "2    False\n",
            "3    False\n",
            "4     True\n",
            "dtype: bool\n",
            "0    False\n",
            "1    False\n",
            "2    False\n",
            "3    False\n",
            "4    False\n",
            "dtype: bool\n"
          ]
        }
      ],
      "source": [
        "s1 = pd.Series([2,4,6,8,10])\n",
        "s2 = pd.Series([1,3,5,7,10])\n",
        "\n",
        "print(s1>s2)\n",
        "print(s1==s2)\n",
        "print(s1<s2)"
      ]
    },
    {
      "cell_type": "markdown",
      "metadata": {
        "id": "HlOBn_N6YrZz"
      },
      "source": [
        "###`Q-5.`Write a function to change the data type of given a column or a Series. Function takes series and data type as input, returns the converted series.\n",
        "```\n",
        "series = pd.Series([1,2,'Python', 2.0, True, 100])\n",
        "change to float type data\n",
        "```\n",
        "Note: Read about pd.to_numeric()"
      ]
    },
    {
      "cell_type": "code",
      "execution_count": 14,
      "metadata": {
        "id": "_SWQJCUJYwXm"
      },
      "outputs": [
        {
          "data": {
            "text/plain": [
              "0      1.0\n",
              "1      2.0\n",
              "2      NaN\n",
              "3      2.0\n",
              "4      1.0\n",
              "5    100.0\n",
              "dtype: float64"
            ]
          },
          "execution_count": 14,
          "metadata": {},
          "output_type": "execute_result"
        }
      ],
      "source": [
        "def change_to_numeric(series):\n",
        "    return pd.to_numeric(series,errors='coerce') # throw nan value when series data is in string datatype\n",
        "\n",
        "series = pd.Series([1,2,'Python', 2.0, True, 100])\n",
        "change_to_numeric(series)"
      ]
    },
    {
      "cell_type": "markdown",
      "metadata": {
        "id": "PGp3OqRIY0Va"
      },
      "source": [
        "Download data - https://drive.google.com/file/d/1LRhXwbEodeWXtzPhJCX0X9Lf_BECzvqb/view?usp=share_link\n",
        "All Batsman runs series in IPL 2008 to 2022.\n",
        "\n",
        "Below questions are based on this data."
      ]
    },
    {
      "cell_type": "markdown",
      "metadata": {
        "id": "TxFkp-L4Y23d"
      },
      "source": [
        "###`Q-6` Find top 10 most run getter from the series."
      ]
    },
    {
      "cell_type": "code",
      "execution_count": 35,
      "metadata": {
        "id": "muBgocA6Y2Bg"
      },
      "outputs": [
        {
          "data": {
            "text/plain": [
              "batter\n",
              "A Ashish Reddy     280\n",
              "A Badoni           161\n",
              "A Chandila           4\n",
              "A Chopra            53\n",
              "A Choudhary         25\n",
              "                  ... \n",
              "Yash Dayal           0\n",
              "Yashpal Singh       47\n",
              "Younis Khan          3\n",
              "Yuvraj Singh      2754\n",
              "Z Khan             117\n",
              "Name: batsman_run, Length: 605, dtype: int64"
            ]
          },
          "execution_count": 35,
          "metadata": {},
          "output_type": "execute_result"
        }
      ],
      "source": [
        "series = pd.read_csv('C:\\Git hub\\Data-Science\\Pandas\\Datasets\\player_runs.csv', index_col =\"batter\").squeeze()\n",
        "series"
      ]
    },
    {
      "cell_type": "code",
      "execution_count": 36,
      "metadata": {},
      "outputs": [
        {
          "data": {
            "text/plain": [
              "batter\n",
              "V Kohli           6634\n",
              "S Dhawan          6244\n",
              "DA Warner         5883\n",
              "RG Sharma         5881\n",
              "SK Raina          5536\n",
              "AB de Villiers    5181\n",
              "CH Gayle          4997\n",
              "MS Dhoni          4978\n",
              "RV Uthappa        4954\n",
              "KD Karthik        4377\n",
              "Name: batsman_run, dtype: int64"
            ]
          },
          "execution_count": 36,
          "metadata": {},
          "output_type": "execute_result"
        }
      ],
      "source": [
        "# top 10 scorer\n",
        "series.sort_values(ascending=False).head(10)"
      ]
    },
    {
      "cell_type": "markdown",
      "metadata": {
        "id": "GzlCFBM_Y83g"
      },
      "source": [
        "###`Q-7` No of players having runs above 3000"
      ]
    },
    {
      "cell_type": "code",
      "execution_count": 41,
      "metadata": {
        "id": "JdNchHRWY1B-"
      },
      "outputs": [
        {
          "data": {
            "text/plain": [
              "20"
            ]
          },
          "execution_count": 41,
          "metadata": {},
          "output_type": "execute_result"
        }
      ],
      "source": [
        "series[series>3000].size"
      ]
    },
    {
      "cell_type": "markdown",
      "metadata": {
        "id": "pMBEoCL1Y-vh"
      },
      "source": [
        "###`Q-8` No of players having runs above mean value?"
      ]
    },
    {
      "cell_type": "code",
      "execution_count": 42,
      "metadata": {
        "id": "LgtViVFZZBIu"
      },
      "outputs": [
        {
          "data": {
            "text/plain": [
              "128"
            ]
          },
          "execution_count": 42,
          "metadata": {},
          "output_type": "execute_result"
        }
      ],
      "source": [
        "series[series>series.mean()].size"
      ]
    },
    {
      "cell_type": "markdown",
      "metadata": {
        "id": "OAB1CgdgZEqE"
      },
      "source": [
        "Download data - https://drive.google.com/file/d/1QZuZ5bypUInfVvarHACLAi8tXXHvb8xd/view?usp=share_link\n",
        "\n",
        "file name - items.csv\n",
        "\n"
      ]
    },
    {
      "cell_type": "markdown",
      "metadata": {
        "id": "1UTQQImxZGLu"
      },
      "source": [
        "###`Q-9`\n",
        "\n",
        "    i. Read `items.csv` making `item_name` as index.\n",
        "    ii. Show no of nan values\n",
        "    ii. Item price is given in $, so convert it to rupees without currency symbol.\n",
        "    iii. Make data type of newly made series as float.\n",
        "    iv. Fill nan with mean of the series\n",
        "\n",
        "\n",
        "How csv file looks\n",
        "\n",
        "```\n",
        "item_name\titem_price\n",
        "Chips and Fresh Tomato Salsa\t$2.39\n",
        "Izze\t$3.39\n",
        "Nantucket Nectar\t$3.39\n",
        "Chips and Tomatillo-Green Chili Salsa\t$2.39\n",
        "Chicken Bowl\t$16.98\n",
        "\n",
        "```"
      ]
    },
    {
      "cell_type": "code",
      "execution_count": 85,
      "metadata": {
        "id": "1xaWkoMJZFNK"
      },
      "outputs": [
        {
          "data": {
            "text/plain": [
              "item_name\n",
              "Chips and Fresh Tomato Salsa              $2.39 \n",
              "Izze                                      $3.39 \n",
              "Nantucket Nectar                          $3.39 \n",
              "Chips and Tomatillo-Green Chili Salsa     $2.39 \n",
              "Chicken Bowl                             $16.98 \n",
              "                                          ...   \n",
              "Steak Burrito                            $11.75 \n",
              "Steak Burrito                            $11.75 \n",
              "Chicken Salad Bowl                       $11.25 \n",
              "Chicken Salad Bowl                        $8.75 \n",
              "Chicken Salad Bowl                        $8.75 \n",
              "Name: item_price, Length: 4622, dtype: object"
            ]
          },
          "execution_count": 85,
          "metadata": {},
          "output_type": "execute_result"
        }
      ],
      "source": [
        "# 1\n",
        "\n",
        "items = pd.read_csv('C:\\Git hub\\Data-Science\\Pandas\\Datasets\\items.csv', index_col= \"item_name\").squeeze()\n",
        "items"
      ]
    },
    {
      "cell_type": "code",
      "execution_count": 86,
      "metadata": {},
      "outputs": [
        {
          "data": {
            "text/plain": [
              "50"
            ]
          },
          "execution_count": 86,
          "metadata": {},
          "output_type": "execute_result"
        }
      ],
      "source": [
        "# 2 No of nan values\n",
        "items.isna().sum()"
      ]
    },
    {
      "cell_type": "code",
      "execution_count": 88,
      "metadata": {},
      "outputs": [],
      "source": [
        "# 3\n",
        "\n",
        "def rupees(x):\n",
        "    try:\n",
        "        y=x[1:]\n",
        "    except:\n",
        "        y=x\n",
        "\n",
        "    return float(y)*82.93\n",
        "\n",
        "\n",
        "items = items.apply(rupees)"
      ]
    },
    {
      "cell_type": "code",
      "execution_count": 90,
      "metadata": {},
      "outputs": [
        {
          "data": {
            "text/plain": [
              "item_name\n",
              "Chips and Fresh Tomato Salsa              198.2027\n",
              "Izze                                      281.1327\n",
              "Nantucket Nectar                          281.1327\n",
              "Chips and Tomatillo-Green Chili Salsa     198.2027\n",
              "Chicken Bowl                             1408.1514\n",
              "                                           ...    \n",
              "Steak Burrito                             974.4275\n",
              "Steak Burrito                             974.4275\n",
              "Chicken Salad Bowl                        932.9625\n",
              "Chicken Salad Bowl                        725.6375\n",
              "Chicken Salad Bowl                        725.6375\n",
              "Name: item_price, Length: 4622, dtype: float64"
            ]
          },
          "execution_count": 90,
          "metadata": {},
          "output_type": "execute_result"
        }
      ],
      "source": [
        "#4\n",
        "\n",
        "items.fillna(items.mean())\n"
      ]
    },
    {
      "cell_type": "markdown",
      "metadata": {
        "id": "UHc_4e9cZK8r"
      },
      "source": [
        "###`Q-10`:\n",
        "\n",
        "    i. Find mean price\n",
        "    ii. Find 30th and 6th percentile value\n",
        "    iii. Plot Histogram on price with bin size 50\n",
        "    iv. No of items price lies between [1000 to 2000]\n",
        "\n"
      ]
    },
    {
      "cell_type": "code",
      "execution_count": 92,
      "metadata": {
        "id": "Eh3xX9FpZNmE"
      },
      "outputs": [
        {
          "data": {
            "text/plain": [
              "618.9092019685039"
            ]
          },
          "execution_count": 92,
          "metadata": {},
          "output_type": "execute_result"
        }
      ],
      "source": [
        "items.mean()"
      ]
    },
    {
      "cell_type": "code",
      "execution_count": 102,
      "metadata": {},
      "outputs": [
        {
          "name": "stdout",
          "output_type": "stream",
          "text": [
            "369.03850000000006\n",
            "103.66250000000001\n"
          ]
        }
      ],
      "source": [
        "# ii\n",
        "\n",
        "print(items.quantile(q=0.3))\n",
        "print(items.quantile(q=0.06))"
      ]
    },
    {
      "cell_type": "code",
      "execution_count": 95,
      "metadata": {},
      "outputs": [
        {
          "data": {
            "text/plain": [
              "<Axes: ylabel='Frequency'>"
            ]
          },
          "execution_count": 95,
          "metadata": {},
          "output_type": "execute_result"
        },
        {
          "data": {
            "image/png": "[encoded data removed]",
            "text/plain": [
              "<Figure size 640x480 with 1 Axes>"
            ]
          },
          "metadata": {},
          "output_type": "display_data"
        }
      ],
      "source": [
        "# iii\n",
        "\n",
        "items.plot.hist(bins = 50)"
      ]
    },
    {
      "cell_type": "code",
      "execution_count": 99,
      "metadata": {},
      "outputs": [
        {
          "data": {
            "text/plain": [
              "116"
            ]
          },
          "execution_count": 99,
          "metadata": {},
          "output_type": "execute_result"
        }
      ],
      "source": [
        "# iv\n",
        "\n",
        "items[(items>=1000) & (items <2000)].size"
      ]
    }
  ],
  "metadata": {
    "colab": {
      "provenance": []
    },
    "kernelspec": {
      "display_name": "Python 3",
      "name": "python3"
    },
    "language_info": {
      "codemirror_mode": {
        "name": "ipython",
        "version": 3
      },
      "file_extension": ".py",
      "mimetype": "text/x-python",
      "name": "python",
      "nbconvert_exporter": "python",
      "pygments_lexer": "ipython3",
      "version": "3.11.3"
    }
  },
  "nbformat": 4,
  "nbformat_minor": 0
}
