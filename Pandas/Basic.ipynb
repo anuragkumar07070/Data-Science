{
  "cells": [
    {
      "cell_type": "markdown",
      "metadata": {
        "id": "Nkgl3LZGP0XZ"
      },
      "source": [
        "### What is Pandas\n",
        "\n",
        "Pandas is a fast, powerful, flexible and easy to use open source data analysis and manipulation tool,\n",
        "built on top of the Python programming language.\n",
        "\n",
        "https://pandas.pydata.org/about/index.html"
      ]
    },
    {
      "cell_type": "markdown",
      "metadata": {
        "id": "3QmWVpYGRw59"
      },
      "source": [
        "### Pandas Series\n",
        "\n",
        "A Pandas Series is like a column in a table. It is a 1-D array holding data of any type."
      ]
    },
    {
      "cell_type": "markdown",
      "metadata": {
        "id": "3hwTOkrbPMjE"
      },
      "source": [
        "### Importing Pandas"
      ]
    },
    {
      "cell_type": "code",
      "execution_count": 2,
      "metadata": {
        "id": "QWWCrofyPM7J"
      },
      "outputs": [],
      "source": [
        "import numpy as np\n",
        "import pandas as pd"
      ]
    },
    {
      "cell_type": "markdown",
      "metadata": {
        "id": "uU-Ms_To_FG1"
      },
      "source": [
        "### Series from lists"
      ]
    },
    {
      "cell_type": "code",
      "execution_count": 3,
      "metadata": {
        "colab": {
          "base_uri": "https://localhost:8080/"
        },
        "id": "KYk9Gta7_G38",
        "outputId": "45f1b6c8-44ec-4081-d59e-d7139682da3e"
      },
      "outputs": [
        {
          "data": {
            "text/plain": [
              "0       India\n",
              "1       China\n",
              "2         USA\n",
              "3       Nepal\n",
              "4    Srilanka\n",
              "dtype: object"
            ]
          },
          "execution_count": 3,
          "metadata": {},
          "output_type": "execute_result"
        }
      ],
      "source": [
        "# string\n",
        "country = ['India','China','USA','Nepal','Srilanka']\n",
        "\n",
        "pd.Series(country)"
      ]
    },
    {
      "cell_type": "code",
      "execution_count": 4,
      "metadata": {
        "id": "h_Wgimpg_Idl"
      },
      "outputs": [
        {
          "data": {
            "text/plain": [
              "0     20\n",
              "1     42\n",
              "2     52\n",
              "3     92\n",
              "4    102\n",
              "dtype: int64"
            ]
          },
          "execution_count": 4,
          "metadata": {},
          "output_type": "execute_result"
        }
      ],
      "source": [
        "# integers\n",
        "runs = [20,42,52,92,102]\n",
        "\n",
        "pd.Series(runs)"
      ]
    },
    {
      "cell_type": "code",
      "execution_count": 5,
      "metadata": {
        "colab": {
          "base_uri": "https://localhost:8080/"
        },
        "id": "CJgHbnepH_EX",
        "outputId": "b1de62df-903c-4e66-d67b-976425039f17"
      },
      "outputs": [
        {
          "data": {
            "text/plain": [
              "Hindi                 60\n",
              "Maths                 95\n",
              "Science               84\n",
              "sst                   79\n",
              "Physical Education    73\n",
              "dtype: int64"
            ]
          },
          "execution_count": 5,
          "metadata": {},
          "output_type": "execute_result"
        }
      ],
      "source": [
        "# custom index\n",
        "marks = [60,95,84,79,73]\n",
        "subject = [\"Hindi\",\"Maths\",\"Science\",\"sst\",\"Physical Education\"]\n",
        "\n",
        "pd.Series(marks,index =subject)"
      ]
    },
    {
      "cell_type": "code",
      "execution_count": 6,
      "metadata": {
        "colab": {
          "base_uri": "https://localhost:8080/"
        },
        "id": "zcjykyJVKgWs",
        "outputId": "26c2aee7-42c8-4aa2-a854-e436cfbb24b9"
      },
      "outputs": [
        {
          "data": {
            "text/plain": [
              "Hindi                 60\n",
              "Maths                 95\n",
              "Science               84\n",
              "sst                   79\n",
              "Physical Education    73\n",
              "Name: Anurag Scores, dtype: int64"
            ]
          },
          "execution_count": 6,
          "metadata": {},
          "output_type": "execute_result"
        }
      ],
      "source": [
        "# setting a name\n",
        "marks = pd.Series(marks,index=subject,name='Anurag Scores')\n",
        "marks"
      ]
    },
    {
      "cell_type": "markdown",
      "metadata": {
        "id": "gw4NHrWf_Km3"
      },
      "source": [
        "### Series from dict"
      ]
    },
    {
      "cell_type": "code",
      "execution_count": 7,
      "metadata": {
        "colab": {
          "base_uri": "https://localhost:8080/"
        },
        "id": "Sz9B_oPy_RMX",
        "outputId": "d03fa978-2e6b-4098-af75-a7471deaf464"
      },
      "outputs": [
        {
          "data": {
            "text/plain": [
              "name       Anurag\n",
              "Branch         DS\n",
              "Section         B\n",
              "Name: Anurag ka data, dtype: object"
            ]
          },
          "execution_count": 7,
          "metadata": {},
          "output_type": "execute_result"
        }
      ],
      "source": [
        "anurag = {\n",
        "    \"name\":\"Anurag\",\n",
        "    \"Branch\":\"DS\",\n",
        "    \"Section\":\"B\", \n",
        "}\n",
        "\n",
        "student_data = pd.Series(anurag,name='Anurag ka data')\n",
        "student_data"
      ]
    },
    {
      "cell_type": "markdown",
      "metadata": {
        "id": "MDSIDfei_Szi"
      },
      "source": [
        "### Series Attributes"
      ]
    },
    {
      "cell_type": "code",
      "execution_count": 8,
      "metadata": {
        "colab": {
          "base_uri": "https://localhost:8080/"
        },
        "id": "0_eqjw1u_lG_",
        "outputId": "5d0a82ad-78c1-4d70-cca3-55f0324362ea"
      },
      "outputs": [
        {
          "data": {
            "text/plain": [
              "3"
            ]
          },
          "execution_count": 8,
          "metadata": {},
          "output_type": "execute_result"
        }
      ],
      "source": [
        "# size\n",
        "student_data.size"
      ]
    },
    {
      "cell_type": "code",
      "execution_count": 9,
      "metadata": {
        "colab": {
          "base_uri": "https://localhost:8080/"
        },
        "id": "nYpNWJhWGyqa",
        "outputId": "36ce60d5-efc7-4ca5-80e6-f4cbc723e46f"
      },
      "outputs": [
        {
          "data": {
            "text/plain": [
              "dtype('O')"
            ]
          },
          "execution_count": 9,
          "metadata": {},
          "output_type": "execute_result"
        }
      ],
      "source": [
        "# dtype\n",
        "student_data.dtype"
      ]
    },
    {
      "cell_type": "code",
      "execution_count": 10,
      "metadata": {
        "colab": {
          "base_uri": "https://localhost:8080/",
          "height": 36
        },
        "id": "ImBy24CkKkZP",
        "outputId": "c78dbc63-c3c0-48a5-b516-b84bf619fe82"
      },
      "outputs": [
        {
          "data": {
            "text/plain": [
              "'Anurag ka data'"
            ]
          },
          "execution_count": 10,
          "metadata": {},
          "output_type": "execute_result"
        }
      ],
      "source": [
        "# name\n",
        "student_data.name"
      ]
    },
    {
      "cell_type": "code",
      "execution_count": 11,
      "metadata": {
        "colab": {
          "base_uri": "https://localhost:8080/"
        },
        "id": "UsNGB2rCF9V-",
        "outputId": "a9dcd91d-fc74-4947-a536-ad99af92ac02"
      },
      "outputs": [
        {
          "data": {
            "text/plain": [
              "True"
            ]
          },
          "execution_count": 11,
          "metadata": {},
          "output_type": "execute_result"
        }
      ],
      "source": [
        "# is_unique\n",
        "student_data.is_unique\n",
        "\n",
        "pd.Series([1,1,2,3,4,5]).is_unique  # False\n",
        "pd.Series([1,2,3,4,5]).is_unique    # True"
      ]
    },
    {
      "cell_type": "code",
      "execution_count": 12,
      "metadata": {
        "colab": {
          "base_uri": "https://localhost:8080/"
        },
        "id": "VLB00Z-vGBHL",
        "outputId": "f49ea31d-92d4-453a-c649-990f6b630420"
      },
      "outputs": [
        {
          "data": {
            "text/plain": [
              "Index(['name', 'Branch', 'Section'], dtype='object')"
            ]
          },
          "execution_count": 12,
          "metadata": {},
          "output_type": "execute_result"
        }
      ],
      "source": [
        "# index\n",
        "student_data.index"
      ]
    },
    {
      "cell_type": "code",
      "execution_count": 13,
      "metadata": {
        "colab": {
          "base_uri": "https://localhost:8080/"
        },
        "id": "PmE8l3SKGDbl",
        "outputId": "90d0daf7-580a-4def-9c42-f34a8ee9ca6a"
      },
      "outputs": [
        {
          "data": {
            "text/plain": [
              "array(['Anurag', 'DS', 'B'], dtype=object)"
            ]
          },
          "execution_count": 13,
          "metadata": {},
          "output_type": "execute_result"
        }
      ],
      "source": [
        "# values\n",
        "student_data.values"
      ]
    },
    {
      "cell_type": "markdown",
      "metadata": {
        "id": "UCP7I0t_KMID"
      },
      "source": [
        "### Series using read_csv"
      ]
    },
    {
      "cell_type": "code",
      "execution_count": 14,
      "metadata": {
        "colab": {
          "base_uri": "https://localhost:8080/"
        },
        "id": "r2FWTRoBGEk5",
        "outputId": "8a160aa3-095c-4602-b4ca-2edcfaf3d13b"
      },
      "outputs": [
        {
          "data": {
            "text/plain": [
              "0       48\n",
              "1       57\n",
              "2       40\n",
              "3       43\n",
              "4       44\n",
              "      ... \n",
              "360    231\n",
              "361    226\n",
              "362    155\n",
              "363    144\n",
              "364    172\n",
              "Name: Subscribers gained, Length: 365, dtype: int64"
            ]
          },
          "execution_count": 14,
          "metadata": {},
          "output_type": "execute_result"
        }
      ],
      "source": [
        "# with one col\n",
        "subs = pd.read_csv(\"C:\\Git hub\\Data-Science\\Pandas\\Datasets\\subs.csv\")\n",
        "subs = subs.squeeze() # to convert DataFrame into Series\n",
        "subs"
      ]
    },
    {
      "cell_type": "code",
      "execution_count": 15,
      "metadata": {
        "colab": {
          "base_uri": "https://localhost:8080/"
        },
        "id": "a6Y3bq4TOniT",
        "outputId": "f919b599-9e23-423b-c42c-a468999ad3f6"
      },
      "outputs": [
        {
          "data": {
            "text/plain": [
              "match_no\n",
              "1       1\n",
              "2      23\n",
              "3      13\n",
              "4      12\n",
              "5       1\n",
              "       ..\n",
              "211     0\n",
              "212    20\n",
              "213    73\n",
              "214    25\n",
              "215     7\n",
              "Name: runs, Length: 215, dtype: int64"
            ]
          },
          "execution_count": 15,
          "metadata": {},
          "output_type": "execute_result"
        }
      ],
      "source": [
        "# with 2 cols\n",
        "vk = pd.read_csv('C:\\Git hub\\Data-Science\\Pandas\\Datasets\\kohli_ipl.csv',index_col='match_no')\n",
        "vk = vk.squeeze()\n",
        "vk"
      ]
    },
    {
      "cell_type": "code",
      "execution_count": 16,
      "metadata": {
        "colab": {
          "base_uri": "https://localhost:8080/"
        },
        "id": "v34r_I_82dwZ",
        "outputId": "ab5f9a30-d9f1-4532-fbc8-a8b792107b80"
      },
      "outputs": [
        {
          "data": {
            "text/plain": [
              "movie\n",
              "Uri: The Surgical Strike                   Vicky Kaushal\n",
              "Battalion 609                                Vicky Ahuja\n",
              "The Accidental Prime Minister (film)         Anupam Kher\n",
              "Why Cheat India                            Emraan Hashmi\n",
              "Evening Shadows                         Mona Ambegaonkar\n",
              "                                              ...       \n",
              "Hum Tumhare Hain Sanam                    Shah Rukh Khan\n",
              "Aankhen (2002 film)                     Amitabh Bachchan\n",
              "Saathiya (film)                             Vivek Oberoi\n",
              "Company (film)                                Ajay Devgn\n",
              "Awara Paagal Deewana                        Akshay Kumar\n",
              "Name: lead, Length: 1500, dtype: object"
            ]
          },
          "execution_count": 16,
          "metadata": {},
          "output_type": "execute_result"
        }
      ],
      "source": [
        "movies = pd.read_csv('C:\\Git hub\\Data-Science\\Pandas\\Datasets\\Films.csv',index_col='movie')\n",
        "movies = movies.squeeze()\n",
        "movies"
      ]
    },
    {
      "cell_type": "markdown",
      "metadata": {
        "id": "taKAApMTLJkG"
      },
      "source": [
        "### Series methods"
      ]
    },
    {
      "cell_type": "code",
      "execution_count": 17,
      "metadata": {
        "colab": {
          "base_uri": "https://localhost:8080/"
        },
        "id": "Lt-l4sM_LLsH",
        "outputId": "ce63f92e-7d0c-46b1-f64c-92afa28cd1c3"
      },
      "outputs": [
        {
          "data": {
            "text/plain": [
              "360    231\n",
              "361    226\n",
              "362    155\n",
              "363    144\n",
              "364    172\n",
              "Name: Subscribers gained, dtype: int64"
            ]
          },
          "execution_count": 17,
          "metadata": {},
          "output_type": "execute_result"
        }
      ],
      "source": [
        "# head and tail\n",
        "subs.head()\n",
        "subs.tail()"
      ]
    },
    {
      "cell_type": "code",
      "execution_count": 18,
      "metadata": {
        "colab": {
          "base_uri": "https://localhost:8080/"
        },
        "id": "dvZrPaR-DiKT",
        "outputId": "88925c9f-a86a-4fd7-aec8-fcb8dfc9ad45"
      },
      "outputs": [
        {
          "data": {
            "text/plain": [
              "match_no\n",
              "1     1\n",
              "2    23\n",
              "3    13\n",
              "4    12\n",
              "5     1\n",
              "6     9\n",
              "7    34\n",
              "8     0\n",
              "Name: runs, dtype: int64"
            ]
          },
          "execution_count": 18,
          "metadata": {},
          "output_type": "execute_result"
        }
      ],
      "source": [
        "vk.head(8)"
      ]
    },
    {
      "cell_type": "code",
      "execution_count": 19,
      "metadata": {
        "colab": {
          "base_uri": "https://localhost:8080/"
        },
        "id": "S5St_OwODto7",
        "outputId": "1748a142-3854-4f8f-c7ec-54c0268859e8"
      },
      "outputs": [
        {
          "data": {
            "text/plain": [
              "match_no\n",
              "206     0\n",
              "207     0\n",
              "208     9\n",
              "209    58\n",
              "210    30\n",
              "211     0\n",
              "212    20\n",
              "213    73\n",
              "214    25\n",
              "215     7\n",
              "Name: runs, dtype: int64"
            ]
          },
          "execution_count": 19,
          "metadata": {},
          "output_type": "execute_result"
        }
      ],
      "source": [
        "vk.tail(10)"
      ]
    },
    {
      "cell_type": "code",
      "execution_count": null,
      "metadata": {},
      "outputs": [],
      "source": []
    },
    {
      "cell_type": "code",
      "execution_count": 20,
      "metadata": {
        "colab": {
          "base_uri": "https://localhost:8080/"
        },
        "id": "COKh4XYBLqT3",
        "outputId": "7294bf7c-0f1d-46c6-885a-7b993f2a9551"
      },
      "outputs": [
        {
          "data": {
            "text/plain": [
              "movie\n",
              "Youngistaan                            Jackky Bhagnani\n",
              "Bhagmati (2005 film)                              Tabu\n",
              "Junooniyat                               Pulkit Samrat\n",
              "Chatur Singh Two Star                      Sanjay Dutt\n",
              "Happy New Year (2014 film)              Shah Rukh Khan\n",
              "Chhota Bheem and the Throne of Bali       Rupa Bhimani\n",
              "JD (film)                               Rina Charaniya\n",
              "Luckhnowi Ishq                          Adhyayan Suman\n",
              "Khajoor Pe Atke                           Vinay Pathak\n",
              "Student of the Year 2                     Tiger Shroff\n",
              "Name: lead, dtype: object"
            ]
          },
          "execution_count": 20,
          "metadata": {},
          "output_type": "execute_result"
        }
      ],
      "source": [
        "# sample ( random movies)\n",
        "movies.sample(10)"
      ]
    },
    {
      "cell_type": "code",
      "execution_count": 21,
      "metadata": {
        "colab": {
          "base_uri": "https://localhost:8080/"
        },
        "id": "t3m4wTw6N-v0",
        "outputId": "cdae4a99-143d-487d-836c-948ffd6dd67a"
      },
      "outputs": [
        {
          "data": {
            "text/plain": [
              "lead\n",
              "Akshay Kumar        48\n",
              "Amitabh Bachchan    45\n",
              "Ajay Devgn          38\n",
              "Salman Khan         31\n",
              "Sanjay Dutt         26\n",
              "                    ..\n",
              "Diganth              1\n",
              "Parveen Kaur         1\n",
              "Seema Azmi           1\n",
              "Akanksha Puri        1\n",
              "Edwin Fernandes      1\n",
              "Name: count, Length: 566, dtype: int64"
            ]
          },
          "execution_count": 21,
          "metadata": {},
          "output_type": "execute_result"
        }
      ],
      "source": [
        "# value_counts -> movies\n",
        "movies.value_counts()"
      ]
    },
    {
      "cell_type": "code",
      "execution_count": 22,
      "metadata": {},
      "outputs": [
        {
          "data": {
            "text/plain": [
              "match_no\n",
              "128    113\n",
              "Name: runs, dtype: int64"
            ]
          },
          "execution_count": 22,
          "metadata": {},
          "output_type": "execute_result"
        }
      ],
      "source": [
        "# Virat's Highest score \n",
        "\n",
        "vk.sort_values().tail(1)"
      ]
    },
    {
      "cell_type": "code",
      "execution_count": 23,
      "metadata": {
        "colab": {
          "base_uri": "https://localhost:8080/"
        },
        "id": "vzMt0ZOPMgpO",
        "outputId": "17bd1ba3-ad6b-46cb-b6f8-1fac73474e74"
      },
      "outputs": [
        {
          "data": {
            "text/plain": [
              "113"
            ]
          },
          "execution_count": 23,
          "metadata": {},
          "output_type": "execute_result"
        }
      ],
      "source": [
        "# sort_values -> inplace\n",
        "vk.sort_values(ascending=False).head(1).values[0]"
      ]
    },
    {
      "cell_type": "code",
      "execution_count": 24,
      "metadata": {
        "colab": {
          "base_uri": "https://localhost:8080/"
        },
        "id": "5Psr0lEwGE2i",
        "outputId": "537ab14a-c922-4eeb-a8c7-ee7c057e1e11"
      },
      "outputs": [
        {
          "data": {
            "text/plain": [
              "match_no\n",
              "128    113\n",
              "126    109\n",
              "123    108\n",
              "164    100\n",
              "120    100\n",
              "      ... \n",
              "93       0\n",
              "211      0\n",
              "130      0\n",
              "8        0\n",
              "135      0\n",
              "Name: runs, Length: 215, dtype: int64"
            ]
          },
          "execution_count": 24,
          "metadata": {},
          "output_type": "execute_result"
        }
      ],
      "source": [
        "vk.sort_values(ascending=False)"
      ]
    },
    {
      "cell_type": "code",
      "execution_count": 25,
      "metadata": {
        "id": "Z0t20LmCNZVi"
      },
      "outputs": [],
      "source": [
        "# sort_index -> inplace -> movies\n",
        "movies.sort_index(ascending=False,inplace=True)"
      ]
    },
    {
      "cell_type": "code",
      "execution_count": 26,
      "metadata": {
        "colab": {
          "base_uri": "https://localhost:8080/"
        },
        "id": "pyFYColfG3LP",
        "outputId": "47ee4f49-d3c1-4936-e23c-483a5b2544de"
      },
      "outputs": [
        {
          "data": {
            "text/plain": [
              "movie\n",
              "Zor Lagaa Ke...Haiya!            Meghan Jadhav\n",
              "Zokkomon                       Darsheel Safary\n",
              "Zindagi Tere Naam           Mithun Chakraborty\n",
              "Zindagi Na Milegi Dobara        Hrithik Roshan\n",
              "Zindagi 50-50                      Veena Malik\n",
              "                                   ...        \n",
              "2 States (2014 film)              Arjun Kapoor\n",
              "1971 (2007 film)                Manoj Bajpayee\n",
              "1920: The Evil Returns             Vicky Ahuja\n",
              "1920: London                     Sharman Joshi\n",
              "1920 (film)                   Rajniesh Duggall\n",
              "Name: lead, Length: 1500, dtype: object"
            ]
          },
          "execution_count": 26,
          "metadata": {},
          "output_type": "execute_result"
        }
      ],
      "source": [
        "movies"
      ]
    },
    {
      "cell_type": "markdown",
      "metadata": {
        "id": "58RZWU44Tj_U"
      },
      "source": [
        "### Series Maths Methods"
      ]
    },
    {
      "cell_type": "code",
      "execution_count": 27,
      "metadata": {
        "colab": {
          "base_uri": "https://localhost:8080/"
        },
        "id": "6GzHd8BPToFa",
        "outputId": "c2aa9e18-2ec0-49c5-ab62-61928d1068e3"
      },
      "outputs": [
        {
          "data": {
            "text/plain": [
              "215"
            ]
          },
          "execution_count": 27,
          "metadata": {},
          "output_type": "execute_result"
        }
      ],
      "source": [
        "# count\n",
        "vk.count()"
      ]
    },
    {
      "cell_type": "code",
      "execution_count": 28,
      "metadata": {
        "colab": {
          "base_uri": "https://localhost:8080/"
        },
        "id": "QAUr7vxtTrAU",
        "outputId": "b63afaa2-bf2f-409b-bd54-db2865c9d4fa"
      },
      "outputs": [
        {
          "data": {
            "text/plain": [
              "49510"
            ]
          },
          "execution_count": 28,
          "metadata": {},
          "output_type": "execute_result"
        }
      ],
      "source": [
        "# sum -> product\n",
        "subs.sum()"
      ]
    },
    {
      "cell_type": "code",
      "execution_count": 29,
      "metadata": {
        "colab": {
          "base_uri": "https://localhost:8080/"
        },
        "id": "q1pRRhmdTrM0",
        "outputId": "7b4c758a-12b6-452a-bc22-d2c1a9a8ce46"
      },
      "outputs": [
        {
          "name": "stdout",
          "output_type": "stream",
          "text": [
            "24.0\n",
            "0    Akshay Kumar\n",
            "Name: lead, dtype: object\n",
            "62.6750230372527\n",
            "688.0024777222343\n"
          ]
        }
      ],
      "source": [
        "# mean -> median -> mode -> std -> var\n",
        "subs.mean()\n",
        "print(vk.median())\n",
        "print(movies.mode())\n",
        "print(subs.std())\n",
        "print(vk.var())"
      ]
    },
    {
      "cell_type": "code",
      "execution_count": 30,
      "metadata": {
        "colab": {
          "base_uri": "https://localhost:8080/"
        },
        "id": "L64dQIXJTrXF",
        "outputId": "54e6f3fa-e75f-4382-8c02-d9ba8466285a"
      },
      "outputs": [
        {
          "data": {
            "text/plain": [
              "396"
            ]
          },
          "execution_count": 30,
          "metadata": {},
          "output_type": "execute_result"
        }
      ],
      "source": [
        "# min/max\n",
        "subs.max()"
      ]
    },
    {
      "cell_type": "code",
      "execution_count": 31,
      "metadata": {
        "colab": {
          "base_uri": "https://localhost:8080/"
        },
        "id": "SAvniKCuUB_J",
        "outputId": "c7f46902-52e5-4c1e-d0ac-bbe31850d37e"
      },
      "outputs": [
        {
          "data": {
            "text/plain": [
              "count    365.000000\n",
              "mean     135.643836\n",
              "std       62.675023\n",
              "min       33.000000\n",
              "25%       88.000000\n",
              "50%      123.000000\n",
              "75%      177.000000\n",
              "max      396.000000\n",
              "Name: Subscribers gained, dtype: float64"
            ]
          },
          "execution_count": 31,
          "metadata": {},
          "output_type": "execute_result"
        }
      ],
      "source": [
        "# describe\n",
        "subs.describe()"
      ]
    },
    {
      "cell_type": "markdown",
      "metadata": {
        "id": "Cz12N8YKP-h8"
      },
      "source": [
        "### Series Indexing"
      ]
    },
    {
      "cell_type": "code",
      "execution_count": 32,
      "metadata": {
        "colab": {
          "base_uri": "https://localhost:8080/"
        },
        "id": "VXMiwNgAQA4V",
        "outputId": "2dc567ed-8548-4a68-df9e-91a0842bced4"
      },
      "outputs": [
        {
          "data": {
            "text/plain": [
              "0    12\n",
              "1    13\n",
              "2    14\n",
              "3    35\n",
              "4    46\n",
              "5    57\n",
              "6    58\n",
              "7    79\n",
              "8     9\n",
              "dtype: int64"
            ]
          },
          "execution_count": 32,
          "metadata": {},
          "output_type": "execute_result"
        }
      ],
      "source": [
        "# integer indexing\n",
        "x = pd.Series([12,13,14,35,46,57,58,79,9])\n",
        "x"
      ]
    },
    {
      "cell_type": "code",
      "execution_count": 33,
      "metadata": {
        "colab": {
          "base_uri": "https://localhost:8080/",
          "height": 444
        },
        "id": "uL2i-qNuQ6t8",
        "outputId": "1a52fb86-819d-4470-fc88-dd67ce00c577"
      },
      "outputs": [
        {
          "ename": "KeyError",
          "evalue": "-1",
          "output_type": "error",
          "traceback": [
            "\u001b[1;31m---------------------------------------------------------------------------\u001b[0m",
            "\u001b[1;31mValueError\u001b[0m                                Traceback (most recent call last)",
            "File \u001b[1;32mc:\\Users\\HP\\AppData\\Local\\Programs\\Python\\Python311\\Lib\\site-packages\\pandas\\core\\indexes\\range.py:345\u001b[0m, in \u001b[0;36mRangeIndex.get_loc\u001b[1;34m(self, key)\u001b[0m\n\u001b[0;32m    344\u001b[0m \u001b[38;5;28;01mtry\u001b[39;00m:\n\u001b[1;32m--> 345\u001b[0m     \u001b[38;5;28;01mreturn\u001b[39;00m \u001b[38;5;28;43mself\u001b[39;49m\u001b[38;5;241;43m.\u001b[39;49m\u001b[43m_range\u001b[49m\u001b[38;5;241;43m.\u001b[39;49m\u001b[43mindex\u001b[49m\u001b[43m(\u001b[49m\u001b[43mnew_key\u001b[49m\u001b[43m)\u001b[49m\n\u001b[0;32m    346\u001b[0m \u001b[38;5;28;01mexcept\u001b[39;00m \u001b[38;5;167;01mValueError\u001b[39;00m \u001b[38;5;28;01mas\u001b[39;00m err:\n",
            "\u001b[1;31mValueError\u001b[0m: -1 is not in range",
            "\nThe above exception was the direct cause of the following exception:\n",
            "\u001b[1;31mKeyError\u001b[0m                                  Traceback (most recent call last)",
            "Cell \u001b[1;32mIn[33], line 2\u001b[0m\n\u001b[0;32m      1\u001b[0m \u001b[38;5;66;03m# negative indexing\u001b[39;00m\n\u001b[1;32m----> 2\u001b[0m \u001b[43mx\u001b[49m\u001b[43m[\u001b[49m\u001b[38;5;241;43m-\u001b[39;49m\u001b[38;5;241;43m1\u001b[39;49m\u001b[43m]\u001b[49m\n",
            "File \u001b[1;32mc:\\Users\\HP\\AppData\\Local\\Programs\\Python\\Python311\\Lib\\site-packages\\pandas\\core\\series.py:1007\u001b[0m, in \u001b[0;36mSeries.__getitem__\u001b[1;34m(self, key)\u001b[0m\n\u001b[0;32m   1004\u001b[0m     \u001b[38;5;28;01mreturn\u001b[39;00m \u001b[38;5;28mself\u001b[39m\u001b[38;5;241m.\u001b[39m_values[key]\n\u001b[0;32m   1006\u001b[0m \u001b[38;5;28;01melif\u001b[39;00m key_is_scalar:\n\u001b[1;32m-> 1007\u001b[0m     \u001b[38;5;28;01mreturn\u001b[39;00m \u001b[38;5;28;43mself\u001b[39;49m\u001b[38;5;241;43m.\u001b[39;49m\u001b[43m_get_value\u001b[49m\u001b[43m(\u001b[49m\u001b[43mkey\u001b[49m\u001b[43m)\u001b[49m\n\u001b[0;32m   1009\u001b[0m \u001b[38;5;28;01mif\u001b[39;00m is_hashable(key):\n\u001b[0;32m   1010\u001b[0m     \u001b[38;5;66;03m# Otherwise index.get_value will raise InvalidIndexError\u001b[39;00m\n\u001b[0;32m   1011\u001b[0m     \u001b[38;5;28;01mtry\u001b[39;00m:\n\u001b[0;32m   1012\u001b[0m         \u001b[38;5;66;03m# For labels that don't resolve as scalars like tuples and frozensets\u001b[39;00m\n",
            "File \u001b[1;32mc:\\Users\\HP\\AppData\\Local\\Programs\\Python\\Python311\\Lib\\site-packages\\pandas\\core\\series.py:1116\u001b[0m, in \u001b[0;36mSeries._get_value\u001b[1;34m(self, label, takeable)\u001b[0m\n\u001b[0;32m   1113\u001b[0m     \u001b[38;5;28;01mreturn\u001b[39;00m \u001b[38;5;28mself\u001b[39m\u001b[38;5;241m.\u001b[39m_values[label]\n\u001b[0;32m   1115\u001b[0m \u001b[38;5;66;03m# Similar to Index.get_value, but we do not fall back to positional\u001b[39;00m\n\u001b[1;32m-> 1116\u001b[0m loc \u001b[38;5;241m=\u001b[39m \u001b[38;5;28;43mself\u001b[39;49m\u001b[38;5;241;43m.\u001b[39;49m\u001b[43mindex\u001b[49m\u001b[38;5;241;43m.\u001b[39;49m\u001b[43mget_loc\u001b[49m\u001b[43m(\u001b[49m\u001b[43mlabel\u001b[49m\u001b[43m)\u001b[49m\n\u001b[0;32m   1118\u001b[0m \u001b[38;5;28;01mif\u001b[39;00m is_integer(loc):\n\u001b[0;32m   1119\u001b[0m     \u001b[38;5;28;01mreturn\u001b[39;00m \u001b[38;5;28mself\u001b[39m\u001b[38;5;241m.\u001b[39m_values[loc]\n",
            "File \u001b[1;32mc:\\Users\\HP\\AppData\\Local\\Programs\\Python\\Python311\\Lib\\site-packages\\pandas\\core\\indexes\\range.py:347\u001b[0m, in \u001b[0;36mRangeIndex.get_loc\u001b[1;34m(self, key)\u001b[0m\n\u001b[0;32m    345\u001b[0m         \u001b[38;5;28;01mreturn\u001b[39;00m \u001b[38;5;28mself\u001b[39m\u001b[38;5;241m.\u001b[39m_range\u001b[38;5;241m.\u001b[39mindex(new_key)\n\u001b[0;32m    346\u001b[0m     \u001b[38;5;28;01mexcept\u001b[39;00m \u001b[38;5;167;01mValueError\u001b[39;00m \u001b[38;5;28;01mas\u001b[39;00m err:\n\u001b[1;32m--> 347\u001b[0m         \u001b[38;5;28;01mraise\u001b[39;00m \u001b[38;5;167;01mKeyError\u001b[39;00m(key) \u001b[38;5;28;01mfrom\u001b[39;00m \u001b[38;5;21;01merr\u001b[39;00m\n\u001b[0;32m    348\u001b[0m \u001b[38;5;28;01mif\u001b[39;00m \u001b[38;5;28misinstance\u001b[39m(key, Hashable):\n\u001b[0;32m    349\u001b[0m     \u001b[38;5;28;01mraise\u001b[39;00m \u001b[38;5;167;01mKeyError\u001b[39;00m(key)\n",
            "\u001b[1;31mKeyError\u001b[0m: -1"
          ]
        }
      ],
      "source": [
        "# negative indexing\n",
        "x[-1]"
      ]
    },
    {
      "cell_type": "code",
      "execution_count": null,
      "metadata": {
        "colab": {
          "base_uri": "https://localhost:8080/"
        },
        "id": "9BKWa4-fKugd",
        "outputId": "3d9fbab1-9295-4307-be08-e9574d3d267d"
      },
      "outputs": [
        {
          "data": {
            "text/plain": [
              "movie\n",
              "Zor Lagaa Ke...Haiya!            Meghan Jadhav\n",
              "Zokkomon                       Darsheel Safary\n",
              "Zindagi Tere Naam           Mithun Chakraborty\n",
              "Zindagi Na Milegi Dobara        Hrithik Roshan\n",
              "Zindagi 50-50                      Veena Malik\n",
              "                                   ...        \n",
              "2 States (2014 film)              Arjun Kapoor\n",
              "1971 (2007 film)                Manoj Bajpayee\n",
              "1920: The Evil Returns             Vicky Ahuja\n",
              "1920: London                     Sharman Joshi\n",
              "1920 (film)                   Rajniesh Duggall\n",
              "Name: lead, Length: 1500, dtype: object"
            ]
          },
          "execution_count": 105,
          "metadata": {},
          "output_type": "execute_result"
        }
      ],
      "source": [
        "movies"
      ]
    },
    {
      "cell_type": "code",
      "execution_count": null,
      "metadata": {
        "colab": {
          "base_uri": "https://localhost:8080/",
          "height": 515
        },
        "id": "UdfXS16jLVIo",
        "outputId": "7adcf453-a4a2-4984-a2a3-de2090e035f4"
      },
      "outputs": [
        {
          "ename": "KeyError",
          "evalue": "ignored",
          "output_type": "error",
          "traceback": [
            "\u001b[0;31m---------------------------------------------------------------------------\u001b[0m",
            "\u001b[0;31mKeyError\u001b[0m                                  Traceback (most recent call last)",
            "\u001b[0;32m/usr/local/lib/python3.8/dist-packages/pandas/core/indexes/base.py\u001b[0m in \u001b[0;36mget_loc\u001b[0;34m(self, key, method, tolerance)\u001b[0m\n\u001b[1;32m   3360\u001b[0m             \u001b[0;32mtry\u001b[0m\u001b[0;34m:\u001b[0m\u001b[0;34m\u001b[0m\u001b[0;34m\u001b[0m\u001b[0m\n\u001b[0;32m-> 3361\u001b[0;31m                 \u001b[0;32mreturn\u001b[0m \u001b[0mself\u001b[0m\u001b[0;34m.\u001b[0m\u001b[0m_engine\u001b[0m\u001b[0;34m.\u001b[0m\u001b[0mget_loc\u001b[0m\u001b[0;34m(\u001b[0m\u001b[0mcasted_key\u001b[0m\u001b[0;34m)\u001b[0m\u001b[0;34m\u001b[0m\u001b[0;34m\u001b[0m\u001b[0m\n\u001b[0m\u001b[1;32m   3362\u001b[0m             \u001b[0;32mexcept\u001b[0m \u001b[0mKeyError\u001b[0m \u001b[0;32mas\u001b[0m \u001b[0merr\u001b[0m\u001b[0;34m:\u001b[0m\u001b[0;34m\u001b[0m\u001b[0;34m\u001b[0m\u001b[0m\n",
            "\u001b[0;32m/usr/local/lib/python3.8/dist-packages/pandas/_libs/index.pyx\u001b[0m in \u001b[0;36mpandas._libs.index.IndexEngine.get_loc\u001b[0;34m()\u001b[0m\n",
            "\u001b[0;32m/usr/local/lib/python3.8/dist-packages/pandas/_libs/index.pyx\u001b[0m in \u001b[0;36mpandas._libs.index.IndexEngine.get_loc\u001b[0;34m()\u001b[0m\n",
            "\u001b[0;32mpandas/_libs/hashtable_class_helper.pxi\u001b[0m in \u001b[0;36mpandas._libs.hashtable.Int64HashTable.get_item\u001b[0;34m()\u001b[0m\n",
            "\u001b[0;32mpandas/_libs/hashtable_class_helper.pxi\u001b[0m in \u001b[0;36mpandas._libs.hashtable.Int64HashTable.get_item\u001b[0;34m()\u001b[0m\n",
            "\u001b[0;31mKeyError\u001b[0m: -1",
            "\nThe above exception was the direct cause of the following exception:\n",
            "\u001b[0;31mKeyError\u001b[0m                                  Traceback (most recent call last)",
            "\u001b[0;32m<ipython-input-107-8ecb27b68523>\u001b[0m in \u001b[0;36m<module>\u001b[0;34m\u001b[0m\n\u001b[0;32m----> 1\u001b[0;31m \u001b[0mvk\u001b[0m\u001b[0;34m[\u001b[0m\u001b[0;34m-\u001b[0m\u001b[0;36m1\u001b[0m\u001b[0;34m]\u001b[0m\u001b[0;34m\u001b[0m\u001b[0;34m\u001b[0m\u001b[0m\n\u001b[0m",
            "\u001b[0;32m/usr/local/lib/python3.8/dist-packages/pandas/core/series.py\u001b[0m in \u001b[0;36m__getitem__\u001b[0;34m(self, key)\u001b[0m\n\u001b[1;32m    940\u001b[0m \u001b[0;34m\u001b[0m\u001b[0m\n\u001b[1;32m    941\u001b[0m         \u001b[0;32melif\u001b[0m \u001b[0mkey_is_scalar\u001b[0m\u001b[0;34m:\u001b[0m\u001b[0;34m\u001b[0m\u001b[0;34m\u001b[0m\u001b[0m\n\u001b[0;32m--> 942\u001b[0;31m             \u001b[0;32mreturn\u001b[0m \u001b[0mself\u001b[0m\u001b[0;34m.\u001b[0m\u001b[0m_get_value\u001b[0m\u001b[0;34m(\u001b[0m\u001b[0mkey\u001b[0m\u001b[0;34m)\u001b[0m\u001b[0;34m\u001b[0m\u001b[0;34m\u001b[0m\u001b[0m\n\u001b[0m\u001b[1;32m    943\u001b[0m \u001b[0;34m\u001b[0m\u001b[0m\n\u001b[1;32m    944\u001b[0m         \u001b[0;32mif\u001b[0m \u001b[0mis_hashable\u001b[0m\u001b[0;34m(\u001b[0m\u001b[0mkey\u001b[0m\u001b[0;34m)\u001b[0m\u001b[0;34m:\u001b[0m\u001b[0;34m\u001b[0m\u001b[0;34m\u001b[0m\u001b[0m\n",
            "\u001b[0;32m/usr/local/lib/python3.8/dist-packages/pandas/core/series.py\u001b[0m in \u001b[0;36m_get_value\u001b[0;34m(self, label, takeable)\u001b[0m\n\u001b[1;32m   1049\u001b[0m \u001b[0;34m\u001b[0m\u001b[0m\n\u001b[1;32m   1050\u001b[0m         \u001b[0;31m# Similar to Index.get_value, but we do not fall back to positional\u001b[0m\u001b[0;34m\u001b[0m\u001b[0;34m\u001b[0m\u001b[0;34m\u001b[0m\u001b[0m\n\u001b[0;32m-> 1051\u001b[0;31m         \u001b[0mloc\u001b[0m \u001b[0;34m=\u001b[0m \u001b[0mself\u001b[0m\u001b[0;34m.\u001b[0m\u001b[0mindex\u001b[0m\u001b[0;34m.\u001b[0m\u001b[0mget_loc\u001b[0m\u001b[0;34m(\u001b[0m\u001b[0mlabel\u001b[0m\u001b[0;34m)\u001b[0m\u001b[0;34m\u001b[0m\u001b[0;34m\u001b[0m\u001b[0m\n\u001b[0m\u001b[1;32m   1052\u001b[0m         \u001b[0;32mreturn\u001b[0m \u001b[0mself\u001b[0m\u001b[0;34m.\u001b[0m\u001b[0mindex\u001b[0m\u001b[0;34m.\u001b[0m\u001b[0m_get_values_for_loc\u001b[0m\u001b[0;34m(\u001b[0m\u001b[0mself\u001b[0m\u001b[0;34m,\u001b[0m \u001b[0mloc\u001b[0m\u001b[0;34m,\u001b[0m \u001b[0mlabel\u001b[0m\u001b[0;34m)\u001b[0m\u001b[0;34m\u001b[0m\u001b[0;34m\u001b[0m\u001b[0m\n\u001b[1;32m   1053\u001b[0m \u001b[0;34m\u001b[0m\u001b[0m\n",
            "\u001b[0;32m/usr/local/lib/python3.8/dist-packages/pandas/core/indexes/base.py\u001b[0m in \u001b[0;36mget_loc\u001b[0;34m(self, key, method, tolerance)\u001b[0m\n\u001b[1;32m   3361\u001b[0m                 \u001b[0;32mreturn\u001b[0m \u001b[0mself\u001b[0m\u001b[0;34m.\u001b[0m\u001b[0m_engine\u001b[0m\u001b[0;34m.\u001b[0m\u001b[0mget_loc\u001b[0m\u001b[0;34m(\u001b[0m\u001b[0mcasted_key\u001b[0m\u001b[0;34m)\u001b[0m\u001b[0;34m\u001b[0m\u001b[0;34m\u001b[0m\u001b[0m\n\u001b[1;32m   3362\u001b[0m             \u001b[0;32mexcept\u001b[0m \u001b[0mKeyError\u001b[0m \u001b[0;32mas\u001b[0m \u001b[0merr\u001b[0m\u001b[0;34m:\u001b[0m\u001b[0;34m\u001b[0m\u001b[0;34m\u001b[0m\u001b[0m\n\u001b[0;32m-> 3363\u001b[0;31m                 \u001b[0;32mraise\u001b[0m \u001b[0mKeyError\u001b[0m\u001b[0;34m(\u001b[0m\u001b[0mkey\u001b[0m\u001b[0;34m)\u001b[0m \u001b[0;32mfrom\u001b[0m \u001b[0merr\u001b[0m\u001b[0;34m\u001b[0m\u001b[0;34m\u001b[0m\u001b[0m\n\u001b[0m\u001b[1;32m   3364\u001b[0m \u001b[0;34m\u001b[0m\u001b[0m\n\u001b[1;32m   3365\u001b[0m         \u001b[0;32mif\u001b[0m \u001b[0mis_scalar\u001b[0m\u001b[0;34m(\u001b[0m\u001b[0mkey\u001b[0m\u001b[0;34m)\u001b[0m \u001b[0;32mand\u001b[0m \u001b[0misna\u001b[0m\u001b[0;34m(\u001b[0m\u001b[0mkey\u001b[0m\u001b[0;34m)\u001b[0m \u001b[0;32mand\u001b[0m \u001b[0;32mnot\u001b[0m \u001b[0mself\u001b[0m\u001b[0;34m.\u001b[0m\u001b[0mhasnans\u001b[0m\u001b[0;34m:\u001b[0m\u001b[0;34m\u001b[0m\u001b[0;34m\u001b[0m\u001b[0m\n",
            "\u001b[0;31mKeyError\u001b[0m: -1"
          ]
        }
      ],
      "source": [
        "vk[-1]"
      ]
    },
    {
      "cell_type": "code",
      "execution_count": null,
      "metadata": {
        "colab": {
          "base_uri": "https://localhost:8080/"
        },
        "id": "-7Gr3pwlLgx8",
        "outputId": "c1cf02c2-9857-49f5-f49e-8019789fff6c"
      },
      "outputs": [
        {
          "data": {
            "text/plain": [
              "100"
            ]
          },
          "execution_count": 109,
          "metadata": {},
          "output_type": "execute_result"
        }
      ],
      "source": [
        "marks_series[-1]"
      ]
    },
    {
      "cell_type": "code",
      "execution_count": null,
      "metadata": {
        "colab": {
          "base_uri": "https://localhost:8080/"
        },
        "id": "0Aok361MQA8J",
        "outputId": "a31e2b7e-53a5-499f-ccb2-f9276a0b3139"
      },
      "outputs": [
        {
          "data": {
            "text/plain": [
              "match_no\n",
              "6      9\n",
              "7     34\n",
              "8      0\n",
              "9     21\n",
              "10     3\n",
              "11    10\n",
              "12    38\n",
              "13     3\n",
              "14    11\n",
              "15    50\n",
              "16     2\n",
              "Name: runs, dtype: int64"
            ]
          },
          "execution_count": 110,
          "metadata": {},
          "output_type": "execute_result"
        }
      ],
      "source": [
        "# slicing\n",
        "vk[5:16]"
      ]
    },
    {
      "cell_type": "code",
      "execution_count": null,
      "metadata": {
        "colab": {
          "base_uri": "https://localhost:8080/"
        },
        "id": "Liu7rQJbQ9GW",
        "outputId": "c205b3f2-e431-4e2c-8a52-57b701b806e7"
      },
      "outputs": [
        {
          "data": {
            "text/plain": [
              "match_no\n",
              "211     0\n",
              "212    20\n",
              "213    73\n",
              "214    25\n",
              "215     7\n",
              "Name: runs, dtype: int64"
            ]
          },
          "execution_count": 111,
          "metadata": {},
          "output_type": "execute_result"
        }
      ],
      "source": [
        "# negative slicing\n",
        "vk[-5:]"
      ]
    },
    {
      "cell_type": "code",
      "execution_count": null,
      "metadata": {
        "colab": {
          "base_uri": "https://localhost:8080/"
        },
        "id": "BE4kLq1vMSes",
        "outputId": "ff5de4e4-5b80-484c-9241-72de04792aa8"
      },
      "outputs": [
        {
          "data": {
            "text/plain": [
              "movie\n",
              "Zor Lagaa Ke...Haiya!         Meghan Jadhav\n",
              "Zindagi Tere Naam        Mithun Chakraborty\n",
              "Zindagi 50-50                   Veena Malik\n",
              "Zinda (film)                    Sanjay Dutt\n",
              "Zid (2014 film)              Mannara Chopra\n",
              "                                ...        \n",
              "3 Storeys                       Aisha Ahmed\n",
              "3 Deewarein                Naseeruddin Shah\n",
              "22 Yards                        Barun Sobti\n",
              "1971 (2007 film)             Manoj Bajpayee\n",
              "1920: London                  Sharman Joshi\n",
              "Name: lead, Length: 750, dtype: object"
            ]
          },
          "execution_count": 113,
          "metadata": {},
          "output_type": "execute_result"
        }
      ],
      "source": [
        "movies[::2]"
      ]
    },
    {
      "cell_type": "code",
      "execution_count": null,
      "metadata": {
        "colab": {
          "base_uri": "https://localhost:8080/"
        },
        "id": "QjB-8CydQA_W",
        "outputId": "9bcace4d-f461-4a12-83f4-ebc6d620d943"
      },
      "outputs": [
        {
          "data": {
            "text/plain": [
              "match_no\n",
              "1     1\n",
              "3    13\n",
              "4    12\n",
              "5     1\n",
              "Name: runs, dtype: int64"
            ]
          },
          "execution_count": 114,
          "metadata": {},
          "output_type": "execute_result"
        }
      ],
      "source": [
        "# fancy indexing\n",
        "vk[[1,3,4,5]]"
      ]
    },
    {
      "cell_type": "code",
      "execution_count": null,
      "metadata": {
        "colab": {
          "base_uri": "https://localhost:8080/",
          "height": 36
        },
        "id": "m4y-6vjTQBCP",
        "outputId": "0da130b4-7e28-457e-884c-9be1ca736d26"
      },
      "outputs": [
        {
          "data": {
            "application/vnd.google.colaboratory.intrinsic+json": {
              "type": "string"
            },
            "text/plain": [
              "'Arjun Kapoor'"
            ]
          },
          "execution_count": 116,
          "metadata": {},
          "output_type": "execute_result"
        }
      ],
      "source": [
        "# indexing with labels -> fancy indexing\n",
        "movies['2 States (2014 film)']"
      ]
    },
    {
      "cell_type": "markdown",
      "metadata": {
        "id": "NFElpr-tR5en"
      },
      "source": [
        "### Editing Series"
      ]
    },
    {
      "cell_type": "code",
      "execution_count": null,
      "metadata": {
        "colab": {
          "base_uri": "https://localhost:8080/"
        },
        "id": "bMaxSAmfR8JQ",
        "outputId": "15df7b1b-d1f4-42dd-c6ac-d155afd18b0e"
      },
      "outputs": [
        {
          "data": {
            "text/plain": [
              "maths       67\n",
              "english    100\n",
              "science     89\n",
              "hindi      100\n",
              "Name: nitish ke marks, dtype: int64"
            ]
          },
          "execution_count": 118,
          "metadata": {},
          "output_type": "execute_result"
        }
      ],
      "source": [
        "# using indexing\n",
        "marks_series[1] = 100\n",
        "marks_series"
      ]
    },
    {
      "cell_type": "code",
      "execution_count": null,
      "metadata": {
        "id": "p2sikMnPR8MU"
      },
      "outputs": [],
      "source": [
        "# what if an index does not exist\n",
        "marks_series['evs'] = 100"
      ]
    },
    {
      "cell_type": "code",
      "execution_count": null,
      "metadata": {
        "colab": {
          "base_uri": "https://localhost:8080/"
        },
        "id": "rmwOXl0yNjA6",
        "outputId": "66228db5-7b15-46b0-e5d8-8fc97ecee7dd"
      },
      "outputs": [
        {
          "data": {
            "text/plain": [
              "maths       67\n",
              "english    100\n",
              "science     89\n",
              "hindi      100\n",
              "sst         90\n",
              "evs        100\n",
              "Name: nitish ke marks, dtype: int64"
            ]
          },
          "execution_count": 125,
          "metadata": {},
          "output_type": "execute_result"
        }
      ],
      "source": [
        "marks_series"
      ]
    },
    {
      "cell_type": "code",
      "execution_count": null,
      "metadata": {
        "colab": {
          "base_uri": "https://localhost:8080/"
        },
        "id": "bsvV3kz0R8Ps",
        "outputId": "2b6e97f9-2374-4f6e-f832-146eb3339f99"
      },
      "outputs": [
        {
          "data": {
            "text/plain": [
              "0     13\n",
              "1     24\n",
              "2    100\n",
              "3    100\n",
              "4    100\n",
              "dtype: int64"
            ]
          },
          "execution_count": 127,
          "metadata": {},
          "output_type": "execute_result"
        }
      ],
      "source": [
        "# slicing\n",
        "runs_ser[2:4] = [100,100]\n",
        "runs_ser"
      ]
    },
    {
      "cell_type": "code",
      "execution_count": null,
      "metadata": {
        "colab": {
          "base_uri": "https://localhost:8080/"
        },
        "id": "UbXMK59FSJp7",
        "outputId": "75f69728-d376-468f-8843-604f4454ea6c"
      },
      "outputs": [
        {
          "data": {
            "text/plain": [
              "0      0\n",
              "1     24\n",
              "2    100\n",
              "3      0\n",
              "4      0\n",
              "dtype: int64"
            ]
          },
          "execution_count": 128,
          "metadata": {},
          "output_type": "execute_result"
        }
      ],
      "source": [
        "# fancy indexing\n",
        "runs_ser[[0,3,4]] = [0,0,0]\n",
        "runs_ser"
      ]
    },
    {
      "cell_type": "code",
      "execution_count": null,
      "metadata": {
        "colab": {
          "base_uri": "https://localhost:8080/"
        },
        "id": "D1gyqD5bSa_1",
        "outputId": "56b096fb-686b-4240-8b0f-c07de0e34e53"
      },
      "outputs": [
        {
          "data": {
            "text/plain": [
              "movie\n",
              "Zor Lagaa Ke...Haiya!            Meghan Jadhav\n",
              "Zokkomon                       Darsheel Safary\n",
              "Zindagi Tere Naam           Mithun Chakraborty\n",
              "Zindagi Na Milegi Dobara        Hrithik Roshan\n",
              "Zindagi 50-50                      Veena Malik\n",
              "                                   ...        \n",
              "2 States (2014 film)                Alia Bhatt\n",
              "1971 (2007 film)                Manoj Bajpayee\n",
              "1920: The Evil Returns             Vicky Ahuja\n",
              "1920: London                     Sharman Joshi\n",
              "1920 (film)                   Rajniesh Duggall\n",
              "Name: lead, Length: 1500, dtype: object"
            ]
          },
          "execution_count": 130,
          "metadata": {},
          "output_type": "execute_result"
        }
      ],
      "source": [
        "# using index label\n",
        "movies['2 States (2014 film)'] = 'Alia Bhatt'\n",
        "movies"
      ]
    },
    {
      "cell_type": "markdown",
      "metadata": {
        "id": "DR5SayWPSv1D"
      },
      "source": [
        "### Copy and Views"
      ]
    },
    {
      "cell_type": "code",
      "execution_count": null,
      "metadata": {
        "id": "pVND-BTBgVlN"
      },
      "outputs": [],
      "source": []
    },
    {
      "cell_type": "markdown",
      "metadata": {
        "id": "6OVEN5eFUWA-"
      },
      "source": [
        "### Series with Python Functionalities"
      ]
    },
    {
      "cell_type": "code",
      "execution_count": null,
      "metadata": {
        "colab": {
          "base_uri": "https://localhost:8080/"
        },
        "id": "zebKLTsNt12p",
        "outputId": "1fc18462-7d27-4029-fe3d-cea42f00013d"
      },
      "outputs": [
        {
          "name": "stdout",
          "output_type": "stream",
          "text": [
            "365\n",
            "<class 'pandas.core.series.Series'>\n",
            "['T', '_AXIS_LEN', '_AXIS_ORDERS', '_AXIS_REVERSED', '_AXIS_TO_AXIS_NUMBER', '_HANDLED_TYPES', '__abs__', '__add__', '__and__', '__annotations__', '__array__', '__array_priority__', '__array_ufunc__', '__array_wrap__', '__bool__', '__class__', '__contains__', '__copy__', '__deepcopy__', '__delattr__', '__delitem__', '__dict__', '__dir__', '__divmod__', '__doc__', '__eq__', '__finalize__', '__float__', '__floordiv__', '__format__', '__ge__', '__getattr__', '__getattribute__', '__getitem__', '__getstate__', '__gt__', '__hash__', '__iadd__', '__iand__', '__ifloordiv__', '__imod__', '__imul__', '__init__', '__init_subclass__', '__int__', '__invert__', '__ior__', '__ipow__', '__isub__', '__iter__', '__itruediv__', '__ixor__', '__le__', '__len__', '__long__', '__lt__', '__matmul__', '__mod__', '__module__', '__mul__', '__ne__', '__neg__', '__new__', '__nonzero__', '__or__', '__pos__', '__pow__', '__radd__', '__rand__', '__rdivmod__', '__reduce__', '__reduce_ex__', '__repr__', '__rfloordiv__', '__rmatmul__', '__rmod__', '__rmul__', '__ror__', '__round__', '__rpow__', '__rsub__', '__rtruediv__', '__rxor__', '__setattr__', '__setitem__', '__setstate__', '__sizeof__', '__str__', '__sub__', '__subclasshook__', '__truediv__', '__weakref__', '__xor__', '_accessors', '_accum_func', '_add_numeric_operations', '_agg_by_level', '_agg_examples_doc', '_agg_see_also_doc', '_align_frame', '_align_series', '_arith_method', '_as_manager', '_attrs', '_binop', '_can_hold_na', '_check_inplace_and_allows_duplicate_labels', '_check_inplace_setting', '_check_is_chained_assignment_possible', '_check_label_or_level_ambiguity', '_check_setitem_copy', '_clear_item_cache', '_clip_with_one_bound', '_clip_with_scalar', '_cmp_method', '_consolidate', '_consolidate_inplace', '_construct_axes_dict', '_construct_axes_from_arguments', '_construct_result', '_constructor', '_constructor_expanddim', '_convert', '_convert_dtypes', '_data', '_dir_additions', '_dir_deletions', '_drop_axis', '_drop_labels_or_levels', '_duplicated', '_find_valid_index', '_flags', '_from_mgr', '_get_axis', '_get_axis_name', '_get_axis_number', '_get_axis_resolvers', '_get_block_manager_axis', '_get_bool_data', '_get_cacher', '_get_cleaned_column_resolvers', '_get_index_resolvers', '_get_label_or_level_values', '_get_numeric_data', '_get_value', '_get_values', '_get_values_tuple', '_get_with', '_gotitem', '_hidden_attrs', '_index', '_indexed_same', '_info_axis', '_info_axis_name', '_info_axis_number', '_init_dict', '_init_mgr', '_inplace_method', '_internal_names', '_internal_names_set', '_is_cached', '_is_copy', '_is_label_or_level_reference', '_is_label_reference', '_is_level_reference', '_is_mixed_type', '_is_view', '_item_cache', '_ixs', '_logical_func', '_logical_method', '_map_values', '_maybe_update_cacher', '_memory_usage', '_metadata', '_mgr', '_min_count_stat_function', '_name', '_needs_reindex_multi', '_protect_consolidate', '_reduce', '_reindex_axes', '_reindex_indexer', '_reindex_multi', '_reindex_with_indexers', '_replace_single', '_repr_data_resource_', '_repr_latex_', '_reset_cache', '_reset_cacher', '_set_as_cached', '_set_axis', '_set_axis_name', '_set_axis_nocheck', '_set_is_copy', '_set_labels', '_set_name', '_set_value', '_set_values', '_set_with', '_set_with_engine', '_slice', '_stat_axis', '_stat_axis_name', '_stat_axis_number', '_stat_function', '_stat_function_ddof', '_take_with_is_copy', '_typ', '_update_inplace', '_validate_dtype', '_values', '_where', 'abs', 'add', 'add_prefix', 'add_suffix', 'agg', 'aggregate', 'align', 'all', 'any', 'append', 'apply', 'argmax', 'argmin', 'argsort', 'array', 'asfreq', 'asof', 'astype', 'at', 'at_time', 'attrs', 'autocorr', 'axes', 'backfill', 'between', 'between_time', 'bfill', 'bool', 'clip', 'combine', 'combine_first', 'compare', 'convert_dtypes', 'copy', 'corr', 'count', 'cov', 'cummax', 'cummin', 'cumprod', 'cumsum', 'describe', 'diff', 'div', 'divide', 'divmod', 'dot', 'drop', 'drop_duplicates', 'droplevel', 'dropna', 'dtype', 'dtypes', 'duplicated', 'empty', 'eq', 'equals', 'ewm', 'expanding', 'explode', 'factorize', 'ffill', 'fillna', 'filter', 'first', 'first_valid_index', 'flags', 'floordiv', 'ge', 'get', 'groupby', 'gt', 'hasnans', 'head', 'hist', 'iat', 'idxmax', 'idxmin', 'iloc', 'index', 'infer_objects', 'interpolate', 'is_monotonic', 'is_monotonic_decreasing', 'is_monotonic_increasing', 'is_unique', 'isin', 'isna', 'isnull', 'item', 'items', 'iteritems', 'keys', 'kurt', 'kurtosis', 'last', 'last_valid_index', 'le', 'loc', 'lt', 'mad', 'map', 'mask', 'max', 'mean', 'median', 'memory_usage', 'min', 'mod', 'mode', 'mul', 'multiply', 'name', 'nbytes', 'ndim', 'ne', 'nlargest', 'notna', 'notnull', 'nsmallest', 'nunique', 'pad', 'pct_change', 'pipe', 'plot', 'pop', 'pow', 'prod', 'product', 'quantile', 'radd', 'rank', 'ravel', 'rdiv', 'rdivmod', 'reindex', 'reindex_like', 'rename', 'rename_axis', 'reorder_levels', 'repeat', 'replace', 'resample', 'reset_index', 'rfloordiv', 'rmod', 'rmul', 'rolling', 'round', 'rpow', 'rsub', 'rtruediv', 'sample', 'searchsorted', 'sem', 'set_axis', 'set_flags', 'shape', 'shift', 'size', 'skew', 'slice_shift', 'sort_index', 'sort_values', 'squeeze', 'std', 'sub', 'subtract', 'sum', 'swapaxes', 'swaplevel', 'tail', 'take', 'to_clipboard', 'to_csv', 'to_dict', 'to_excel', 'to_frame', 'to_hdf', 'to_json', 'to_latex', 'to_list', 'to_markdown', 'to_numpy', 'to_period', 'to_pickle', 'to_sql', 'to_string', 'to_timestamp', 'to_xarray', 'transform', 'transpose', 'truediv', 'truncate', 'tz_convert', 'tz_localize', 'unique', 'unstack', 'update', 'value_counts', 'values', 'var', 'view', 'where', 'xs']\n",
            "[33, 33, 35, 37, 39, 40, 40, 40, 40, 42, 42, 43, 44, 44, 44, 45, 46, 46, 48, 49, 49, 49, 49, 50, 50, 50, 51, 54, 56, 56, 56, 56, 57, 61, 62, 64, 65, 65, 66, 66, 66, 66, 67, 68, 70, 70, 70, 71, 71, 72, 72, 72, 72, 72, 73, 74, 74, 75, 76, 76, 76, 76, 77, 77, 78, 78, 78, 79, 79, 80, 80, 80, 81, 81, 82, 82, 83, 83, 83, 84, 84, 84, 85, 86, 86, 86, 87, 87, 87, 87, 88, 88, 88, 88, 88, 89, 89, 89, 90, 90, 90, 90, 91, 92, 92, 92, 93, 93, 93, 93, 95, 95, 96, 96, 96, 96, 97, 97, 98, 98, 99, 99, 100, 100, 100, 101, 101, 101, 102, 102, 103, 103, 104, 104, 104, 105, 105, 105, 105, 105, 105, 105, 105, 105, 108, 108, 108, 108, 108, 108, 109, 109, 110, 110, 110, 111, 111, 112, 113, 113, 113, 114, 114, 114, 114, 115, 115, 115, 115, 117, 117, 117, 118, 118, 119, 119, 119, 119, 120, 122, 123, 123, 123, 123, 123, 124, 125, 126, 127, 128, 128, 129, 130, 131, 131, 132, 132, 134, 134, 134, 135, 135, 136, 136, 136, 137, 138, 138, 138, 139, 140, 144, 145, 146, 146, 146, 146, 147, 149, 150, 150, 150, 150, 151, 152, 152, 152, 153, 153, 153, 154, 154, 154, 155, 155, 156, 156, 156, 156, 157, 157, 157, 157, 158, 158, 159, 159, 160, 160, 160, 160, 162, 164, 166, 167, 167, 168, 170, 170, 170, 170, 171, 172, 172, 173, 173, 173, 174, 174, 175, 175, 176, 176, 177, 178, 179, 179, 180, 180, 180, 182, 183, 183, 183, 184, 184, 184, 185, 185, 185, 185, 186, 186, 186, 188, 189, 190, 190, 192, 192, 192, 196, 196, 196, 197, 197, 202, 202, 202, 203, 204, 206, 207, 209, 210, 210, 211, 212, 213, 214, 216, 219, 220, 221, 221, 222, 222, 224, 225, 225, 226, 227, 228, 229, 230, 231, 233, 236, 236, 237, 241, 243, 244, 245, 247, 249, 254, 254, 258, 259, 259, 261, 261, 265, 267, 268, 269, 276, 276, 290, 295, 301, 306, 312, 396]\n",
            "33\n",
            "396\n"
          ]
        }
      ],
      "source": [
        "# len/type/dir/sorted/max/min\n",
        "print(len(subs))\n",
        "print(type(subs))\n",
        "print(dir(subs))\n",
        "print(sorted(subs))\n",
        "print(min(subs))\n",
        "print(max(subs))"
      ]
    },
    {
      "cell_type": "code",
      "execution_count": null,
      "metadata": {
        "colab": {
          "base_uri": "https://localhost:8080/"
        },
        "id": "ZJmwrkkgt2x4",
        "outputId": "f0f07972-6f03-4a1f-fe81-311a4ca84926"
      },
      "outputs": [
        {
          "data": {
            "text/plain": [
              "[67, 100, 89, 100, 90, 100]"
            ]
          },
          "execution_count": 138,
          "metadata": {},
          "output_type": "execute_result"
        }
      ],
      "source": [
        "# type conversion\n",
        "list(marks_series)"
      ]
    },
    {
      "cell_type": "code",
      "execution_count": null,
      "metadata": {
        "colab": {
          "base_uri": "https://localhost:8080/"
        },
        "id": "VPV0VndRP56t",
        "outputId": "eb5c5533-2589-49c2-f6f5-970f2818d10e"
      },
      "outputs": [
        {
          "data": {
            "text/plain": [
              "{'maths': 67,\n",
              " 'english': 100,\n",
              " 'science': 89,\n",
              " 'hindi': 100,\n",
              " 'sst': 90,\n",
              " 'evs': 100}"
            ]
          },
          "execution_count": 139,
          "metadata": {},
          "output_type": "execute_result"
        }
      ],
      "source": [
        "dict(marks_series)"
      ]
    },
    {
      "cell_type": "code",
      "execution_count": null,
      "metadata": {
        "colab": {
          "base_uri": "https://localhost:8080/"
        },
        "id": "ScG8OTsIt3yS",
        "outputId": "8f002760-75d0-44be-d43f-a21b3b5ee84f"
      },
      "outputs": [
        {
          "data": {
            "text/plain": [
              "True"
            ]
          },
          "execution_count": 141,
          "metadata": {},
          "output_type": "execute_result"
        }
      ],
      "source": [
        "# membership operator\n",
        "\n",
        "'2 States (2014 film)' in movies"
      ]
    },
    {
      "cell_type": "code",
      "execution_count": null,
      "metadata": {
        "colab": {
          "base_uri": "https://localhost:8080/"
        },
        "id": "R8woF_08QP7D",
        "outputId": "550f3d87-af4a-49c1-a321-359c88877695"
      },
      "outputs": [
        {
          "data": {
            "text/plain": [
              "True"
            ]
          },
          "execution_count": 144,
          "metadata": {},
          "output_type": "execute_result"
        }
      ],
      "source": [
        "'Alia Bhatt' in movies.values"
      ]
    },
    {
      "cell_type": "code",
      "execution_count": null,
      "metadata": {
        "colab": {
          "base_uri": "https://localhost:8080/"
        },
        "id": "IGjHY4OAQLCC",
        "outputId": "a1394b4a-a632-48a5-c73c-633a20956da3"
      },
      "outputs": [
        {
          "data": {
            "text/plain": [
              "movie\n",
              "Zor Lagaa Ke...Haiya!            Meghan Jadhav\n",
              "Zokkomon                       Darsheel Safary\n",
              "Zindagi Tere Naam           Mithun Chakraborty\n",
              "Zindagi Na Milegi Dobara        Hrithik Roshan\n",
              "Zindagi 50-50                      Veena Malik\n",
              "                                   ...        \n",
              "2 States (2014 film)                Alia Bhatt\n",
              "1971 (2007 film)                Manoj Bajpayee\n",
              "1920: The Evil Returns             Vicky Ahuja\n",
              "1920: London                     Sharman Joshi\n",
              "1920 (film)                   Rajniesh Duggall\n",
              "Name: lead, Length: 1500, dtype: object"
            ]
          },
          "execution_count": 142,
          "metadata": {},
          "output_type": "execute_result"
        }
      ],
      "source": [
        "movies"
      ]
    },
    {
      "cell_type": "code",
      "execution_count": null,
      "metadata": {
        "colab": {
          "base_uri": "https://localhost:8080/"
        },
        "id": "IXnzfjhxt41A",
        "outputId": "fdd25164-e07d-4c86-fdb5-28b2c74ab4c3"
      },
      "outputs": [
        {
          "name": "stdout",
          "output_type": "stream",
          "text": [
            "Zor Lagaa Ke...Haiya!\n",
            "Zokkomon\n",
            "Zindagi Tere Naam\n",
            "Zindagi Na Milegi Dobara\n",
            "Zindagi 50-50\n",
            "Zindaggi Rocks\n",
            "Zinda (film)\n",
            "Zila Ghaziabad\n",
            "Zid (2014 film)\n",
            "Zero (2018 film)\n",
            "Zeher\n",
            "Zed Plus\n",
            "Zameer: The Fire Within\n",
            "Zameen (2003 film)\n",
            "Zamaanat\n",
            "Yuvvraaj\n",
            "Yuva\n",
            "Yun Hota Toh Kya Hota\n",
            "Youngistaan\n",
            "Yeh Saali Aashiqui\n",
            "Yeh Mera India\n",
            "Yeh Lamhe Judaai Ke\n",
            "Yeh Khula Aasmaan\n",
            "Yeh Jawaani Hai Deewani\n",
            "Yeh Hai India\n",
            "Yeh Hai Bakrapur\n",
            "Yeh Dooriyan\n",
            "Yeh Dil\n",
            "Yatra (2007 film)\n",
            "Yamla Pagla Deewana: Phir Se\n",
            "Yamla Pagla Deewana\n",
            "Yakeen (2005 film)\n",
            "Yadvi – The Dignified Princess\n",
            "Yaaram (2019 film)\n",
            "Ya Rab\n",
            "Xcuse Me\n",
            "Woodstock Villa\n",
            "Woh Lamhe...\n",
            "Why Cheat India\n",
            "What's Your Raashee?\n",
            "What the Fish\n",
            "Well Done Abba\n",
            "Welcome to Sajjanpur\n",
            "Welcome Back (film)\n",
            "Welcome 2 Karachi\n",
            "Welcome (2007 film)\n",
            "Wedding Pullav\n",
            "Wedding Anniversary\n",
            "Waris Shah: Ishq Daa Waaris\n",
            "War Chhod Na Yaar\n",
            "Waqt: The Race Against Time\n",
            "Wanted (2009 film)\n",
            "Wake Up Sid\n",
            "Wake Up India\n",
            "Wajah Tum Ho\n",
            "Waiting (2015 film)\n",
            "Waisa Bhi Hota Hai Part II\n",
            "Wah Taj\n",
            "Wafa: A Deadly Love Story\n",
            "Waarrior Savitri\n",
            "W (2014 film)\n",
            "Vodka Diaries\n",
            "Vivah\n",
            "Vishwaroopam\n",
            "Viruddh... Family Comes First\n",
            "Vidyaarthi\n",
            "Victory (2009 film)\n",
            "Vicky Donor\n",
            "Viceroy's House (film)\n",
            "Via Darjeeling\n",
            "Veerey Ki Wedding\n",
            "Veerappan (2016 film)\n",
            "Veer-Zaara\n",
            "Veer (2010 film)\n",
            "Valentine's Night\n",
            "Vaastu Shastra (film)\n",
            "Vaah! Life Ho Toh Aisi!\n",
            "Vaada Raha\n",
            "Vaada (film)\n",
            "Uvaa\n",
            "Utthaan\n",
            "Utt Pataang\n",
            "Uri: The Surgical Strike\n",
            "United Six\n",
            "Union Leader (film)\n",
            "Ungli\n",
            "Umrika\n",
            "Umrao Jaan (2006 film)\n",
            "Umar (film)\n",
            "Ujda Chaman\n",
            "Ugly (film)\n",
            "Udta Punjab\n",
            "Udaan (2010 film)\n",
            "U R My Jaan\n",
            "U Me Aur Hum\n",
            "Turning 30\n",
            "Tumsa Nahin Dekha: A Love Story\n",
            "Tumhari Sulu\n",
            "Tumbbad\n",
            "Tum Milo Toh Sahi\n",
            "Tum Mile\n",
            "Tum Bin II\n",
            "Tulsi (film)\n",
            "Tujhe Meri Kasam\n",
            "Tubelight (2017 Hindi film)\n",
            "Trump Card (film)\n",
            "Trapped (2016 Hindi film)\n",
            "Traffic Signal (film)\n",
            "Traffic (2016 film)\n",
            "Total Siyapaa\n",
            "Total Dhamaal\n",
            "Toonpur Ka Super Hero\n",
            "Tom Dick and Harry (2006 film)\n",
            "Toilet: Ek Prem Katha\n",
            "Toh Baat Pakki!\n",
            "Titoo MBA\n",
            "Titli (2014 film)\n",
            "Tiger Zinda Hai\n",
            "Thugs of Hindostan\n",
            "Thodi Life Thoda Magic\n",
            "Thoda Tum Badlo Thoda Hum\n",
            "Thoda Pyaar Thoda Magic\n",
            "Thoda Lutf Thoda Ishq\n",
            "The Zoya Factor (film)\n",
            "The Xposé\n",
            "The Train (2007 film)\n",
            "The Tashkent Files\n",
            "The Stoneman Murders\n",
            "The Sky Is Pink\n",
            "The Silent Heroes\n",
            "The Shaukeens\n",
            "The Pink Mirror\n",
            "The Namesake (film)\n",
            "The Lunchbox\n",
            "The Last Lear\n",
            "The Killer (2006 film)\n",
            "The Journey of Karma\n",
            "The Japanese Wife\n",
            "The Hero: Love Story of a Spy\n",
            "The Ghazi Attack\n",
            "The Final Exit\n",
            "The Film Emotional Atyachar\n",
            "The Film\n",
            "The Dirty Picture\n",
            "The Bypass\n",
            "The Blueberry Hunt\n",
            "The Blue Umbrella (2005 film)\n",
            "The Accidental Prime Minister (film)\n",
            "Thanks Maa\n",
            "Thank You (2011 film)\n",
            "Thackeray (film)\n",
            "Tezz\n",
            "Tevar\n",
            "Teri Meri Kahaani (film)\n",
            "Tere Naam\n",
            "Tere Naal Love Ho Gaya\n",
            "Tere Mere Phere\n",
            "Tere Bin Laden: Dead or Alive\n",
            "Tere Bin Laden\n",
            "Tera Kya Hoga Johnny\n",
            "Tell Me O Kkhuda\n",
            "Tehzeeb (2003 film)\n",
            "Teesri Aankh: The Hidden Camera\n",
            "Tees Maar Khan (2010 film)\n",
            "Teen Thay Bhai\n",
            "Teen Patti (film)\n",
            "Te3n\n",
            "Taxi No. 9211\n",
            "Tathastu\n",
            "Tashan (film)\n",
            "Tanu Weds Manu: Returns\n",
            "Tanu Weds Manu: Returns\n",
            "Tanu Weds Manu\n",
            "Tango Charlie\n",
            "Tamanchey\n",
            "Talvar (film)\n",
            "Talaash: The Hunt Begins...\n",
            "Talaash: The Answer Lies Within\n",
            "Take It Easy (2015 film)\n",
            "Taj Mahal: An Eternal Love Story\n",
            "Tahaan\n",
            "Table No. 21\n",
            "Taarzan: The Wonder Car\n",
            "Taare Zameen Par\n",
            "Ta Ra Rum Pum\n",
            "Sweetiee Weds NRI\n",
            "Swami (2007 film)\n",
            "Swades\n",
            "Super Nani\n",
            "Super Model (film)\n",
            "Super 30 (film)\n",
            "Suno Sasurjee\n",
            "Sunglass (film)\n",
            "Sunday (2008 film)\n",
            "Summer 2007\n",
            "Sultan (2016 film)\n",
            "Sulemani Keeda\n",
            "Sukhmani: Hope for Life\n",
            "Sui Dhaaga\n",
            "Stumped (film)\n",
            "Student of the Year 2\n",
            "Student of the Year\n",
            "Strings of Passion\n",
            "Striker (2010 film)\n",
            "Stree (2018 film)\n",
            "Strangers (2007 Hindi film)\n",
            "Staying Alive (2012 film)\n",
            "Station (2014 film)\n",
            "Stanley Ka Dabba\n",
            "Ssukh\n",
            "Sssshhh...\n",
            "Speed (2007 film)\n",
            "Special 26\n",
            "Spark (2014 film)\n",
            "Souten: The Other Woman\n",
            "Sorry Daddy\n",
            "Sorry Bhai!\n",
            "Sooper Se Ooper\n",
            "Sonu Ke Titu Ki Sweety\n",
            "Sons of Ram\n",
            "Soni (film)\n",
            "Sonchiriya\n",
            "Sonali Cable\n",
            "Son of Sardaar\n",
            "Socha Na Tha\n",
            "Soch Lo\n",
            "Sixteen (2013 Indian film)\n",
            "Sirf (film)\n",
            "Singham Returns\n",
            "Singham\n",
            "Singh Saab the Great\n",
            "Singh Is Kinng\n",
            "Singh Is Bliing\n",
            "Simran (film)\n",
            "Simmba\n",
            "Silsiilay\n",
            "Sikandar (2009 film)\n",
            "Siddharth (2013 film)\n",
            "Shukriya: Till Death Do Us Apart\n",
            "Shuddh Desi Romance\n",
            "Shubh Mangal Saavdhan\n",
            "Showbiz (film)\n",
            "Shortkut\n",
            "Shortcut Safari\n",
            "Shortcut Romeo\n",
            "Shorgul\n",
            "Shor in the City\n",
            "Shootout at Lokhandwala\n",
            "Sholay\n",
            "Shivaay\n",
            "Shiva (2006 film)\n",
            "Shirin Farhad Ki Toh Nikal Padi\n",
            "Ship of Theseus (film)\n",
            "Shikhar (film)\n",
            "Sheesha (2005 film)\n",
            "Sheen (film)\n",
            "Shart: The Challenge\n",
            "Sharafat Gayi Tel Lene\n",
            "Shanghai (2012 film)\n",
            "Shamitabh\n",
            "Shakalaka Boom Boom\n",
            "Shaitan (film)\n",
            "Shahid (film)\n",
            "Shagird (2011 film)\n",
            "Shabri\n",
            "Shabnam Mausi\n",
            "Shabd (film)\n",
            "Shab (film)\n",
            "Shaapit\n",
            "Shaandaar\n",
            "Shaadi Se Pehle\n",
            "Shaadi No. 1\n",
            "Shaadi Mein Zaroor Aana\n",
            "Shaadi Ke Side Effects\n",
            "Shaadi Karke Phas Gaya Yaar\n",
            "Shaadi Ka Laddoo\n",
            "Setters (film)\n",
            "Sehar\n",
            "Section 375\n",
            "Secret Superstar\n",
            "Second Hand Husband\n",
            "Say Salaam India\n",
            "Satyameva Jayate (2018 film)\n",
            "Satyagraha (film)\n",
            "Satya 2\n",
            "Satta (film)\n",
            "Satrangee Parachute\n",
            "Satellite Shankar\n",
            "Sarkar Raj\n",
            "Sarkar 3\n",
            "Sarkar (2005 film)\n",
            "Sarhad Paar\n",
            "Sarbjit (film)\n",
            "Santa Banta Pvt Ltd\n",
            "Sankat City\n",
            "Sanju\n",
            "Sandwich (2006 film)\n",
            "Sanam Re\n",
            "Samrat & Co.\n",
            "Samay: When Time Strikes\n",
            "Sallu Ki Shaadi\n",
            "Salaam-e-Ishq: A Tribute to Love\n",
            "Salaam Namaste\n",
            "Sahi Dhandhe Galat Bande\n",
            "Saheb Biwi Aur Gangster Returns\n",
            "Saheb Biwi Aur Gangster 3\n",
            "Saheb Biwi Aur Gangster\n",
            "Sadiyaan\n",
            "Sadda Adda\n",
            "Sacred Evil – A True Story\n",
            "Sachin: A Billion Dreams\n",
            "Sabki Bajegi Band\n",
            "Saaya (2003 film)\n",
            "Saawariya\n",
            "Saawan... The Love Season\n",
            "Saathiya (film)\n",
            "Saat Uchakkey\n",
            "Saas Bahu Aur Sensex\n",
            "Saare Jahaan Se Mehnga\n",
            "Saansein\n",
            "Saankal\n",
            "Saand Ki Aankh\n",
            "Saaho\n",
            "Rustom (film)\n",
            "Rush (2012 film)\n",
            "Running Shaadi\n",
            "Run (2004 film)\n",
            "Rules: Pyaar Ka Superhit Formula\n",
            "Rukh (film)\n",
            "Rudraksh (film)\n",
            "Roy (film)\n",
            "Rough Book\n",
            "Rokkk\n",
            "Rok Sako To Rok Lo\n",
            "Rog\n",
            "Rocky Handsome\n",
            "Rockstar (2011 film)\n",
            "Rocket Singh: Salesman of the Year\n",
            "Rock On!!\n",
            "Rock On 2\n",
            "Roar: Tigers of the Sundarbans\n",
            "Roadside Romeo\n",
            "Road to Sangam\n",
            "Riyasat (film)\n",
            "Risknamaa\n",
            "Risk (2007 film)\n",
            "Right Yaaa Wrong\n",
            "Right Here Right Now (film)\n",
            "Ribbon (film)\n",
            "Revolver Rani\n",
            "Revati (film)\n",
            "Red: The Dark Side\n",
            "Red Swastik\n",
            "Red Alert: The War Within\n",
            "Rebellious Flower\n",
            "Rascals (2011 film)\n",
            "Raqeeb\n",
            "Rann (film)\n",
            "Rangrezz\n",
            "Rangoon (2017 Hindi film)\n",
            "Rang Rasiya\n",
            "Rang De Basanti\n",
            "Ranchi Diaries\n",
            "Ranbanka\n",
            "Ramprasad Ki Tehrvi\n",
            "Ramji Londonwaley\n",
            "Ramayana: The Epic\n",
            "Raman Raghav 2.0\n",
            "Ramaiya Vastavaiya\n",
            "Ramaa: The Saviour\n",
            "Rakhtbeej\n",
            "Rakht\n",
            "Rajma Chawal\n",
            "Rajjo\n",
            "Raja Natwarlal\n",
            "Raja Bhaiya (film)\n",
            "Raincoat (film)\n",
            "Raid (2018 film)\n",
            "Rahasya\n",
            "Ragini MMS 2\n",
            "Ragini MMS\n",
            "Raghu Romeo\n",
            "Raees (film)\n",
            "Race 3\n",
            "Race 2\n",
            "Race (2008 film)\n",
            "Rab Ne Bana Di Jodi\n",
            "Raazi\n",
            "Raaz: The Mystery Continues\n",
            "Raaz: Reboot\n",
            "Raaz (2002 film)\n",
            "Raavan\n",
            "Raat Gayi Baat Gayi?\n",
            "Raanjhanaa\n",
            "Raag Desh (film)\n",
            "Raabta (film)\n",
            "Ra.One\n",
            "Quick Gun Murugun\n",
            "Queen (2014 film)\n",
            "Qissa (film)\n",
            "Qayamat: City Under Threat\n",
            "Qarib Qarib Singlle\n",
            "Qaidi Band\n",
            "Pyare Mohan\n",
            "Pyaar Mein Twist\n",
            "Pyaar Ke Side Effects\n",
            "Pyaar Ka Punchnama 2\n",
            "Pyaar Ka Punchnama\n",
            "Pyaar Impossible!\n",
            "Purani Jeans\n",
            "Prince (2010 film)\n",
            "Prem Ratan Dhan Payo\n",
            "Prem Kaa Game\n",
            "Prateeksha\n",
            "Prassthanam\n",
            "Pranaam\n",
            "Prague (2013 film)\n",
            "Praan Jaye Par Shaan Na Jaye\n",
            "Poster Boys\n",
            "Popcorn Khao! Mast Ho Jao\n",
            "Policegiri\n",
            "Police Force: An Inside Story\n",
            "Players (2012 film)\n",
            "Plan (film)\n",
            "Pizza (2014 film)\n",
            "Pink (2016 film)\n",
            "Pinjar (film)\n",
            "Piku\n",
            "Pihu\n",
            "Photograph (film)\n",
            "Phoonk 2\n",
            "Phobia (2016 film)\n",
            "Phir Milenge\n",
            "Phir Kabhi\n",
            "Phir Hera Pheri\n",
            "Phillauri (film)\n",
            "Phhir\n",
            "Phata Poster Nikhla Hero\n",
            "Phas Gaye Re Obama\n",
            "Phantom (2015 film)\n",
            "Phamous\n",
            "Pehchaan: The Face of Truth\n",
            "Peepli Live\n",
            "Paying Guests\n",
            "Patiala House (film)\n",
            "Pati Patni Aur Woh (2019 film)\n",
            "Patel Ki Punjabi Shaadi\n",
            "Pataakha\n",
            "Parwana (2003 film)\n",
            "Partner (2007 film)\n",
            "Parmanu: The Story of Pokhran\n",
            "Parineeta (2005 film)\n",
            "Parched\n",
            "Paranthe Wali Gali\n",
            "Pankh\n",
            "Panchlait\n",
            "Paltan (film)\n",
            "Pal Pal Dil Ke Paas\n",
            "Paisa Vasool\n",
            "Paheli\n",
            "Page 3 (film)\n",
            "Pagalpanti (2019 film)\n",
            "Padmashree Laloo Prasad Yadav\n",
            "Padmaavat\n",
            "Paathshaala\n",
            "Paap\n",
            "Paanch Ghantey Mien Paanch Crore\n",
            "Paan Singh Tomar (film)\n",
            "Paa (film)\n",
            "PM Narendra Modi\n",
            "PK (film)\n",
            "P Se Pyaar F Se Faraar\n",
            "P Se PM Tak\n",
            "Oye Lucky! Lucky Oye!\n",
            "Out of Control (2003 film)\n",
            "One by Two (2014 film)\n",
            "One Two Three\n",
            "One Day: Justice Delivered\n",
            "Once Upon ay Time in Mumbai Dobaara!\n",
            "Once Upon a Time in Mumbaai\n",
            "Omkara (2006 film)\n",
            "Omerta (film)\n",
            "Om-Dar-B-Dar\n",
            "Om Shanti Om\n",
            "Om (2003 film)\n",
            "Ok Jaanu\n",
            "Oh My God (2008 film)\n",
            "October (2018 film)\n",
            "OMG – Oh My God!\n",
            "O Teri\n",
            "Nothing but Life\n",
            "Notebook (2019 film)\n",
            "Not a Love Story (2011 film)\n",
            "Noor (film)\n",
            "No Smoking (2007 film)\n",
            "No Problem (2010 film)\n",
            "No One Killed Jessica\n",
            "No Entry\n",
            "Nishabd\n",
            "Nirdosh\n",
            "Nil Battey Sannata\n",
            "Newton (film)\n",
            "New York (2009 film)\n",
            "Netaji Subhas Chandra Bose: The Forgotten Hero\n",
            "Nehlle Pe Dehlla\n",
            "Neerja\n",
            "Neal 'n' Nikki\n",
            "Nayee Padosan\n",
            "Nawabzaade\n",
            "Nautanki Saala!\n",
            "Naughty @ 40\n",
            "Nasha (film)\n",
            "Naqaab\n",
            "Nanu Ki Jaanu\n",
            "Nanhe Jaisalmer\n",
            "Namastey London\n",
            "Namaste England\n",
            "Naksha\n",
            "Naina (2005 film)\n",
            "Naam Shabana\n",
            "Naach (2004 film)\n",
            "Na Ghar Ke Na Ghaat Ke\n",
            "NH10 (film)\n",
            "NH-8 Road to Nidhivan\n",
            "My Wife's Murder\n",
            "My Name Is Khan\n",
            "My Friend Pinto\n",
            "My Brother…Nikhil\n",
            "My Bollywood Bride\n",
            "My Birthday Song\n",
            "Muskaan\n",
            "Musafir (2004 film)\n",
            "Murder 3\n",
            "Murder 2\n",
            "Murder (2004 film)\n",
            "Murari the Mad Gentleman\n",
            "Munna Michael\n",
            "Munna Bhai M.B.B.S.\n",
            "Mummy Punjabi\n",
            "Mumbhai Connection\n",
            "Mumbai Se Aaya Mera Dost\n",
            "Mumbai Salsa\n",
            "Mumbai Meri Jaan\n",
            "Mumbai Matinee\n",
            "Mumbai Mast Kallander\n",
            "Mumbai Delhi Mumbai\n",
            "Mumbai Can Dance Saala\n",
            "Mumbai 125 KM\n",
            "Mulk (film)\n",
            "Mukkabaaz\n",
            "Mukhbiir\n",
            "Mujhse Shaadi Karogi\n",
            "Mujhse Fraaandship Karoge\n",
            "Mughal-e-Azam\n",
            "Mubarakan\n",
            "Mr. X (2015 film)\n",
            "Mr. Singh Mrs. Mehta\n",
            "Mr. Bhatti on Chutti\n",
            "Mr Prime Minister\n",
            "Motu Patlu: King of Kings\n",
            "Motichoor Chaknachoor\n",
            "Morning Raga\n",
            "Monsoon Shootout\n",
            "Monica (film)\n",
            "Money Hai Toh Honey Hai\n",
            "Mom (film)\n",
            "Mohenjo Daro (film)\n",
            "Mohalla Assi\n",
            "Moh Maya Money\n",
            "Mittal v/s Mittal\n",
            "Mitron\n",
            "Mission Mangal\n",
            "Mission Istaanbul\n",
            "Missing (2018 film)\n",
            "Miss Tanakpur Haazir Ho\n",
            "Mirzya (film)\n",
            "Mirch\n",
            "Miley Naa Miley Hum\n",
            "Milenge Milenge\n",
            "Mickey Virus\n",
            "Meri Pyaari Bindu\n",
            "Meri Biwi Ka Jawaab Nahin\n",
            "Mere Pyare Prime Minister\n",
            "Mere Jeevan Saathi (2006 film)\n",
            "Mere Genie Uncle\n",
            "Mere Dost Picture Abhi Baki Hai\n",
            "Mere Dad Ki Maruti\n",
            "Mere Brother Ki Dulhan\n",
            "Mere Baap Pehle Aap\n",
            "Mercury (film)\n",
            "Memories in March\n",
            "Meinu Ek Ladki Chaahiye\n",
            "Meeruthiya Gangsters\n",
            "Meerabai Not Out\n",
            "Meenaxi: A Tale of Three Cities\n",
            "Maximum (film)\n",
            "Mausam (2011 film)\n",
            "Matrubhoomi\n",
            "Matru Ki Bijlee Ka Mandola\n",
            "Mastram\n",
            "Mastizaade\n",
            "Masti (2004 film)\n",
            "Masaan\n",
            "Mary Kom (film)\n",
            "Married 2 America\n",
            "Market (2003 film)\n",
            "Marjaavaan\n",
            "Marigold (2007 film)\n",
            "Margarita with a Straw\n",
            "Mardaani 2\n",
            "Mardaani\n",
            "Mard Ko Dard Nahi Hota\n",
            "Maqbool\n",
            "Mantra (2016 film)\n",
            "Manto (2018 film)\n",
            "Manorama Six Feet Under\n",
            "Manmarziyaan\n",
            "Manjunath (film)\n",
            "Manjhi – The Mountain Man\n",
            "Manikarnika: The Queen of Jhansi\n",
            "Mangal Pandey: The Rising\n",
            "Malik Ek\n",
            "Malamaal Weekly\n",
            "Maine Pyaar Kyun Kiya?\n",
            "Maine Gandhi Ko Nahin Mara\n",
            "Main Tera Hero\n",
            "Main Prem Ki Diwani Hoon\n",
            "Main Meri Patni Aur Woh\n",
            "Main Madhuri Dixit Banna Chahti Hoon\n",
            "Main Krishna Hoon\n",
            "Main Hoon Part-Time Killer\n",
            "Main Hoon Na\n",
            "Main Aurr Mrs Khanna\n",
            "Main Aur Mr. Riight\n",
            "Main Aisa Hi Hoon\n",
            "Mai (2013 film)\n",
            "Magic Magic 3D\n",
            "Madras Cafe\n",
            "Madhoshi\n",
            "Made in China (2019 film)\n",
            "Madaari\n",
            "Mad About Dance\n",
            "Machine (2017 film)\n",
            "Machhli Jal Ki Rani Hai\n",
            "Maazii\n",
            "Maatr\n",
            "Maan Gaye Mughal-e-Azam\n",
            "MSG: The Warrior Lion Heart\n",
            "MSG: The Messenger\n",
            "MSG-2 The Messenger\n",
            "MP3: Mera Pehla Pehla Pyaar\n",
            "M.S. Dhoni: The Untold Story\n",
            "M Cream\n",
            "Luv U Soniyo\n",
            "Luv U Alia\n",
            "Lucky: No Time for Love\n",
            "Lucky Kabootar\n",
            "Lucknow Central\n",
            "Luckhnowi Ishq\n",
            "Luck by Chance\n",
            "Luck (2009 film)\n",
            "Loveshhuda\n",
            "Love per Square Foot\n",
            "Love in Bombay\n",
            "Love U...Mr. Kalakaar!\n",
            "Love Story 2050\n",
            "Love Sonia\n",
            "Love Shagun\n",
            "Love Sex Aur Dhokha\n",
            "Love Ke Chakkar Mein\n",
            "Love Games (film)\n",
            "Love Breakups Zindagi\n",
            "Love Aaj Kal\n",
            "Lootera\n",
            "London Dreams\n",
            "Loins of Punjab Presents\n",
            "Login (film)\n",
            "Little Zizou\n",
            "Listen... Amaya\n",
            "Lipstick Under My Burkha\n",
            "Life in a... Metro\n",
            "Life Partner\n",
            "Life Mein Kabhie Kabhiee\n",
            "Life Ki Toh Lag Gayi\n",
            "Life Is Beautiful (2014 film)\n",
            "Life Express (2010 film)\n",
            "Lekar Hum Deewana Dil\n",
            "Lamhaa\n",
            "Lakshya (film)\n",
            "Lakshmi (2014 film)\n",
            "Lakeer – Forbidden Lines\n",
            "Laila Majnu (2018 film)\n",
            "Lahore (film)\n",
            "Lage Raho Munna Bhai\n",
            "Lafangey Parindey\n",
            "Ladies vs Ricky Bahl\n",
            "Laal Rang\n",
            "Laaga Chunari Mein Daag\n",
            "LOC Kargil\n",
            "Kyun! Ho Gaya Na...\n",
            "Kyon Ki\n",
            "Kyaa Super Kool Hain Hum\n",
            "Kyaa Kool Hain Hum 3\n",
            "Kyaa Kool Hai Hum\n",
            "Kya Love Story Hai\n",
            "Kya Dilli Kya Lahore\n",
            "Kushti (film)\n",
            "Kurbaan (2009 film)\n",
            "Kuku Mathur Ki Jhand Ho Gayi\n",
            "Kudiyon Ka Hai Zamana\n",
            "Kuchh Meetha Ho Jaye\n",
            "Kuchh Bheege Alfaaz\n",
            "Kuch Naa Kaho\n",
            "Kuch Kuch Locha Hai\n",
            "Kucch To Hai\n",
            "Kucch Luv Jaisaa\n",
            "Krrish\n",
            "Krishna Cottage\n",
            "Krishna Aur Kans\n",
            "Krazzy 4\n",
            "Koyelaanchal\n",
            "Koi... Mil Gaya\n",
            "Koi Mere Dil Mein Hai\n",
            "Koi Aap Sa\n",
            "Knock Out (2010 film)\n",
            "Kites (film)\n",
            "Kisse Pyaar Karoon\n",
            "Kisna: The Warrior Poet\n",
            "Kismat Love Paisa Dilli\n",
            "Kismat Konnection\n",
            "Kismat (2004 film)\n",
            "Kisaan\n",
            "Kis Kisko Pyaar Karoon\n",
            "Kis Kis Ki Kismat\n",
            "Kill Dil\n",
            "Kick (2014 film)\n",
            "Ki & Ka\n",
            "Khwahish\n",
            "Khwaabb\n",
            "Khushi (2003 Hindi film)\n",
            "Khuda Kasam\n",
            "Khoya Khoya Chand\n",
            "Khosla Ka Ghosla\n",
            "Khoobsurat (2014 film)\n",
            "Khichdi: The Movie\n",
            "Khel – No Ordinary Game\n",
            "Khel Toh Ab Shuru Hoga\n",
            "Khatta Meetha (2010 film)\n",
            "Khap (film)\n",
            "Khamoshiyan\n",
            "Khamoshi (2019 film)\n",
            "Khamoshh... Khauff Ki Raat\n",
            "Khamosh Pani\n",
            "Khakee\n",
            "Khajoor Pe Atke\n",
            "Kesari (film)\n",
            "Keep Safe Distance (film)\n",
            "Kaun Kitne Paani Mein\n",
            "Kaun Hai Jo Sapno Mein Aaya\n",
            "Katti Batti\n",
            "Kash Aap Hamare Hote\n",
            "Kasak (2005 film)\n",
            "Karzzzz\n",
            "Karwaan\n",
            "Karthik Calling Karthik\n",
            "Karma Aur Holi\n",
            "Karle Pyaar Karle\n",
            "Karar: The Deal\n",
            "Karam (film)\n",
            "Kapoor & Sons\n",
            "Kaminey\n",
            "Kalyug (2005 film)\n",
            "Kalank\n",
            "Kal Ho Naa Ho\n",
            "Kaise Kahoon Ke... Pyaar Hai\n",
            "Kai Po Che!\n",
            "Kahin Hai Mera Pyar\n",
            "Kahaani\n",
            "Kagaar: Life on the Edge\n",
            "Kadvi Hawa\n",
            "Kabul Express\n",
            "Kabir Singh\n",
            "Kabhi Alvida Naa Kehna\n",
            "Kaashi in Search of Ganga\n",
            "Kaante\n",
            "Kaanchi: The Unbreakable\n",
            "Kaalo\n",
            "Kaalakaandi\n",
            "Kaal (2005 film)\n",
            "Kaagaz Ke Fools\n",
            "Kaabil\n",
            "Just Married (2007 film)\n",
            "Jurm (2005 film)\n",
            "Junooniyat\n",
            "Junglee (2019 film)\n",
            "Julie 2\n",
            "Julie (2004 film)\n",
            "Jugni (2016 film)\n",
            "Judwaa 2\n",
            "Judgementall Hai Kya\n",
            "Jolly LLB\n",
            "Joker (2012 film)\n",
            "Johnny Gaddaar\n",
            "John Day (film)\n",
            "Joggers' Park (film)\n",
            "Jodi Breakers\n",
            "Jodhaa Akbar\n",
            "Jo Hum Chahein\n",
            "Jo Bole So Nihaal (film)\n",
            "Jism (2003 film)\n",
            "Jimmy (2008 film)\n",
            "Jigyaasa\n",
            "Jigariyaa\n",
            "Jia Aur Jia\n",
            "Jhootha Kahin Ka\n",
            "Jhootha Hi Sahi\n",
            "Jhoom Barabar Jhoom\n",
            "Jhankaar Beats\n",
            "Jhalki\n",
            "Jeena Isi Ka Naam Hai (film)\n",
            "Jeena Hai Toh Thok Daal\n",
            "Jazbaa\n",
            "Jayantabhai Ki Luv Story\n",
            "Jawani Diwani: A Youthful Joyride\n",
            "Jattu Engineer\n",
            "Jannat (film)\n",
            "Janasheen\n",
            "James (2005 film)\n",
            "Jalpari: The Desert Mermaid\n",
            "Jalebi (film)\n",
            "Jal (film)\n",
            "Jajantaram Mamantaram\n",
            "Jail (2009 film)\n",
            "Jai Veeru\n",
            "Jai Jawaan Jai Kisaan (film)\n",
            "Jai Ho (film)\n",
            "Jai Gangaajal\n",
            "Jai Chiranjeeva\n",
            "Jahan Jaaeyega Hamen Paaeyega\n",
            "Jagga Jasoos\n",
            "Jackpot (2013 film)\n",
            "Jack and Dil\n",
            "Jabariya Jodi\n",
            "Jab We Met\n",
            "Jab Tak Hai Jaan\n",
            "Jab Harry Met Sejal\n",
            "Jaane Kyun De Yaaron\n",
            "Jaane Kahan Se Aayi Hai\n",
            "Jaane Hoga Kya\n",
            "Jaan-E-Mann\n",
            "Jaal: The Trap\n",
            "JD (film)\n",
            "It's a Wonderful Afterlife\n",
            "Issaq\n",
            "Island City (2015 film)\n",
            "Isi Life Mein\n",
            "Ishqiya\n",
            "Ishqeria\n",
            "Ishqedarriyaan\n",
            "Ishq Vishk\n",
            "Ishq Ke Parindey\n",
            "Ishq Hai Tumse\n",
            "Ishq Forever\n",
            "Ishq Click\n",
            "Ishkq in Paris\n",
            "Ishaqzaade\n",
            "Irudhi Suttru\n",
            "Irada (2017 film)\n",
            "Iqraar by Chance\n",
            "Iqbal (film)\n",
            "Inteqam: The Perfect Game\n",
            "Inteha (2003 film)\n",
            "Insan\n",
            "Insaaf: The Justice\n",
            "Inkaar (2013 film)\n",
            "Indu Sarkar\n",
            "Indian Babu\n",
            "India's Most Wanted (film)\n",
            "Impatient Vivek\n",
            "I See You (2006 film)\n",
            "I Proud to Be an Indian\n",
            "I Love NY (2015 film)\n",
            "I Love Desi\n",
            "I Hate Luv Storys\n",
            "I Am Kalam\n",
            "I Am (2010 Indian film)\n",
            "Hyderabad Blues 2\n",
            "Hunterrr\n",
            "Hungama (2003 film)\n",
            "Humshakals\n",
            "Humpty Sharma Ki Dulhania\n",
            "Humne Jeena Seekh Liya\n",
            "Humko Tumse Pyaar Hai\n",
            "Humko Deewana Kar Gaye\n",
            "Hume Tumse Pyaar Kitna\n",
            "Hum Tumhare Hain Sanam\n",
            "Hum Tum Shabana\n",
            "Hum Tum Aur Ghost\n",
            "Hum Tum\n",
            "Hum Hai Raahi Car Ke\n",
            "Hum Chaar\n",
            "Hulchul (2004 film)\n",
            "Housefull 4\n",
            "Housefull 2\n",
            "Housefull (2010 film)\n",
            "Hotel Salvation\n",
            "Hostel (2011 film)\n",
            "Horror Story (film)\n",
            "Hope Aur Hum\n",
            "Honour Killing (film)\n",
            "Honeymoon Travels Pvt. Ltd.\n",
            "Home Delivery\n",
            "Holiday: A Soldier Is Never Off Duty\n",
            "Holiday (2006 film)\n",
            "Hisss\n",
            "Hindi Medium\n",
            "Hind Ka Napak Ko Jawab: MSG Lion Heart 2\n",
            "Himmatwala (2013 film)\n",
            "Highway (2014 Hindi film)\n",
            "High Jack (film)\n",
            "Hichki\n",
            "Heyy Babyy\n",
            "Hey Bro\n",
            "Heropanti\n",
            "Heroine (2012 film)\n",
            "Heroes (2008 film)\n",
            "Hero (2015 Hindi film)\n",
            "Help (film)\n",
            "Hello Darling\n",
            "Hello (2008 film)\n",
            "Helicopter Eela\n",
            "Heartless (2014 film)\n",
            "Hazaaron Khwaishein Aisi\n",
            "Hawayein\n",
            "Hawas (2004 film)\n",
            "Hawaizaada\n",
            "Hawaa Hawaai\n",
            "Hawa (film)\n",
            "Hava Aney Dey\n",
            "Haunted – 3D\n",
            "Hatya (2004 film)\n",
            "Hattrick (film)\n",
            "Hate Story 4\n",
            "Hate Story 2\n",
            "Hate Story\n",
            "Hastey Hastey\n",
            "Haseena Parkar\n",
            "Hasee Toh Phasee\n",
            "Hari Puttar: A Comedy of Terrors\n",
            "Haraamkhor\n",
            "Happy Phirr Bhag Jayegi\n",
            "Happy New Year (2014 film)\n",
            "Happy Husbands (2011 film)\n",
            "Happy Ending (film)\n",
            "Happy Bhag Jayegi\n",
            "Hanuman (2005 film)\n",
            "Hamid (film)\n",
            "Hamari Adhuri Kahani\n",
            "Halla Bol\n",
            "Halkaa\n",
            "Half Girlfriend (film)\n",
            "Haider (film)\n",
            "Hai Apna Dil Toh Awara\n",
            "Haasil\n",
            "Haal-e-Dil\n",
            "Guzaarish (film)\n",
            "Guru (2007 film)\n",
            "Gunday\n",
            "Gumnaam – The Mystery\n",
            "Gully Boy\n",
            "Gulabi Gang (film)\n",
            "Gulaal (film)\n",
            "Gulaab Gang\n",
            "Guest iin London\n",
            "Guddu Rangeela\n",
            "Guddu Ki Gun\n",
            "Green Card Fever\n",
            "Great Grand Masti\n",
            "Grand Masti\n",
            "Gour Hari Dastaan\n",
            "Gori Tere Pyaar Mein\n",
            "Good Newwz\n",
            "Good Boy Bad Boy\n",
            "Gone Kesh\n",
            "Golmaal: Fun Unlimited\n",
            "Golmaal Returns\n",
            "Golmaal Again\n",
            "Gollu Aur Pappu\n",
            "Goliyon Ki Raasleela Ram-Leela\n",
            "Gold (2018 film)\n",
            "God Tussi Great Ho\n",
            "Goal (2007 Hindi film)\n",
            "Go Goa Gone\n",
            "Go (2007 film)\n",
            "Global Baba\n",
            "Girlfriend (2004 film)\n",
            "Gippi\n",
            "Ghost (2019 film)\n",
            "Ghost (2012 film)\n",
            "Ghayal: Once Again\n",
            "Ghanchakkar (film)\n",
            "Ghajini (2008 film)\n",
            "Genius (2018 Hindi film)\n",
            "Gayab\n",
            "Gauri: The Unborn\n",
            "Gattu\n",
            "Garv: Pride & Honour\n",
            "Garam Masala (2005 film)\n",
            "Gangster (2006 film)\n",
            "Gangs of Wasseypur – Part 2\n",
            "Gangs of Wasseypur\n",
            "Gangoobai\n",
            "Gangaajal\n",
            "Gang of Ghosts\n",
            "Gandhi My Father\n",
            "Game (2011 film)\n",
            "Gali Guleiyan\n",
            "Gabbar Is Back\n",
            "Gabbar Is Back\n",
            "G Kutta Se\n",
            "Fun2shh... Dudes in the 10th Century\n",
            "Fun – Can Be Dangerous Sometimes\n",
            "Fukrey Returns\n",
            "Fukrey\n",
            "Fugly (film)\n",
            "Fuddu\n",
            "FryDay\n",
            "Fruit and Nut (film)\n",
            "From Sydney with Love\n",
            "Fredrick (film)\n",
            "Freaky Ali\n",
            "Fraud Saiyaan\n",
            "Fox (film)\n",
            "Force 2\n",
            "Force (2011 film)\n",
            "Footpath (2003 film)\n",
            "Fool & Final\n",
            "Flavors (film)\n",
            "Flat 211\n",
            "Fitoor\n",
            "Firangi\n",
            "Firaaq\n",
            "Finding Fanny\n",
            "Filmistaan\n",
            "Fight Club – Members Only\n",
            "Fida\n",
            "Fever (2016 film)\n",
            "Ferrari Ki Sawaari\n",
            "Fatso!\n",
            "Fashion (2008 film)\n",
            "Fareb (2005 film)\n",
            "Fanaa (2006 film)\n",
            "Fan (film)\n",
            "Familywala\n",
            "Family of Thakurganj\n",
            "Family (2006 film)\n",
            "F.A.L.T.U\n",
            "Evening Shadows\n",
            "Escape from Taliban\n",
            "Entertainment (2014 film)\n",
            "English Vinglish\n",
            "Enemmy\n",
            "Elaan (2005 film)\n",
            "Eklavya: The Royal Guard\n",
            "Ekkees Toppon Ki Salaami\n",
            "Ekk Deewana Tha\n",
            "Ek: The Power of One\n",
            "Ek Vivaah... Aisa Bhi\n",
            "Ek Villain\n",
            "Ek Thi Rani Aisi Bhi\n",
            "Ek Thi Daayan\n",
            "Ek Tha Tiger\n",
            "Ek Second... Jo Zindagi Badal De?\n",
            "Ek Se Bure Do\n",
            "Ek Se Badhkar Ek (2004 film)\n",
            "Ek Paheli Leela\n",
            "Ek Main Aur Ekk Tu\n",
            "Ek Khiladi Ek Haseena (film)\n",
            "Ek Kahani Julie Ki\n",
            "Ek Hasina Thi (film)\n",
            "Ek Haseena Thi Ek Deewana Tha\n",
            "Ek Din 24 Ghante\n",
            "Ek Chalis Ki Last Local\n",
            "Ek Aur Ek Gyarah\n",
            "Ek Alag Mausam\n",
            "Ek Ajnabee\n",
            "Eight: The Power of Shani\n",
            "Dus Kahaniyaan\n",
            "Dus\n",
            "Dunno Y... Na Jaane Kyon\n",
            "Dum Maaro Dum (film)\n",
            "Dum Laga Ke Haisha\n",
            "Dum (2003 Hindi film)\n",
            "Dulha Mil Gaya\n",
            "Dude Where's the Party?\n",
            "Drona (2008 film)\n",
            "Drishyam (2015 film)\n",
            "Dreams (2006 film)\n",
            "Dream Girl (2019 film)\n",
            "Double Dhamaal\n",
            "Double Cross (2005 film)\n",
            "Dosti: Friends Forever\n",
            "Dostana (2008 film)\n",
            "Dor (film)\n",
            "Dongari Ka Raja\n",
            "Don't Stop Dreaming\n",
            "Don Muthu Swami\n",
            "Don 2\n",
            "Don (2006 Hindi film)\n",
            "Dolly Ki Doli\n",
            "Dobara\n",
            "Dobaara: See Your Evil\n",
            "Do Lafzon Ki Kahani (film)\n",
            "Do Dooni Chaar\n",
            "Dishoom\n",
            "Dishkiyaoon\n",
            "Dirty Politics (film)\n",
            "Direct Ishq\n",
            "Dilwale (2015 film)\n",
            "Dilliwali Zaalim Girlfriend\n",
            "Dil Toh Deewana Hai\n",
            "Dil Toh Baccha Hai Ji\n",
            "Dil Pardesi Ho Gayaa\n",
            "Dil Ne Jise Apna Kahaa\n",
            "Dil Maange More\n",
            "Dil Kabaddi\n",
            "Dil Ka Rishta\n",
            "Dil Juunglee\n",
            "Dil Jo Na Keh Saka\n",
            "Dil Jo Bhi Kahey...\n",
            "Dil Dosti Etc\n",
            "Dil Diya Hai\n",
            "Dil Dhadakne Do\n",
            "Dil Bole Hadippa!\n",
            "Dil Bechara Pyaar Ka Maara\n",
            "Dil Bechara\n",
            "Dhund (2003 film)\n",
            "Dhoop\n",
            "Dhoondte Reh Jaaoge\n",
            "Dhoom 3\n",
            "Dhoom 2\n",
            "Dhoom\n",
            "Dhol (film)\n",
            "Dhokha\n",
            "Dhobi Ghat (film)\n",
            "Dharti Kahe Pukar Ke (2006 film)\n",
            "Dharm (film)\n",
            "Dharam Sankat Mein\n",
            "Dhanak\n",
            "Dhamaal\n",
            "Dhadak\n",
            "Devi (2016 film)\n",
            "Devdas (2002 Hindi film)\n",
            "Devaki (2005 film)\n",
            "Dev (2004 film)\n",
            "Detective Byomkesh Bakshy!\n",
            "Desi Kattey\n",
            "Desi Boyz\n",
            "Deshdrohi\n",
            "Department (film)\n",
            "Delhi-6\n",
            "Delhi Safari\n",
            "Delhi Belly (film)\n",
            "Dekh Tamasha Dekh\n",
            "Dehraadun Diary\n",
            "Deewane Huye Paagal\n",
            "Deewaar (2004 film)\n",
            "Dedh Ishqiya\n",
            "Dear Zindagi\n",
            "Dear Maya\n",
            "Dear Friend Hitler\n",
            "Dear Dad (film)\n",
            "Deadline: Sirf 24 Ghante\n",
            "De Taali\n",
            "De De Pyaar De\n",
            "De Dana Dan\n",
            "Days of Tafree\n",
            "Dasvidaniya\n",
            "Dassehra\n",
            "Darwaaza Bandh Rakho\n",
            "Darr @ the Mall\n",
            "Darna Zaroori Hai\n",
            "Darna Mana Hai\n",
            "Darling (2007 Indian film)\n",
            "Dangerous Ishhq\n",
            "Dangal (film)\n",
            "Damadamm!\n",
            "Daddy Cool (2009 Hindi film)\n",
            "Daddy (2017 film)\n",
            "Dabangg 3\n",
            "Dabangg 2\n",
            "Dabangg\n",
            "Daawat-e-Ishq\n",
            "Daas Dev\n",
            "D-Day (2013 film)\n",
            "D (film)\n",
            "Crook (film)\n",
            "Creature 3D\n",
            "Crazy Cukkad Family\n",
            "Court (film)\n",
            "Corporate (2006 film)\n",
            "Contract (2008 film)\n",
            "Company (film)\n",
            "Commando: A One Man Army\n",
            "Commando 3 (film)\n",
            "Coffee with D\n",
            "Coffee Bloom\n",
            "Cocktail (2012 film)\n",
            "Click (2010 film)\n",
            "Classic – Dance of Love\n",
            "CityLights (2014 film)\n",
            "City of Gold (2010 film)\n",
            "Cigarette Ki Tarah\n",
            "Chura Liyaa Hai Tumne\n",
            "Chup Chup Ke\n",
            "Chori Chori (2003 film)\n",
            "Chor Chor Super Chor\n",
            "Chocolate (2005 film)\n",
            "Chittagong (film)\n",
            "Chintu Ji\n",
            "Chingaari\n",
            "Chinar Daastaan-E-Ishq\n",
            "Chillar Party\n",
            "Children of War (2014 film)\n",
            "Children of Heaven\n",
            "Chicken Curry Law\n",
            "Chhota Bheem and the Throne of Bali\n",
            "Chhodon Naa Yaar\n",
            "Chetna: The Excitement\n",
            "Chennai Express\n",
            "Chehraa\n",
            "Chef (2017 film)\n",
            "Cheeni Kum\n",
            "Chatur Singh Two Star\n",
            "Chashme Baddoor (2013 film)\n",
            "Chase (2010 film)\n",
            "Chargesheet (film)\n",
            "Charas (2004 film)\n",
            "Chandni Chowk to China\n",
            "Chand Sa Roshan Chehra\n",
            "Chand Ke Paar Chalo (film)\n",
            "Chance Pe Dance\n",
            "Chamku\n",
            "Chameli (film)\n",
            "Chalte Chalte (2003 film)\n",
            "Chalo Dilli\n",
            "Challo Driver\n",
            "Chalk n Duster\n",
            "Chal Pichchur Banate Hain\n",
            "Chal Chala Chal\n",
            "Chakravyuh (2012 film)\n",
            "Chak De! India\n",
            "Chaarfutiya Chhokare\n",
            "Chaar Din Ki Chandni\n",
            "Chaalis Chauraasi\n",
            "Chaahat – Ek Nasha\n",
            "Cash (2007 film)\n",
            "Calendar Girls (2015 film)\n",
            "Calcutta Mail\n",
            "Calapor (film)\n",
            "C Kkompany\n",
            "Bypass Road (film)\n",
            "Bunty Aur Babli\n",
            "Bumper Draw\n",
            "Bumm Bumm Bole\n",
            "Bumboo\n",
            "Bullett Raja\n",
            "Bullet: Ek Dhamaka\n",
            "Buddha in a Traffic Jam\n",
            "Buddha Mar Gaya\n",
            "Bubble Gum (film)\n",
            "Brothers (2015 film)\n",
            "Brij Mohan Amar Rahe\n",
            "Breakaway (2011 film)\n",
            "Break Ke Baad\n",
            "Brahman Naman\n",
            "Boss (2013 Hindi film)\n",
            "Border (1997 film)\n",
            "Boom (film)\n",
            "Bombay to Goa (2007 film)\n",
            "Bombay to Bangkok\n",
            "Bombay Velvet\n",
            "Bombay Talkies (film)\n",
            "Bombairiya\n",
            "Bollywood Diaries\n",
            "Bol Bachchan\n",
            "Bodyguard (2011 Hindi film)\n",
            "Bobby Jasoos\n",
            "Bluffmaster!\n",
            "Blue (2009 film)\n",
            "Bloody Isshq\n",
            "Blood Money (2012 film)\n",
            "Blood Brothers (2007 Indian film)\n",
            "Blackmail (2005 film)\n",
            "Black Friday (2007 film)\n",
            "Black (2005 film)\n",
            "Bittoo Boss\n",
            "Bioscopewala\n",
            "Bin Bulaye Baraati\n",
            "Billu\n",
            "Big Brother (2007 film)\n",
            "Bhram\n",
            "Bhopal: A Prayer for Rain\n",
            "Bhoothnath Returns\n",
            "Bhoothnath\n",
            "Bhoot Unkle\n",
            "Bhoot Returns\n",
            "Bhoot (film)\n",
            "Bhoomi (film)\n",
            "Bhool Bhulaiyaa\n",
            "Bhola in Bollywood\n",
            "Bheja Fry 2\n",
            "Bheja Fry (film)\n",
            "Bhavesh Joshi Superhero\n",
            "Bhanwarey\n",
            "Bhaiaji Superhit\n",
            "Bhagmati (2005 film)\n",
            "Bhagam Bhag\n",
            "Bhaag Milkha Bhaag\n",
            "Bhaag Johnny\n",
            "Bezubaan Ishq\n",
            "Beyond the Clouds (2017 film)\n",
            "Bewakoofiyaan\n",
            "Bewafaa (2005 film)\n",
            "Being Cyrus\n",
            "Beiimaan Love\n",
            "Behen Hogi Teri\n",
            "Begum Jaan\n",
            "Befikre\n",
            "Bbuddah... Hoga Terra Baap\n",
            "Bazaar E Husn\n",
            "Batti Gul Meter Chalu\n",
            "Battalion 609\n",
            "Batla House\n",
            "Basti (film)\n",
            "Bas Ek Pal\n",
            "Barsaat (2005 film)\n",
            "Barkhaa\n",
            "Barfi!\n",
            "Bareilly Ki Barfi\n",
            "Bardaasht\n",
            "Barah Aana\n",
            "Bank Chor\n",
            "Banjo (2016 film)\n",
            "Bangistan\n",
            "Bang Bang!\n",
            "Bandook\n",
            "Band Baaja Baaraat\n",
            "Banaras (2006 film)\n",
            "Balwinder Singh Famous Ho Gaya\n",
            "Bala (2019 film)\n",
            "Bajrangi Bhaijaan\n",
            "Bajirao Mastani\n",
            "Bajatey Raho\n",
            "Baghban (2003 film)\n",
            "Badrinath Ki Dulhania\n",
            "Badmashiyaan\n",
            "Badlapur Boys\n",
            "Badlapur (film)\n",
            "Badla (2019 film)\n",
            "Badhaai Ho\n",
            "Bachna Ae Haseeno\n",
            "Bachke Rehna Re Baba\n",
            "Bachche Kachche Sachche\n",
            "Baby (2015 Hindi film)\n",
            "Babumoshai Bandookbaaz\n",
            "Babuji Ek Ticket Bambai\n",
            "Babloo Happy Hai\n",
            "Baazaar\n",
            "Baaz: A Bird in Danger\n",
            "Baat Bann Gayi\n",
            "Baar Baar Dekho\n",
            "Baaghi 2\n",
            "Baaghi (2016 film)\n",
            "Baabul (2006 film)\n",
            "Baabarr\n",
            "B.A. Pass\n",
            "Azhar (film)\n",
            "Awarapan\n",
            "Awara Paagal Deewana\n",
            "Aval (2017 film)\n",
            "Aurangzeb (film)\n",
            "Aur Pappu Paas Ho Gaya\n",
            "Ata Pata Laapata\n",
            "Asambhav\n",
            "Aryan: Unbreakable\n",
            "Article 15 (film)\n",
            "Armaan (2003 film)\n",
            "Arjun: The Warrior Prince\n",
            "Arjun Patiala\n",
            "Apne\n",
            "Apna Sapna Money Money\n",
            "Apna Asmaan\n",
            "Apartment (film)\n",
            "Apaharan\n",
            "Anwar (2007 film)\n",
            "Anuradha (2014 film)\n",
            "Anthony Kaun Hai?\n",
            "Antardwand\n",
            "Anna (2016 film)\n",
            "Ankur Arora Murder Case\n",
            "Ankhon Dekhi\n",
            "Ankahee (2006 film)\n",
            "Anjaane (2005 film)\n",
            "Anjaana Anjaani\n",
            "Angel (2011 film)\n",
            "Andhadhun\n",
            "Andaaz\n",
            "Andaaz\n",
            "Anamika (2008 film)\n",
            "Anaarkali of Aarah\n",
            "Amit Sahni Ki List\n",
            "Amavas\n",
            "Always Kabhi Kabhi\n",
            "Aloo Chaat (film)\n",
            "Alone (2015 Hindi film)\n",
            "Allah Ke Banday\n",
            "All the Best: Fun Begins\n",
            "All Is Well (2015 film)\n",
            "Aligarh (film)\n",
            "Albert Pinto Ko Gussa Kyun Aata Hai?\n",
            "Alag\n",
            "Aladin (film)\n",
            "Aksar 2\n",
            "Aksar\n",
            "Akaash Vani\n",
            "Ajji\n",
            "Ajab Prem Ki Ghazab Kahani\n",
            "Ajab Gazabb Love\n",
            "Aiyyaa\n",
            "Aiyaary\n",
            "Aitraaz\n",
            "Aisa Yeh Jahaan\n",
            "Aisa Kyon Hota Hai?\n",
            "Airlift (film)\n",
            "Ahista Ahista (2006 film)\n",
            "Agnipankh\n",
            "Agneepath (2012 film)\n",
            "Aggar (film)\n",
            "Agent Vinod (2012 film)\n",
            "Aetbaar\n",
            "Ae Dil Hai Mushkil\n",
            "Adharm (2006 film)\n",
            "Action Replayy\n",
            "Action Jackson (2014 film)\n",
            "Acid Factory\n",
            "Accident on Hill Road\n",
            "Ab Tumhare Hawale Watan Saathiyo\n",
            "Ab Tak Chhappan 2\n",
            "Aazaan\n",
            "Aasma: The Sky Is the Limit\n",
            "Aashiqui.in\n",
            "Aashiqui 2\n",
            "Aashiq Banaya Aapne\n",
            "Aashayein\n",
            "Aarakshan\n",
            "Aapko Pehle Bhi Kahin Dekha Hai\n",
            "Aap Ki Khatir (2006 film)\n",
            "Aap Kaa Surroor\n",
            "Aankhen (2002 film)\n",
            "Aanch\n",
            "Aan: Men at Work\n",
            "Aalaap (film)\n",
            "Aakrosh (2010 film)\n",
            "Aakhari Decision\n",
            "Aaja Nachle\n",
            "Aaj Ka Andha Kanoon\n",
            "Aagey Se Right\n",
            "Aag (2007 film)\n",
            "Aabra Ka Daabra\n",
            "Aa Gaya Hero\n",
            "Aa Dekhen Zara\n",
            "ABCD 2\n",
            "A Gentleman\n",
            "A Flying Jatt\n",
            "A Flat (film)\n",
            "A Decent Arrangement\n",
            "?: A Question Mark\n",
            "99.9 FM (film)\n",
            "99 (2009 film)\n",
            "88 Antop Hill\n",
            "7½ Phere\n",
            "7 Khoon Maaf\n",
            "7 Hours to Go\n",
            "68 Pages\n",
            "5 Weddings\n",
            "404 (film)\n",
            "3G (film)\n",
            "36 China Town\n",
            "31st October (film)\n",
            "3 Storeys\n",
            "3 Idiots\n",
            "3 Deewarein\n",
            "3 A.M. (2014 film)\n",
            "22 Yards\n",
            "2 States (2014 film)\n",
            "1971 (2007 film)\n",
            "1920: The Evil Returns\n",
            "1920: London\n",
            "1920 (film)\n"
          ]
        }
      ],
      "source": [
        "# looping\n",
        "for i in movies.index:\n",
        "  print(i)"
      ]
    },
    {
      "cell_type": "code",
      "execution_count": null,
      "metadata": {
        "colab": {
          "base_uri": "https://localhost:8080/"
        },
        "id": "XPYoq68WuBZ_",
        "outputId": "37e4b69d-1071-4735-a5cc-1db0c1b096a6"
      },
      "outputs": [
        {
          "data": {
            "text/plain": [
              "maths      167\n",
              "english    200\n",
              "science    189\n",
              "hindi      200\n",
              "sst        190\n",
              "evs        200\n",
              "Name: nitish ke marks, dtype: int64"
            ]
          },
          "execution_count": 149,
          "metadata": {},
          "output_type": "execute_result"
        }
      ],
      "source": [
        "# Arithmetic Operators(Broadcasting)\n",
        "100 + marks_series"
      ]
    },
    {
      "cell_type": "code",
      "execution_count": null,
      "metadata": {
        "colab": {
          "base_uri": "https://localhost:8080/"
        },
        "id": "L3uIP0BJuEKf",
        "outputId": "5071a9e3-ef90-4e09-d880-785518914f78"
      },
      "outputs": [
        {
          "data": {
            "text/plain": [
              "match_no\n",
              "1      False\n",
              "2      False\n",
              "3      False\n",
              "4      False\n",
              "5      False\n",
              "       ...  \n",
              "211    False\n",
              "212    False\n",
              "213     True\n",
              "214    False\n",
              "215    False\n",
              "Name: runs, Length: 215, dtype: bool"
            ]
          },
          "execution_count": 151,
          "metadata": {},
          "output_type": "execute_result"
        }
      ],
      "source": [
        "# Relational Operators\n",
        "\n",
        "vk >= 50"
      ]
    },
    {
      "cell_type": "markdown",
      "metadata": {
        "id": "nrtnwvD0O515"
      },
      "source": [
        "### Boolean Indexing on Series"
      ]
    },
    {
      "cell_type": "code",
      "execution_count": null,
      "metadata": {
        "colab": {
          "base_uri": "https://localhost:8080/"
        },
        "id": "XcyU25jLO9ft",
        "outputId": "a239891b-0493-4eb0-85b5-301f599fa2f0"
      },
      "outputs": [
        {
          "data": {
            "text/plain": [
              "50"
            ]
          },
          "execution_count": 154,
          "metadata": {},
          "output_type": "execute_result"
        }
      ],
      "source": [
        "# Find no of 50's and 100's scored by kohli\n",
        "vk[vk >= 50].size"
      ]
    },
    {
      "cell_type": "code",
      "execution_count": 41,
      "metadata": {
        "colab": {
          "base_uri": "https://localhost:8080/"
        },
        "id": "37QxNConO904",
        "outputId": "82600c80-6242-41cd-b904-1831912b41da"
      },
      "outputs": [
        {
          "data": {
            "text/plain": [
              "match_no\n",
              "1       1\n",
              "2      23\n",
              "3      13\n",
              "4      12\n",
              "5       1\n",
              "       ..\n",
              "211     0\n",
              "212    20\n",
              "213    73\n",
              "214    25\n",
              "215     7\n",
              "Name: runs, Length: 215, dtype: int64"
            ]
          },
          "execution_count": 41,
          "metadata": {},
          "output_type": "execute_result"
        }
      ],
      "source": [
        "# find number of ducks\n",
        "vk[vk == 0].size"
      ]
    },
    {
      "cell_type": "code",
      "execution_count": 40,
      "metadata": {
        "colab": {
          "base_uri": "https://localhost:8080/"
        },
        "id": "p-Hft0kSvBn2",
        "outputId": "40c5162c-bf00-4be3-b07f-9e6a1ab1d3c2"
      },
      "outputs": [
        {
          "data": {
            "text/plain": [
              "0       48\n",
              "1       57\n",
              "2       40\n",
              "3       43\n",
              "4       44\n",
              "      ... \n",
              "360    231\n",
              "361    226\n",
              "362    155\n",
              "363    144\n",
              "364    172\n",
              "Name: Subscribers gained, Length: 365, dtype: int64"
            ]
          },
          "execution_count": 40,
          "metadata": {},
          "output_type": "execute_result"
        }
      ],
      "source": [
        "# Count number of day when I had more than 200 subs a day\n",
        "subs[subs > 200].size"
      ]
    },
    {
      "cell_type": "code",
      "execution_count": null,
      "metadata": {
        "colab": {
          "base_uri": "https://localhost:8080/"
        },
        "id": "fZM3OCApvsZe",
        "outputId": "4dedb12e-c01e-4209-93a1-7614a4fb9a25"
      },
      "outputs": [
        {
          "data": {
            "text/plain": [
              "Akshay Kumar        48\n",
              "Amitabh Bachchan    45\n",
              "Ajay Devgn          38\n",
              "Salman Khan         31\n",
              "Sanjay Dutt         26\n",
              "Shah Rukh Khan      22\n",
              "Emraan Hashmi       21\n",
              "Name: lead, dtype: int64"
            ]
          },
          "execution_count": 166,
          "metadata": {},
          "output_type": "execute_result"
        }
      ],
      "source": [
        "# find actors who have done more than 20 movies\n",
        "num_movies = movies.value_counts()\n",
        "num_movies[num_movies > 20]"
      ]
    },
    {
      "cell_type": "markdown",
      "metadata": {
        "id": "PQjv9hm-42Jr"
      },
      "source": [
        "### Plotting Graphs on Series"
      ]
    },
    {
      "cell_type": "code",
      "execution_count": 35,
      "metadata": {
        "colab": {
          "base_uri": "https://localhost:8080/",
          "height": 283
        },
        "id": "WVEQvPTw40KE",
        "outputId": "8e7a69f1-792a-4a0e-ad83-4875ecde1108"
      },
      "outputs": [
        {
          "data": {
            "text/plain": [
              "<Axes: >"
            ]
          },
          "execution_count": 35,
          "metadata": {},
          "output_type": "execute_result"
        },
        {
          "data": {
            "image/png": "[encoded data removed]",
            "text/plain": [
              "<Figure size 640x480 with 1 Axes>"
            ]
          },
          "metadata": {},
          "output_type": "display_data"
        }
      ],
      "source": [
        "subs.plot()"
      ]
    },
    {
      "cell_type": "code",
      "execution_count": 39,
      "metadata": {
        "colab": {
          "base_uri": "https://localhost:8080/",
          "height": 266
        },
        "id": "lGhMdpmkTm-z",
        "outputId": "e21c52dc-b3cb-4a40-c2cf-2a09b7cd61f1"
      },
      "outputs": [
        {
          "data": {
            "text/plain": [
              "<Axes: ylabel='count'>"
            ]
          },
          "execution_count": 39,
          "metadata": {},
          "output_type": "execute_result"
        },
        {
          "data": {
            "image/png": "[encoded data removed]",
            "text/plain": [
              "<Figure size 640x480 with 1 Axes>"
            ]
          },
          "metadata": {},
          "output_type": "display_data"
        }
      ],
      "source": [
        "movies.value_counts().head(20).plot(kind='pie')"
      ]
    },
    {
      "cell_type": "markdown",
      "metadata": {
        "id": "3fl2mDQgPsz_"
      },
      "source": [
        "### Some Important Series Methods"
      ]
    },
    {
      "cell_type": "code",
      "execution_count": null,
      "metadata": {
        "id": "HRw5A2lhKn97"
      },
      "outputs": [],
      "source": [
        "# astype\n",
        "# between\n",
        "# clip\n",
        "# drop_duplicates\n",
        "# isnull\n",
        "# dropna\n",
        "# fillna\n",
        "# isin\n",
        "# apply\n",
        "# copy"
      ]
    },
    {
      "cell_type": "code",
      "execution_count": null,
      "metadata": {
        "id": "AWCxMcdt6tN2"
      },
      "outputs": [],
      "source": [
        "import numpy as np\n",
        "import pandas as pd"
      ]
    },
    {
      "cell_type": "code",
      "execution_count": null,
      "metadata": {
        "colab": {
          "base_uri": "https://localhost:8080/"
        },
        "id": "7ziyhORZ0Oy1",
        "outputId": "a480585f-3edd-4497-8f48-1f6a718cdbd3"
      },
      "outputs": [
        {
          "data": {
            "text/plain": [
              "0       48\n",
              "1       57\n",
              "2       40\n",
              "3       43\n",
              "4       44\n",
              "      ... \n",
              "360    231\n",
              "361    226\n",
              "362    155\n",
              "363    144\n",
              "364    172\n",
              "Name: Subscribers gained, Length: 365, dtype: int64"
            ]
          },
          "execution_count": 8,
          "metadata": {},
          "output_type": "execute_result"
        }
      ],
      "source": [
        "subs = pd.read_csv('/content/subs.csv',squeeze=True)\n",
        "subs"
      ]
    },
    {
      "cell_type": "code",
      "execution_count": null,
      "metadata": {
        "colab": {
          "base_uri": "https://localhost:8080/"
        },
        "id": "sXzsoZBIzXgQ",
        "outputId": "fdfa4a42-cab0-4f2a-84d8-7b0ffb3a3a0b"
      },
      "outputs": [
        {
          "data": {
            "text/plain": [
              "match_no\n",
              "1       1\n",
              "2      23\n",
              "3      13\n",
              "4      12\n",
              "5       1\n",
              "       ..\n",
              "211     0\n",
              "212    20\n",
              "213    73\n",
              "214    25\n",
              "215     7\n",
              "Name: runs, Length: 215, dtype: int64"
            ]
          },
          "execution_count": 9,
          "metadata": {},
          "output_type": "execute_result"
        }
      ],
      "source": [
        "vk = pd.read_csv('/content/kohli_ipl.csv',index_col='match_no',squeeze=True)\n",
        "vk"
      ]
    },
    {
      "cell_type": "code",
      "execution_count": null,
      "metadata": {
        "colab": {
          "base_uri": "https://localhost:8080/"
        },
        "id": "YIG8ViibzbaA",
        "outputId": "e3db35aa-e98a-425a-ca61-df44efa191c8"
      },
      "outputs": [
        {
          "data": {
            "text/plain": [
              "movie\n",
              "Uri: The Surgical Strike                   Vicky Kaushal\n",
              "Battalion 609                                Vicky Ahuja\n",
              "The Accidental Prime Minister (film)         Anupam Kher\n",
              "Why Cheat India                            Emraan Hashmi\n",
              "Evening Shadows                         Mona Ambegaonkar\n",
              "                                              ...       \n",
              "Hum Tumhare Hain Sanam                    Shah Rukh Khan\n",
              "Aankhen (2002 film)                     Amitabh Bachchan\n",
              "Saathiya (film)                             Vivek Oberoi\n",
              "Company (film)                                Ajay Devgn\n",
              "Awara Paagal Deewana                        Akshay Kumar\n",
              "Name: lead, Length: 1500, dtype: object"
            ]
          },
          "execution_count": 10,
          "metadata": {},
          "output_type": "execute_result"
        }
      ],
      "source": [
        "movies = pd.read_csv('/content/bollywood.csv',index_col='movie',squeeze=True)\n",
        "movies"
      ]
    },
    {
      "cell_type": "code",
      "execution_count": null,
      "metadata": {
        "colab": {
          "base_uri": "https://localhost:8080/"
        },
        "id": "W_Savtg2zf7z",
        "outputId": "67e51723-1a0f-41ae-c1b7-1a4dd3c2e2a2"
      },
      "outputs": [
        {
          "data": {
            "text/plain": [
              "3456"
            ]
          },
          "execution_count": 51,
          "metadata": {},
          "output_type": "execute_result"
        }
      ],
      "source": [
        "# astype\n",
        "import sys\n",
        "sys.getsizeof(vk)"
      ]
    },
    {
      "cell_type": "code",
      "execution_count": null,
      "metadata": {
        "colab": {
          "base_uri": "https://localhost:8080/"
        },
        "id": "LColuUHt62ho",
        "outputId": "7ed7fdbe-ef05-4367-af75-b94ba28abcf5"
      },
      "outputs": [
        {
          "data": {
            "text/plain": [
              "2166"
            ]
          },
          "execution_count": 53,
          "metadata": {},
          "output_type": "execute_result"
        }
      ],
      "source": [
        "sys.getsizeof(vk.astype('int16'))"
      ]
    },
    {
      "cell_type": "code",
      "execution_count": null,
      "metadata": {
        "colab": {
          "base_uri": "https://localhost:8080/"
        },
        "id": "9TGRR7Mi63Rl",
        "outputId": "9b255cc8-bc45-4889-cc41-0a466f023e8e"
      },
      "outputs": [
        {
          "data": {
            "text/plain": [
              "43"
            ]
          },
          "execution_count": 56,
          "metadata": {},
          "output_type": "execute_result"
        }
      ],
      "source": [
        "# between\n",
        "vk[vk.between(51,99)].size"
      ]
    },
    {
      "cell_type": "code",
      "execution_count": null,
      "metadata": {
        "id": "uBCn5ryN68y8"
      },
      "outputs": [],
      "source": []
    },
    {
      "cell_type": "code",
      "execution_count": null,
      "metadata": {
        "colab": {
          "base_uri": "https://localhost:8080/"
        },
        "id": "n7FUL-St69Dk",
        "outputId": "2f39b3ef-1505-48ff-9515-5118cbb6566e"
      },
      "outputs": [
        {
          "data": {
            "text/plain": [
              "0       48\n",
              "1       57\n",
              "2       40\n",
              "3       43\n",
              "4       44\n",
              "      ... \n",
              "360    231\n",
              "361    226\n",
              "362    155\n",
              "363    144\n",
              "364    172\n",
              "Name: Subscribers gained, Length: 365, dtype: int64"
            ]
          },
          "execution_count": 57,
          "metadata": {},
          "output_type": "execute_result"
        }
      ],
      "source": [
        "# clip\n",
        "subs"
      ]
    },
    {
      "cell_type": "code",
      "execution_count": null,
      "metadata": {
        "colab": {
          "base_uri": "https://localhost:8080/"
        },
        "id": "kUkcI7Q86-Ik",
        "outputId": "ded69a90-7ed3-4c1d-c6d1-8cf1f7a4c621"
      },
      "outputs": [
        {
          "data": {
            "text/plain": [
              "0      100\n",
              "1      100\n",
              "2      100\n",
              "3      100\n",
              "4      100\n",
              "      ... \n",
              "360    200\n",
              "361    200\n",
              "362    155\n",
              "363    144\n",
              "364    172\n",
              "Name: Subscribers gained, Length: 365, dtype: int64"
            ]
          },
          "execution_count": 58,
          "metadata": {},
          "output_type": "execute_result"
        }
      ],
      "source": [
        "subs.clip(100,200)"
      ]
    },
    {
      "cell_type": "code",
      "execution_count": null,
      "metadata": {
        "colab": {
          "base_uri": "https://localhost:8080/"
        },
        "id": "1pxfXsU2z13B",
        "outputId": "18a6951c-06b6-48ea-d3c2-22a27f737ed5"
      },
      "outputs": [
        {
          "data": {
            "text/plain": [
              "0    1\n",
              "1    1\n",
              "2    2\n",
              "3    2\n",
              "4    3\n",
              "5    3\n",
              "6    4\n",
              "7    4\n",
              "dtype: int64"
            ]
          },
          "execution_count": 60,
          "metadata": {},
          "output_type": "execute_result"
        }
      ],
      "source": [
        "# drop_duplicates\n",
        "temp = pd.Series([1,1,2,2,3,3,4,4])\n",
        "temp"
      ]
    },
    {
      "cell_type": "code",
      "execution_count": null,
      "metadata": {
        "colab": {
          "base_uri": "https://localhost:8080/"
        },
        "id": "CuhblaOA6eLa",
        "outputId": "132438ce-dfa3-43e7-9574-27e573ebaa3b"
      },
      "outputs": [
        {
          "data": {
            "text/plain": [
              "1    1\n",
              "3    2\n",
              "5    3\n",
              "7    4\n",
              "dtype: int64"
            ]
          },
          "execution_count": 62,
          "metadata": {},
          "output_type": "execute_result"
        }
      ],
      "source": [
        "temp.drop_duplicates(keep='last')"
      ]
    },
    {
      "cell_type": "code",
      "execution_count": null,
      "metadata": {
        "colab": {
          "base_uri": "https://localhost:8080/"
        },
        "id": "JP2eHcJQ9wUT",
        "outputId": "7e4323f5-24f1-42ad-85f7-d8ce51999716"
      },
      "outputs": [
        {
          "data": {
            "text/plain": [
              "4"
            ]
          },
          "execution_count": 65,
          "metadata": {},
          "output_type": "execute_result"
        }
      ],
      "source": [
        "temp.duplicated().sum()"
      ]
    },
    {
      "cell_type": "code",
      "execution_count": null,
      "metadata": {
        "colab": {
          "base_uri": "https://localhost:8080/"
        },
        "id": "CNOErsJI992F",
        "outputId": "f775f7de-3bfb-41f1-b602-bd3b49d3c5bf"
      },
      "outputs": [
        {
          "data": {
            "text/plain": [
              "137"
            ]
          },
          "execution_count": 66,
          "metadata": {},
          "output_type": "execute_result"
        }
      ],
      "source": [
        "vk.duplicated().sum()"
      ]
    },
    {
      "cell_type": "code",
      "execution_count": null,
      "metadata": {
        "colab": {
          "base_uri": "https://localhost:8080/"
        },
        "id": "HJrGhllP9mUy",
        "outputId": "ad772a71-57fb-4d1a-bdc3-dc5ff28dfbca"
      },
      "outputs": [
        {
          "data": {
            "text/plain": [
              "movie\n",
              "Uri: The Surgical Strike                   Vicky Kaushal\n",
              "Battalion 609                                Vicky Ahuja\n",
              "The Accidental Prime Minister (film)         Anupam Kher\n",
              "Why Cheat India                            Emraan Hashmi\n",
              "Evening Shadows                         Mona Ambegaonkar\n",
              "                                              ...       \n",
              "Sssshhh...                              Tanishaa Mukerji\n",
              "Rules: Pyaar Ka Superhit Formula                  Tanuja\n",
              "Right Here Right Now (film)                        Ankit\n",
              "Talaash: The Hunt Begins...                Rakhee Gulzar\n",
              "The Pink Mirror                          Edwin Fernandes\n",
              "Name: lead, Length: 566, dtype: object"
            ]
          },
          "execution_count": 63,
          "metadata": {},
          "output_type": "execute_result"
        }
      ],
      "source": [
        "movies.drop_duplicates()"
      ]
    },
    {
      "cell_type": "code",
      "execution_count": null,
      "metadata": {
        "colab": {
          "base_uri": "https://localhost:8080/"
        },
        "id": "QrrlnPu46ene",
        "outputId": "9e396114-42da-49b6-b850-710f52e89c6c"
      },
      "outputs": [
        {
          "data": {
            "text/plain": [
              "0     1.0\n",
              "1     2.0\n",
              "2     3.0\n",
              "3     NaN\n",
              "4     5.0\n",
              "5     6.0\n",
              "6     NaN\n",
              "7     8.0\n",
              "8     NaN\n",
              "9    10.0\n",
              "dtype: float64"
            ]
          },
          "execution_count": 67,
          "metadata": {},
          "output_type": "execute_result"
        }
      ],
      "source": [
        "temp = pd.Series([1,2,3,np.nan,5,6,np.nan,8,np.nan,10])\n",
        "temp"
      ]
    },
    {
      "cell_type": "code",
      "execution_count": null,
      "metadata": {
        "colab": {
          "base_uri": "https://localhost:8080/"
        },
        "id": "yH3URjKb-PTJ",
        "outputId": "90e1a0f4-53e4-44dd-ae5f-7e5cccb60f13"
      },
      "outputs": [
        {
          "data": {
            "text/plain": [
              "10"
            ]
          },
          "execution_count": 68,
          "metadata": {},
          "output_type": "execute_result"
        }
      ],
      "source": [
        "temp.size"
      ]
    },
    {
      "cell_type": "code",
      "execution_count": null,
      "metadata": {
        "colab": {
          "base_uri": "https://localhost:8080/"
        },
        "id": "alUtB-HD-WNQ",
        "outputId": "9cbc07c4-d8bf-4455-d9a0-150189d719cd"
      },
      "outputs": [
        {
          "data": {
            "text/plain": [
              "7"
            ]
          },
          "execution_count": 69,
          "metadata": {},
          "output_type": "execute_result"
        }
      ],
      "source": [
        "temp.count()"
      ]
    },
    {
      "cell_type": "code",
      "execution_count": null,
      "metadata": {
        "colab": {
          "base_uri": "https://localhost:8080/"
        },
        "id": "6FRiAkec6mib",
        "outputId": "db5c5c03-218b-43b0-bcdf-07df161e66de"
      },
      "outputs": [
        {
          "data": {
            "text/plain": [
              "3"
            ]
          },
          "execution_count": 72,
          "metadata": {},
          "output_type": "execute_result"
        }
      ],
      "source": [
        "# isnull\n",
        "temp.isnull().sum()"
      ]
    },
    {
      "cell_type": "code",
      "execution_count": null,
      "metadata": {
        "id": "_98OInJX7GhO"
      },
      "outputs": [],
      "source": []
    },
    {
      "cell_type": "code",
      "execution_count": null,
      "metadata": {
        "colab": {
          "base_uri": "https://localhost:8080/"
        },
        "id": "STkbZIDn7HBa",
        "outputId": "e128100c-4f4e-46b3-80b5-bb9390f2d53c"
      },
      "outputs": [
        {
          "data": {
            "text/plain": [
              "0     1.0\n",
              "1     2.0\n",
              "2     3.0\n",
              "4     5.0\n",
              "5     6.0\n",
              "7     8.0\n",
              "9    10.0\n",
              "dtype: float64"
            ]
          },
          "execution_count": 73,
          "metadata": {},
          "output_type": "execute_result"
        }
      ],
      "source": [
        "# dropna\n",
        "temp.dropna()"
      ]
    },
    {
      "cell_type": "code",
      "execution_count": null,
      "metadata": {
        "id": "0vp6l6kO7INt"
      },
      "outputs": [],
      "source": []
    },
    {
      "cell_type": "code",
      "execution_count": null,
      "metadata": {
        "colab": {
          "base_uri": "https://localhost:8080/"
        },
        "id": "cXIb28DN7Ihc",
        "outputId": "946fad61-56ad-412a-8e53-76ee45835d64"
      },
      "outputs": [
        {
          "data": {
            "text/plain": [
              "0     1.0\n",
              "1     2.0\n",
              "2     3.0\n",
              "3     5.0\n",
              "4     5.0\n",
              "5     6.0\n",
              "6     5.0\n",
              "7     8.0\n",
              "8     5.0\n",
              "9    10.0\n",
              "dtype: float64"
            ]
          },
          "execution_count": 75,
          "metadata": {},
          "output_type": "execute_result"
        }
      ],
      "source": [
        "# fillna\n",
        "temp.fillna(temp.mean())"
      ]
    },
    {
      "cell_type": "code",
      "execution_count": null,
      "metadata": {
        "id": "c0YUEwGY7J0g"
      },
      "outputs": [],
      "source": []
    },
    {
      "cell_type": "code",
      "execution_count": null,
      "metadata": {
        "colab": {
          "base_uri": "https://localhost:8080/"
        },
        "id": "PHKT_uv-7MBm",
        "outputId": "25426a86-3608-4380-f970-03084bbbe02b"
      },
      "outputs": [
        {
          "data": {
            "text/plain": [
              "match_no\n",
              "82    99\n",
              "86    49\n",
              "Name: runs, dtype: int64"
            ]
          },
          "execution_count": 79,
          "metadata": {},
          "output_type": "execute_result"
        }
      ],
      "source": [
        "# isin\n",
        "vk[(vk == 49) | (vk == 99)]"
      ]
    },
    {
      "cell_type": "code",
      "execution_count": null,
      "metadata": {
        "colab": {
          "base_uri": "https://localhost:8080/"
        },
        "id": "E1pFXMVc_evI",
        "outputId": "c037601a-f416-4ea1-e4cf-970e1f77f9fe"
      },
      "outputs": [
        {
          "data": {
            "text/plain": [
              "match_no\n",
              "82    99\n",
              "86    49\n",
              "Name: runs, dtype: int64"
            ]
          },
          "execution_count": 81,
          "metadata": {},
          "output_type": "execute_result"
        }
      ],
      "source": [
        "vk[vk.isin([49,99])]"
      ]
    },
    {
      "cell_type": "code",
      "execution_count": null,
      "metadata": {
        "id": "Z0G9VSBs7N-K"
      },
      "outputs": [],
      "source": []
    },
    {
      "cell_type": "code",
      "execution_count": null,
      "metadata": {
        "colab": {
          "base_uri": "https://localhost:8080/"
        },
        "id": "v7lsdckT7OOk",
        "outputId": "addf5280-e024-443b-988c-d1dd6f722dc2"
      },
      "outputs": [
        {
          "data": {
            "text/plain": [
              "movie\n",
              "Uri: The Surgical Strike                   Vicky Kaushal\n",
              "Battalion 609                                Vicky Ahuja\n",
              "The Accidental Prime Minister (film)         Anupam Kher\n",
              "Why Cheat India                            Emraan Hashmi\n",
              "Evening Shadows                         Mona Ambegaonkar\n",
              "                                              ...       \n",
              "Hum Tumhare Hain Sanam                    Shah Rukh Khan\n",
              "Aankhen (2002 film)                     Amitabh Bachchan\n",
              "Saathiya (film)                             Vivek Oberoi\n",
              "Company (film)                                Ajay Devgn\n",
              "Awara Paagal Deewana                        Akshay Kumar\n",
              "Name: lead, Length: 1500, dtype: object"
            ]
          },
          "execution_count": 82,
          "metadata": {},
          "output_type": "execute_result"
        }
      ],
      "source": [
        "# apply\n",
        "movies"
      ]
    },
    {
      "cell_type": "code",
      "execution_count": null,
      "metadata": {
        "colab": {
          "base_uri": "https://localhost:8080/"
        },
        "id": "ftFnrqOv7PDx",
        "outputId": "742036c3-de60-4c81-bd69-98d2e097a7a4"
      },
      "outputs": [
        {
          "data": {
            "text/plain": [
              "movie\n",
              "Uri: The Surgical Strike                  VICKY\n",
              "Battalion 609                             VICKY\n",
              "The Accidental Prime Minister (film)     ANUPAM\n",
              "Why Cheat India                          EMRAAN\n",
              "Evening Shadows                            MONA\n",
              "                                         ...   \n",
              "Hum Tumhare Hain Sanam                     SHAH\n",
              "Aankhen (2002 film)                     AMITABH\n",
              "Saathiya (film)                           VIVEK\n",
              "Company (film)                             AJAY\n",
              "Awara Paagal Deewana                     AKSHAY\n",
              "Name: lead, Length: 1500, dtype: object"
            ]
          },
          "execution_count": 85,
          "metadata": {},
          "output_type": "execute_result"
        }
      ],
      "source": [
        "movies.apply(lambda x:x.split()[0].upper())"
      ]
    },
    {
      "cell_type": "code",
      "execution_count": null,
      "metadata": {
        "colab": {
          "base_uri": "https://localhost:8080/"
        },
        "id": "a3_r2it57Pjw",
        "outputId": "775f2ab2-b5a6-46eb-f48a-22f7b044a604"
      },
      "outputs": [
        {
          "data": {
            "text/plain": [
              "0       48\n",
              "1       57\n",
              "2       40\n",
              "3       43\n",
              "4       44\n",
              "      ... \n",
              "360    231\n",
              "361    226\n",
              "362    155\n",
              "363    144\n",
              "364    172\n",
              "Name: Subscribers gained, Length: 365, dtype: int64"
            ]
          },
          "execution_count": 86,
          "metadata": {},
          "output_type": "execute_result"
        }
      ],
      "source": [
        "subs"
      ]
    },
    {
      "cell_type": "code",
      "execution_count": null,
      "metadata": {
        "colab": {
          "base_uri": "https://localhost:8080/"
        },
        "id": "evUNfB0bAQBk",
        "outputId": "eb6d4c04-381c-4715-97ec-03030458af44"
      },
      "outputs": [
        {
          "data": {
            "text/plain": [
              "0       bad day\n",
              "1       bad day\n",
              "2       bad day\n",
              "3       bad day\n",
              "4       bad day\n",
              "         ...   \n",
              "360    good day\n",
              "361    good day\n",
              "362    good day\n",
              "363    good day\n",
              "364    good day\n",
              "Name: Subscribers gained, Length: 365, dtype: object"
            ]
          },
          "execution_count": 88,
          "metadata": {},
          "output_type": "execute_result"
        }
      ],
      "source": [
        "subs.apply(lambda x:'good day' if x > subs.mean() else 'bad day')"
      ]
    },
    {
      "cell_type": "code",
      "execution_count": null,
      "metadata": {
        "colab": {
          "base_uri": "https://localhost:8080/"
        },
        "id": "vvE_nzCFAKRv",
        "outputId": "7a36986e-5b4d-4d69-b6e0-756ff4c296c5"
      },
      "outputs": [
        {
          "data": {
            "text/plain": [
              "135.64383561643837"
            ]
          },
          "execution_count": 87,
          "metadata": {},
          "output_type": "execute_result"
        }
      ],
      "source": [
        "subs.mean()"
      ]
    },
    {
      "cell_type": "code",
      "execution_count": null,
      "metadata": {
        "id": "91NkdlOi7QAi"
      },
      "outputs": [],
      "source": [
        "# copy"
      ]
    },
    {
      "cell_type": "code",
      "execution_count": null,
      "metadata": {
        "colab": {
          "base_uri": "https://localhost:8080/"
        },
        "id": "ZAsauZPA7RMY",
        "outputId": "74f05c82-86d4-4049-b4e1-69824bf7ed0e"
      },
      "outputs": [
        {
          "data": {
            "text/plain": [
              "match_no\n",
              "1       1\n",
              "2      23\n",
              "3      13\n",
              "4      12\n",
              "5       1\n",
              "       ..\n",
              "211     0\n",
              "212    20\n",
              "213    73\n",
              "214    25\n",
              "215     7\n",
              "Name: runs, Length: 215, dtype: int64"
            ]
          },
          "execution_count": 96,
          "metadata": {},
          "output_type": "execute_result"
        }
      ],
      "source": [
        "vk"
      ]
    },
    {
      "cell_type": "code",
      "execution_count": null,
      "metadata": {
        "id": "lVwkTIbOAnHH"
      },
      "outputs": [],
      "source": [
        "new = vk.head()"
      ]
    },
    {
      "cell_type": "code",
      "execution_count": null,
      "metadata": {
        "colab": {
          "base_uri": "https://localhost:8080/"
        },
        "id": "xKR8-xQ0Arwz",
        "outputId": "97cd21b4-9b11-4e58-e0df-20f493f524e4"
      },
      "outputs": [
        {
          "data": {
            "text/plain": [
              "match_no\n",
              "1     1\n",
              "2    23\n",
              "3    13\n",
              "4    12\n",
              "5     1\n",
              "Name: runs, dtype: int64"
            ]
          },
          "execution_count": 95,
          "metadata": {},
          "output_type": "execute_result"
        }
      ],
      "source": [
        "new"
      ]
    },
    {
      "cell_type": "code",
      "execution_count": null,
      "metadata": {
        "id": "LNfE3adFAwAD"
      },
      "outputs": [],
      "source": [
        "new[1] = 1"
      ]
    },
    {
      "cell_type": "code",
      "execution_count": null,
      "metadata": {
        "id": "e-nedIkNA0UW"
      },
      "outputs": [],
      "source": [
        "new = vk.head().copy()"
      ]
    },
    {
      "cell_type": "code",
      "execution_count": null,
      "metadata": {
        "id": "b2qEYZVEBIX3"
      },
      "outputs": [],
      "source": [
        "new[1] = 100"
      ]
    },
    {
      "cell_type": "code",
      "execution_count": null,
      "metadata": {
        "colab": {
          "base_uri": "https://localhost:8080/"
        },
        "id": "WCFl7LlnBNIt",
        "outputId": "53beac02-d390-47d0-b17a-8a0f5621dc4c"
      },
      "outputs": [
        {
          "data": {
            "text/plain": [
              "match_no\n",
              "1    100\n",
              "2     23\n",
              "3     13\n",
              "4     12\n",
              "5      1\n",
              "Name: runs, dtype: int64"
            ]
          },
          "execution_count": 102,
          "metadata": {},
          "output_type": "execute_result"
        }
      ],
      "source": [
        "new"
      ]
    },
    {
      "cell_type": "code",
      "execution_count": null,
      "metadata": {
        "colab": {
          "base_uri": "https://localhost:8080/"
        },
        "id": "mTrtCs7hBPx5",
        "outputId": "4894f63a-e4ac-44cd-a1bf-28d386ee2912"
      },
      "outputs": [
        {
          "data": {
            "text/plain": [
              "match_no\n",
              "1       1\n",
              "2      23\n",
              "3      13\n",
              "4      12\n",
              "5       1\n",
              "       ..\n",
              "211     0\n",
              "212    20\n",
              "213    73\n",
              "214    25\n",
              "215     7\n",
              "Name: runs, Length: 215, dtype: int64"
            ]
          },
          "execution_count": 103,
          "metadata": {},
          "output_type": "execute_result"
        }
      ],
      "source": [
        "vk"
      ]
    },
    {
      "cell_type": "code",
      "execution_count": null,
      "metadata": {
        "id": "92Amef7tBROO"
      },
      "outputs": [],
      "source": []
    }
  ],
  "metadata": {
    "colab": {
      "provenance": []
    },
    "kernelspec": {
      "display_name": "Python 3",
      "name": "python3"
    },
    "language_info": {
      "codemirror_mode": {
        "name": "ipython",
        "version": 3
      },
      "file_extension": ".py",
      "mimetype": "text/x-python",
      "name": "python",
      "nbconvert_exporter": "python",
      "pygments_lexer": "ipython3",
      "version": "3.11.3"
    }
  },
  "nbformat": 4,
  "nbformat_minor": 0
}
